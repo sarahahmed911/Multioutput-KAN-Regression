{
  "nbformat": 4,
  "nbformat_minor": 0,
  "metadata": {
    "colab": {
      "provenance": []
    },
    "kernelspec": {
      "name": "python3",
      "display_name": "Python 3"
    },
    "language_info": {
      "name": "python"
    }
  },
  "cells": [
    {
      "cell_type": "code",
      "source": [
        "import numpy as np # linear algebra\n",
        "import pandas as pd # data processing, CSV file I/O (e.g. pd.read_csv)\n",
        "import matplotlib.pyplot as plt\n",
        "import seaborn as sns\n",
        "import plotly.express as px\n",
        "import plotly.graph_objects as go\n",
        "from plotly.subplots import make_subplots"
      ],
      "metadata": {
        "id": "LXKNKXe6Tz9W"
      },
      "execution_count": null,
      "outputs": []
    },
    {
      "cell_type": "code",
      "source": [
        "from google.colab import drive\n",
        "drive.mount('/content/drive')"
      ],
      "metadata": {
        "colab": {
          "base_uri": "https://localhost:8080/"
        },
        "id": "bgtCSKUokkpc",
        "outputId": "3c682552-64d2-429d-aecd-cad7fed7050b"
      },
      "execution_count": null,
      "outputs": [
        {
          "output_type": "stream",
          "name": "stdout",
          "text": [
            "Drive already mounted at /content/drive; to attempt to forcibly remount, call drive.mount(\"/content/drive\", force_remount=True).\n"
          ]
        }
      ]
    },
    {
      "cell_type": "code",
      "source": [
        "!pip install liac-arff"
      ],
      "metadata": {
        "colab": {
          "base_uri": "https://localhost:8080/"
        },
        "id": "G_hPc_A5T4s7",
        "outputId": "ab8bedee-b9c5-4436-886a-80632351d199"
      },
      "execution_count": null,
      "outputs": [
        {
          "output_type": "stream",
          "name": "stdout",
          "text": [
            "Collecting liac-arff\n",
            "  Downloading liac-arff-2.5.0.tar.gz (13 kB)\n",
            "  Preparing metadata (setup.py) ... \u001b[?25l\u001b[?25hdone\n",
            "Building wheels for collected packages: liac-arff\n",
            "  Building wheel for liac-arff (setup.py) ... \u001b[?25l\u001b[?25hdone\n",
            "  Created wheel for liac-arff: filename=liac_arff-2.5.0-py3-none-any.whl size=11717 sha256=04427cca374f2dcf3eabb1d80802d57082deea5906c218a181e9ba65cf8bd85a\n",
            "  Stored in directory: /root/.cache/pip/wheels/5d/2a/9c/3895d9617f8f49a0883ba686326d598e78a1c2f54fe3cae86d\n",
            "Successfully built liac-arff\n",
            "Installing collected packages: liac-arff\n",
            "Successfully installed liac-arff-2.5.0\n"
          ]
        }
      ]
    },
    {
      "cell_type": "code",
      "execution_count": null,
      "metadata": {
        "colab": {
          "base_uri": "https://localhost:8080/"
        },
        "id": "bBzBB-RnSovf",
        "outputId": "56ecf563-6df8-4fc5-c949-0eb67c37c3dd"
      },
      "outputs": [
        {
          "output_type": "stream",
          "name": "stdout",
          "text": [
            "Cloning into 'pykan'...\n",
            "remote: Enumerating objects: 4113, done.\u001b[K\n",
            "remote: Counting objects: 100% (1682/1682), done.\u001b[K\n",
            "remote: Compressing objects: 100% (821/821), done.\u001b[K\n",
            "remote: Total 4113 (delta 984), reused 1480 (delta 858), pack-reused 2431 (from 1)\u001b[K\n",
            "Receiving objects: 100% (4113/4113), 114.41 MiB | 13.78 MiB/s, done.\n",
            "Resolving deltas: 100% (1523/1523), done.\n",
            "Obtaining file:///content\n",
            "\u001b[31mERROR: file:///content does not appear to be a Python project: neither 'setup.py' nor 'pyproject.toml' found.\u001b[0m\u001b[31m\n",
            "\u001b[0m"
          ]
        }
      ],
      "source": [
        "!git clone https://github.com/KindXiaoming/pykan.git\n",
        "!cd pykan\n",
        "!pip install -e ."
      ]
    },
    {
      "cell_type": "code",
      "source": [
        "!pip install pykan"
      ],
      "metadata": {
        "colab": {
          "base_uri": "https://localhost:8080/"
        },
        "id": "YbfvE9kbTMhQ",
        "outputId": "d91d9c81-e943-4b70-8475-75f6b13c91d9"
      },
      "execution_count": null,
      "outputs": [
        {
          "output_type": "stream",
          "name": "stdout",
          "text": [
            "Collecting pykan\n",
            "  Downloading pykan-0.2.6-py3-none-any.whl.metadata (11 kB)\n",
            "Downloading pykan-0.2.6-py3-none-any.whl (77 kB)\n",
            "\u001b[2K   \u001b[90m━━━━━━━━━━━━━━━━━━━━━━━━━━━━━━━━━━━━━━━━\u001b[0m \u001b[32m77.3/77.3 kB\u001b[0m \u001b[31m896.6 kB/s\u001b[0m eta \u001b[36m0:00:00\u001b[0m\n",
            "\u001b[?25hInstalling collected packages: pykan\n",
            "Successfully installed pykan-0.2.6\n"
          ]
        }
      ]
    },
    {
      "cell_type": "code",
      "source": [
        "import os\n",
        "import pandas as pd\n",
        "import arff\n",
        "import pandas as pd\n",
        "import numpy as np\n",
        "import matplotlib.pyplot as plt\n",
        "import seaborn as sns\n",
        "from sklearn import linear_model\n",
        "from sklearn.linear_model import LinearRegression\n",
        "from sklearn import metrics\n",
        "from sklearn.metrics import mean_squared_error, mean_absolute_error\n",
        "from sklearn.model_selection import train_test_split, cross_val_score\n",
        "from numpy import array\n",
        "from numpy import argmax\n",
        "from scipy import stats\n",
        "#from kan import *\n",
        "import torch\n",
        "import random\n",
        "from sklearn.preprocessing import StandardScaler\n",
        "from statsmodels.tools.eval_measures import rmse\n",
        "from sklearn.model_selection import KFold\n",
        "from sklearn.metrics import mean_squared_error\n",
        "from tabulate import tabulate\n",
        "from sklearn.preprocessing import LabelEncoder\n",
        "from sklearn.preprocessing import OneHotEncoder\n",
        "from sklearn.preprocessing import OrdinalEncoder\n",
        "#encoder = OrdinalEncoder()"
      ],
      "metadata": {
        "id": "M8ja0apJUDMo"
      },
      "execution_count": null,
      "outputs": []
    },
    {
      "cell_type": "code",
      "source": [
        "from sklearn.metrics import mean_squared_error\n",
        "#from sklearn.metrics import root_mean_squared_error\n",
        "def multi_rmse(y_test, y_pred):\n",
        " # Returns a full set of errors in case of multioutput input.\n",
        "  individual_values= mean_squared_error(y_test, y_pred, multioutput='raw_values',squared=False) #f True returns MSE value, if False returns RMSE value.\n",
        "  avg_values=mean_squared_error(y_test, y_pred, multioutput='uniform_average')\n",
        "  return individual_values, avg_values\n",
        "\n"
      ],
      "metadata": {
        "id": "2320M3IZB_62"
      },
      "execution_count": null,
      "outputs": []
    },
    {
      "cell_type": "code",
      "source": [
        "def relative_absolute_error(true, pred):\n",
        "    true_mean = np.mean(true)\n",
        "    squared_error_num = np.sum(np.abs(true - pred))\n",
        "    squared_error_den = np.sum(np.abs(true - true_mean))\n",
        "    rae_loss = squared_error_num / squared_error_den\n",
        "    return rae_loss"
      ],
      "metadata": {
        "id": "5JzAoPeOW-_j"
      },
      "execution_count": null,
      "outputs": []
    },
    {
      "cell_type": "code",
      "source": [],
      "metadata": {
        "id": "Swb4Hh8bfgQb"
      },
      "execution_count": null,
      "outputs": []
    },
    {
      "cell_type": "code",
      "source": [
        "import numpy as np\n",
        "import pandas as pd\n",
        "\n",
        "def aRRMSE3(y_true, y_pred):\n",
        "    \"\"\"\n",
        "    Compute average Relative Root Mean Squared Error (aRRMSE).\n",
        "\n",
        "    Args:\n",
        "        y_true: Ground truth values.\n",
        "        y_pred: Predicted values.\n",
        "\n",
        "    Returns:\n",
        "        Average Relative Root Mean Squared Error (aRRMSE).\n",
        "    \"\"\"\n",
        "    # Convert Pandas DataFrame to NumPy array if necessary\n",
        "    if isinstance(y_true, pd.DataFrame):\n",
        "        y_true = y_true.values\n",
        "    if isinstance(y_pred, pd.DataFrame):\n",
        "        y_pred = y_pred.values\n",
        "\n",
        "    num_targets = y_true.shape[1]\n",
        "    rrmses = np.zeros(num_targets)\n",
        "\n",
        "    for i in range(num_targets):\n",
        "        numerator = np.sum((y_true[:, i] - y_pred[:, i])**2)\n",
        "        denominator = np.sum((y_true[:, i] - np.mean(y_true[:, i]))**2)\n",
        "        if denominator == 0:\n",
        "            rrmses[i] = 0  # Handle cases where the denominator is zero\n",
        "        else:\n",
        "            rrmses[i] = np.sqrt(numerator / denominator)\n",
        "\n",
        "    # Compute the average RRMSE\n",
        "    a_rrmse = np.mean(rrmses)\n",
        "\n",
        "    return a_rrmse,rrmses"
      ],
      "metadata": {
        "id": "W7l92sMrkfR8"
      },
      "execution_count": null,
      "outputs": []
    },
    {
      "cell_type": "code",
      "source": [
        "def aRRMSE(y_true, y_pred):\n",
        "  \"\"\"\n",
        "  Calculates the average Relative Root Mean Squared Error (aRRMSE).\n",
        "\n",
        "  Args:\n",
        "    y_true: Array of true target values.\n",
        "    y_pred: Array of predicted target values.\n",
        "\n",
        "  Returns:\n",
        "    The aRRMSE value.\n",
        "  \"\"\"\n",
        "  num_targets = y_true.shape[1]\n",
        "  sum_rrmses = 0\n",
        "  for i in range(num_targets):\n",
        "    numerator = np.sum((y_true[:, i] - y_pred[:, i])**2)\n",
        "    denominator = np.sum((y_true[:, i] - np.mean(y_true[:, i]))**2)\n",
        "    if denominator == 0:\n",
        "      rrmses = 0  # Handle cases where the denominator is zero\n",
        "    else:\n",
        "      rrmses = np.sqrt(numerator / denominator)\n",
        "    sum_rrmses += rrmses\n",
        "  return sum_rrmses / num_targets"
      ],
      "metadata": {
        "id": "IebiAgX731xc"
      },
      "execution_count": null,
      "outputs": []
    },
    {
      "cell_type": "code",
      "source": [
        "import numpy as np\n",
        "\n",
        "def aRRMSE2(y_true, y_pred):\n",
        "    \"\"\"\n",
        "    Compute average Relative Root Mean Squared Error (aRRMSE).\n",
        "\n",
        "    Args:\n",
        "        y_true: Ground truth values.\n",
        "        y_pred: Predicted values.\n",
        "\n",
        "    Returns:\n",
        "        Average Relative Root Mean Squared Error (aRRMSE).\n",
        "    \"\"\"\n",
        "    # Convert Pandas DataFrame to NumPy array if necessary\n",
        "    if isinstance(y_true, pd.DataFrame):\n",
        "        y_true = y_true.values\n",
        "    if isinstance(y_pred, pd.DataFrame):\n",
        "        y_pred = y_pred.values\n",
        "\n",
        "    num_targets = y_true.shape[1]\n",
        "    sum_rrmses = 0\n",
        "    for i in range(num_targets):\n",
        "        numerator = np.sum((y_true[:, i] - y_pred[:, i])**2)\n",
        "        denominator = np.sum((y_true[:, i] - np.mean(y_true[:, i]))**2)\n",
        "        if denominator == 0:\n",
        "            rrmses = 0  # Handle cases where the denominator is zero\n",
        "        else:\n",
        "            rrmses = np.sqrt(numerator / denominator)\n",
        "        sum_rrmses += rrmses\n",
        "    return sum_rrmses / num_targets"
      ],
      "metadata": {
        "id": "9DDriEU83kEd"
      },
      "execution_count": null,
      "outputs": []
    },
    {
      "cell_type": "code",
      "source": [
        "with open('/content/drive/MyDrive/mulan_data/edm.arff', 'r') as f:\n",
        "  data= arff.load(f)\n",
        "  df = pd.DataFrame(data['data'])\n",
        "print (df)"
      ],
      "metadata": {
        "colab": {
          "base_uri": "https://localhost:8080/"
        },
        "id": "BJhE4BPRURQ7",
        "outputId": "91df6a36-8a91-4257-d3fb-c387baf9bf98"
      },
      "execution_count": null,
      "outputs": [
        {
          "output_type": "stream",
          "name": "stdout",
          "text": [
            "       0     1     2     3     4     5     6     7     8     9     10    11  \\\n",
            "0   -4.86  0.04  0.33  0.13  5.83  0.15  0.97  0.03 -4.85  0.15  0.27  0.16   \n",
            "1   -4.86  0.04  0.33  0.13  5.83  0.15  0.97  0.03 -4.85  0.15  0.27  0.16   \n",
            "2   -4.86  0.04  0.33  0.13  5.83  0.15  0.97  0.03 -4.85  0.15  0.27  0.16   \n",
            "3   -4.68  0.10  0.59  0.17  5.56  0.14  1.82  0.34 -4.75  0.13  0.43  0.19   \n",
            "4   -4.68  0.10  0.59  0.17  5.56  0.14  1.82  0.34 -4.75  0.13  0.43  0.19   \n",
            "..    ...   ...   ...   ...   ...   ...   ...   ...   ...   ...   ...   ...   \n",
            "149 -4.64  0.01  1.12  0.01  5.17  0.06  2.84  0.07 -4.65  0.08  0.98  0.28   \n",
            "150 -4.63  0.01  1.13  0.00  5.13  0.01  2.73  0.01 -4.63  0.01  1.13  0.00   \n",
            "151 -4.62  0.01  1.13  0.00  5.12  0.00  2.51  0.02 -4.63  0.01  1.13  0.00   \n",
            "152 -4.63  0.01  1.13  0.00  5.29  0.06  2.77  0.00 -4.61  0.02  1.09  0.09   \n",
            "153 -4.65  0.01  1.13  0.00  5.23  0.05  2.78  0.01 -4.62  0.02  1.13  0.01   \n",
            "\n",
            "       12    13    14    15   16   17  \n",
            "0    5.67  0.36  1.07  0.39  0.0  1.0  \n",
            "1    5.67  0.36  1.07  0.39  0.0  1.0  \n",
            "2    5.67  0.36  1.07  0.39  0.0  1.0  \n",
            "3    5.73  0.21  1.38  0.41  1.0  0.0  \n",
            "4    5.73  0.21  1.38  0.41  1.0  0.0  \n",
            "..    ...   ...   ...   ...  ...  ...  \n",
            "149  5.29  0.27  2.49  0.53  0.0  0.0  \n",
            "150  5.14  0.02  2.69  0.09  0.0  0.0  \n",
            "151  5.12  0.01  2.61  0.10  0.0 -1.0  \n",
            "152  5.34  0.18  2.75  0.10  0.0  1.0  \n",
            "153  5.25  0.07  2.76  0.07  0.0  1.0  \n",
            "\n",
            "[154 rows x 18 columns]\n"
          ]
        }
      ]
    },
    {
      "cell_type": "code",
      "source": [
        "Data_index =df.iloc[:, :16]\n",
        "label_index=df.iloc[:,16:18]\n",
        "# Standardize the data\n",
        "scaler = StandardScaler()\n",
        "X_scaled = scaler.fit_transform(Data_index.values)"
      ],
      "metadata": {
        "id": "pa3-K5KYUayc"
      },
      "execution_count": null,
      "outputs": []
    },
    {
      "cell_type": "code",
      "source": [
        "label_index"
      ],
      "metadata": {
        "colab": {
          "base_uri": "https://localhost:8080/",
          "height": 424
        },
        "id": "IEVOOIPNsRr4",
        "outputId": "e395d79c-1f9c-4ebe-cbfd-3055bce31c36"
      },
      "execution_count": null,
      "outputs": [
        {
          "output_type": "execute_result",
          "data": {
            "text/plain": [
              "       411     412    413    414    415    416\n",
              "0    788.0  1339.0  853.0  853.0  788.0  853.0\n",
              "1    788.0  1339.0  853.0  853.0  788.0  853.0\n",
              "2    788.0  1339.0  853.0  853.0  788.0  853.0\n",
              "3    336.0   675.0  631.0  587.0  336.0  587.0\n",
              "4    336.0   675.0  631.0  587.0  336.0  587.0\n",
              "..     ...     ...    ...    ...    ...    ...\n",
              "332  258.0   372.0  496.0  513.0  258.0  513.0\n",
              "333  248.0   395.0  406.0  473.0  268.0  473.0\n",
              "334  248.0   395.0  406.0  473.0  268.0  473.0\n",
              "335  248.0   299.0  406.0  450.0  268.0  450.0\n",
              "336  248.0   299.0  406.0  450.0  258.0  450.0\n",
              "\n",
              "[337 rows x 6 columns]"
            ],
            "text/html": [
              "\n",
              "  <div id=\"df-2edbc76a-29c7-40c2-8e7c-321783a7880c\" class=\"colab-df-container\">\n",
              "    <div>\n",
              "<style scoped>\n",
              "    .dataframe tbody tr th:only-of-type {\n",
              "        vertical-align: middle;\n",
              "    }\n",
              "\n",
              "    .dataframe tbody tr th {\n",
              "        vertical-align: top;\n",
              "    }\n",
              "\n",
              "    .dataframe thead th {\n",
              "        text-align: right;\n",
              "    }\n",
              "</style>\n",
              "<table border=\"1\" class=\"dataframe\">\n",
              "  <thead>\n",
              "    <tr style=\"text-align: right;\">\n",
              "      <th></th>\n",
              "      <th>411</th>\n",
              "      <th>412</th>\n",
              "      <th>413</th>\n",
              "      <th>414</th>\n",
              "      <th>415</th>\n",
              "      <th>416</th>\n",
              "    </tr>\n",
              "  </thead>\n",
              "  <tbody>\n",
              "    <tr>\n",
              "      <th>0</th>\n",
              "      <td>788.0</td>\n",
              "      <td>1339.0</td>\n",
              "      <td>853.0</td>\n",
              "      <td>853.0</td>\n",
              "      <td>788.0</td>\n",
              "      <td>853.0</td>\n",
              "    </tr>\n",
              "    <tr>\n",
              "      <th>1</th>\n",
              "      <td>788.0</td>\n",
              "      <td>1339.0</td>\n",
              "      <td>853.0</td>\n",
              "      <td>853.0</td>\n",
              "      <td>788.0</td>\n",
              "      <td>853.0</td>\n",
              "    </tr>\n",
              "    <tr>\n",
              "      <th>2</th>\n",
              "      <td>788.0</td>\n",
              "      <td>1339.0</td>\n",
              "      <td>853.0</td>\n",
              "      <td>853.0</td>\n",
              "      <td>788.0</td>\n",
              "      <td>853.0</td>\n",
              "    </tr>\n",
              "    <tr>\n",
              "      <th>3</th>\n",
              "      <td>336.0</td>\n",
              "      <td>675.0</td>\n",
              "      <td>631.0</td>\n",
              "      <td>587.0</td>\n",
              "      <td>336.0</td>\n",
              "      <td>587.0</td>\n",
              "    </tr>\n",
              "    <tr>\n",
              "      <th>4</th>\n",
              "      <td>336.0</td>\n",
              "      <td>675.0</td>\n",
              "      <td>631.0</td>\n",
              "      <td>587.0</td>\n",
              "      <td>336.0</td>\n",
              "      <td>587.0</td>\n",
              "    </tr>\n",
              "    <tr>\n",
              "      <th>...</th>\n",
              "      <td>...</td>\n",
              "      <td>...</td>\n",
              "      <td>...</td>\n",
              "      <td>...</td>\n",
              "      <td>...</td>\n",
              "      <td>...</td>\n",
              "    </tr>\n",
              "    <tr>\n",
              "      <th>332</th>\n",
              "      <td>258.0</td>\n",
              "      <td>372.0</td>\n",
              "      <td>496.0</td>\n",
              "      <td>513.0</td>\n",
              "      <td>258.0</td>\n",
              "      <td>513.0</td>\n",
              "    </tr>\n",
              "    <tr>\n",
              "      <th>333</th>\n",
              "      <td>248.0</td>\n",
              "      <td>395.0</td>\n",
              "      <td>406.0</td>\n",
              "      <td>473.0</td>\n",
              "      <td>268.0</td>\n",
              "      <td>473.0</td>\n",
              "    </tr>\n",
              "    <tr>\n",
              "      <th>334</th>\n",
              "      <td>248.0</td>\n",
              "      <td>395.0</td>\n",
              "      <td>406.0</td>\n",
              "      <td>473.0</td>\n",
              "      <td>268.0</td>\n",
              "      <td>473.0</td>\n",
              "    </tr>\n",
              "    <tr>\n",
              "      <th>335</th>\n",
              "      <td>248.0</td>\n",
              "      <td>299.0</td>\n",
              "      <td>406.0</td>\n",
              "      <td>450.0</td>\n",
              "      <td>268.0</td>\n",
              "      <td>450.0</td>\n",
              "    </tr>\n",
              "    <tr>\n",
              "      <th>336</th>\n",
              "      <td>248.0</td>\n",
              "      <td>299.0</td>\n",
              "      <td>406.0</td>\n",
              "      <td>450.0</td>\n",
              "      <td>258.0</td>\n",
              "      <td>450.0</td>\n",
              "    </tr>\n",
              "  </tbody>\n",
              "</table>\n",
              "<p>337 rows × 6 columns</p>\n",
              "</div>\n",
              "    <div class=\"colab-df-buttons\">\n",
              "\n",
              "  <div class=\"colab-df-container\">\n",
              "    <button class=\"colab-df-convert\" onclick=\"convertToInteractive('df-2edbc76a-29c7-40c2-8e7c-321783a7880c')\"\n",
              "            title=\"Convert this dataframe to an interactive table.\"\n",
              "            style=\"display:none;\">\n",
              "\n",
              "  <svg xmlns=\"http://www.w3.org/2000/svg\" height=\"24px\" viewBox=\"0 -960 960 960\">\n",
              "    <path d=\"M120-120v-720h720v720H120Zm60-500h600v-160H180v160Zm220 220h160v-160H400v160Zm0 220h160v-160H400v160ZM180-400h160v-160H180v160Zm440 0h160v-160H620v160ZM180-180h160v-160H180v160Zm440 0h160v-160H620v160Z\"/>\n",
              "  </svg>\n",
              "    </button>\n",
              "\n",
              "  <style>\n",
              "    .colab-df-container {\n",
              "      display:flex;\n",
              "      gap: 12px;\n",
              "    }\n",
              "\n",
              "    .colab-df-convert {\n",
              "      background-color: #E8F0FE;\n",
              "      border: none;\n",
              "      border-radius: 50%;\n",
              "      cursor: pointer;\n",
              "      display: none;\n",
              "      fill: #1967D2;\n",
              "      height: 32px;\n",
              "      padding: 0 0 0 0;\n",
              "      width: 32px;\n",
              "    }\n",
              "\n",
              "    .colab-df-convert:hover {\n",
              "      background-color: #E2EBFA;\n",
              "      box-shadow: 0px 1px 2px rgba(60, 64, 67, 0.3), 0px 1px 3px 1px rgba(60, 64, 67, 0.15);\n",
              "      fill: #174EA6;\n",
              "    }\n",
              "\n",
              "    .colab-df-buttons div {\n",
              "      margin-bottom: 4px;\n",
              "    }\n",
              "\n",
              "    [theme=dark] .colab-df-convert {\n",
              "      background-color: #3B4455;\n",
              "      fill: #D2E3FC;\n",
              "    }\n",
              "\n",
              "    [theme=dark] .colab-df-convert:hover {\n",
              "      background-color: #434B5C;\n",
              "      box-shadow: 0px 1px 3px 1px rgba(0, 0, 0, 0.15);\n",
              "      filter: drop-shadow(0px 1px 2px rgba(0, 0, 0, 0.3));\n",
              "      fill: #FFFFFF;\n",
              "    }\n",
              "  </style>\n",
              "\n",
              "    <script>\n",
              "      const buttonEl =\n",
              "        document.querySelector('#df-2edbc76a-29c7-40c2-8e7c-321783a7880c button.colab-df-convert');\n",
              "      buttonEl.style.display =\n",
              "        google.colab.kernel.accessAllowed ? 'block' : 'none';\n",
              "\n",
              "      async function convertToInteractive(key) {\n",
              "        const element = document.querySelector('#df-2edbc76a-29c7-40c2-8e7c-321783a7880c');\n",
              "        const dataTable =\n",
              "          await google.colab.kernel.invokeFunction('convertToInteractive',\n",
              "                                                    [key], {});\n",
              "        if (!dataTable) return;\n",
              "\n",
              "        const docLinkHtml = 'Like what you see? Visit the ' +\n",
              "          '<a target=\"_blank\" href=https://colab.research.google.com/notebooks/data_table.ipynb>data table notebook</a>'\n",
              "          + ' to learn more about interactive tables.';\n",
              "        element.innerHTML = '';\n",
              "        dataTable['output_type'] = 'display_data';\n",
              "        await google.colab.output.renderOutput(dataTable, element);\n",
              "        const docLink = document.createElement('div');\n",
              "        docLink.innerHTML = docLinkHtml;\n",
              "        element.appendChild(docLink);\n",
              "      }\n",
              "    </script>\n",
              "  </div>\n",
              "\n",
              "\n",
              "<div id=\"df-5cc4bfe3-3493-42d4-b597-5c73a5004c0f\">\n",
              "  <button class=\"colab-df-quickchart\" onclick=\"quickchart('df-5cc4bfe3-3493-42d4-b597-5c73a5004c0f')\"\n",
              "            title=\"Suggest charts\"\n",
              "            style=\"display:none;\">\n",
              "\n",
              "<svg xmlns=\"http://www.w3.org/2000/svg\" height=\"24px\"viewBox=\"0 0 24 24\"\n",
              "     width=\"24px\">\n",
              "    <g>\n",
              "        <path d=\"M19 3H5c-1.1 0-2 .9-2 2v14c0 1.1.9 2 2 2h14c1.1 0 2-.9 2-2V5c0-1.1-.9-2-2-2zM9 17H7v-7h2v7zm4 0h-2V7h2v10zm4 0h-2v-4h2v4z\"/>\n",
              "    </g>\n",
              "</svg>\n",
              "  </button>\n",
              "\n",
              "<style>\n",
              "  .colab-df-quickchart {\n",
              "      --bg-color: #E8F0FE;\n",
              "      --fill-color: #1967D2;\n",
              "      --hover-bg-color: #E2EBFA;\n",
              "      --hover-fill-color: #174EA6;\n",
              "      --disabled-fill-color: #AAA;\n",
              "      --disabled-bg-color: #DDD;\n",
              "  }\n",
              "\n",
              "  [theme=dark] .colab-df-quickchart {\n",
              "      --bg-color: #3B4455;\n",
              "      --fill-color: #D2E3FC;\n",
              "      --hover-bg-color: #434B5C;\n",
              "      --hover-fill-color: #FFFFFF;\n",
              "      --disabled-bg-color: #3B4455;\n",
              "      --disabled-fill-color: #666;\n",
              "  }\n",
              "\n",
              "  .colab-df-quickchart {\n",
              "    background-color: var(--bg-color);\n",
              "    border: none;\n",
              "    border-radius: 50%;\n",
              "    cursor: pointer;\n",
              "    display: none;\n",
              "    fill: var(--fill-color);\n",
              "    height: 32px;\n",
              "    padding: 0;\n",
              "    width: 32px;\n",
              "  }\n",
              "\n",
              "  .colab-df-quickchart:hover {\n",
              "    background-color: var(--hover-bg-color);\n",
              "    box-shadow: 0 1px 2px rgba(60, 64, 67, 0.3), 0 1px 3px 1px rgba(60, 64, 67, 0.15);\n",
              "    fill: var(--button-hover-fill-color);\n",
              "  }\n",
              "\n",
              "  .colab-df-quickchart-complete:disabled,\n",
              "  .colab-df-quickchart-complete:disabled:hover {\n",
              "    background-color: var(--disabled-bg-color);\n",
              "    fill: var(--disabled-fill-color);\n",
              "    box-shadow: none;\n",
              "  }\n",
              "\n",
              "  .colab-df-spinner {\n",
              "    border: 2px solid var(--fill-color);\n",
              "    border-color: transparent;\n",
              "    border-bottom-color: var(--fill-color);\n",
              "    animation:\n",
              "      spin 1s steps(1) infinite;\n",
              "  }\n",
              "\n",
              "  @keyframes spin {\n",
              "    0% {\n",
              "      border-color: transparent;\n",
              "      border-bottom-color: var(--fill-color);\n",
              "      border-left-color: var(--fill-color);\n",
              "    }\n",
              "    20% {\n",
              "      border-color: transparent;\n",
              "      border-left-color: var(--fill-color);\n",
              "      border-top-color: var(--fill-color);\n",
              "    }\n",
              "    30% {\n",
              "      border-color: transparent;\n",
              "      border-left-color: var(--fill-color);\n",
              "      border-top-color: var(--fill-color);\n",
              "      border-right-color: var(--fill-color);\n",
              "    }\n",
              "    40% {\n",
              "      border-color: transparent;\n",
              "      border-right-color: var(--fill-color);\n",
              "      border-top-color: var(--fill-color);\n",
              "    }\n",
              "    60% {\n",
              "      border-color: transparent;\n",
              "      border-right-color: var(--fill-color);\n",
              "    }\n",
              "    80% {\n",
              "      border-color: transparent;\n",
              "      border-right-color: var(--fill-color);\n",
              "      border-bottom-color: var(--fill-color);\n",
              "    }\n",
              "    90% {\n",
              "      border-color: transparent;\n",
              "      border-bottom-color: var(--fill-color);\n",
              "    }\n",
              "  }\n",
              "</style>\n",
              "\n",
              "  <script>\n",
              "    async function quickchart(key) {\n",
              "      const quickchartButtonEl =\n",
              "        document.querySelector('#' + key + ' button');\n",
              "      quickchartButtonEl.disabled = true;  // To prevent multiple clicks.\n",
              "      quickchartButtonEl.classList.add('colab-df-spinner');\n",
              "      try {\n",
              "        const charts = await google.colab.kernel.invokeFunction(\n",
              "            'suggestCharts', [key], {});\n",
              "      } catch (error) {\n",
              "        console.error('Error during call to suggestCharts:', error);\n",
              "      }\n",
              "      quickchartButtonEl.classList.remove('colab-df-spinner');\n",
              "      quickchartButtonEl.classList.add('colab-df-quickchart-complete');\n",
              "    }\n",
              "    (() => {\n",
              "      let quickchartButtonEl =\n",
              "        document.querySelector('#df-5cc4bfe3-3493-42d4-b597-5c73a5004c0f button');\n",
              "      quickchartButtonEl.style.display =\n",
              "        google.colab.kernel.accessAllowed ? 'block' : 'none';\n",
              "    })();\n",
              "  </script>\n",
              "</div>\n",
              "\n",
              "  <div id=\"id_41372b01-963f-4507-8144-9b13c2cac33b\">\n",
              "    <style>\n",
              "      .colab-df-generate {\n",
              "        background-color: #E8F0FE;\n",
              "        border: none;\n",
              "        border-radius: 50%;\n",
              "        cursor: pointer;\n",
              "        display: none;\n",
              "        fill: #1967D2;\n",
              "        height: 32px;\n",
              "        padding: 0 0 0 0;\n",
              "        width: 32px;\n",
              "      }\n",
              "\n",
              "      .colab-df-generate:hover {\n",
              "        background-color: #E2EBFA;\n",
              "        box-shadow: 0px 1px 2px rgba(60, 64, 67, 0.3), 0px 1px 3px 1px rgba(60, 64, 67, 0.15);\n",
              "        fill: #174EA6;\n",
              "      }\n",
              "\n",
              "      [theme=dark] .colab-df-generate {\n",
              "        background-color: #3B4455;\n",
              "        fill: #D2E3FC;\n",
              "      }\n",
              "\n",
              "      [theme=dark] .colab-df-generate:hover {\n",
              "        background-color: #434B5C;\n",
              "        box-shadow: 0px 1px 3px 1px rgba(0, 0, 0, 0.15);\n",
              "        filter: drop-shadow(0px 1px 2px rgba(0, 0, 0, 0.3));\n",
              "        fill: #FFFFFF;\n",
              "      }\n",
              "    </style>\n",
              "    <button class=\"colab-df-generate\" onclick=\"generateWithVariable('label_index')\"\n",
              "            title=\"Generate code using this dataframe.\"\n",
              "            style=\"display:none;\">\n",
              "\n",
              "  <svg xmlns=\"http://www.w3.org/2000/svg\" height=\"24px\"viewBox=\"0 0 24 24\"\n",
              "       width=\"24px\">\n",
              "    <path d=\"M7,19H8.4L18.45,9,17,7.55,7,17.6ZM5,21V16.75L18.45,3.32a2,2,0,0,1,2.83,0l1.4,1.43a1.91,1.91,0,0,1,.58,1.4,1.91,1.91,0,0,1-.58,1.4L9.25,21ZM18.45,9,17,7.55Zm-12,3A5.31,5.31,0,0,0,4.9,8.1,5.31,5.31,0,0,0,1,6.5,5.31,5.31,0,0,0,4.9,4.9,5.31,5.31,0,0,0,6.5,1,5.31,5.31,0,0,0,8.1,4.9,5.31,5.31,0,0,0,12,6.5,5.46,5.46,0,0,0,6.5,12Z\"/>\n",
              "  </svg>\n",
              "    </button>\n",
              "    <script>\n",
              "      (() => {\n",
              "      const buttonEl =\n",
              "        document.querySelector('#id_41372b01-963f-4507-8144-9b13c2cac33b button.colab-df-generate');\n",
              "      buttonEl.style.display =\n",
              "        google.colab.kernel.accessAllowed ? 'block' : 'none';\n",
              "\n",
              "      buttonEl.onclick = () => {\n",
              "        google.colab.notebook.generateWithVariable('label_index');\n",
              "      }\n",
              "      })();\n",
              "    </script>\n",
              "  </div>\n",
              "\n",
              "    </div>\n",
              "  </div>\n"
            ],
            "application/vnd.google.colaboratory.intrinsic+json": {
              "type": "dataframe",
              "variable_name": "label_index",
              "summary": "{\n  \"name\": \"label_index\",\n  \"rows\": 337,\n  \"fields\": [\n    {\n      \"column\": 411,\n      \"properties\": {\n        \"dtype\": \"number\",\n        \"std\": 101.55040039718226,\n        \"min\": 198.0,\n        \"max\": 788.0,\n        \"num_unique_values\": 83,\n        \"samples\": [\n          298.0,\n          788.0,\n          277.0\n        ],\n        \"semantic_type\": \"\",\n        \"description\": \"\"\n      }\n    },\n    {\n      \"column\": 412,\n      \"properties\": {\n        \"dtype\": \"number\",\n        \"std\": 250.68987247720946,\n        \"min\": 199.0,\n        \"max\": 1349.0,\n        \"num_unique_values\": 61,\n        \"samples\": [\n          1339.0,\n          1187.0,\n          420.0\n        ],\n        \"semantic_type\": \"\",\n        \"description\": \"\"\n      }\n    },\n    {\n      \"column\": 413,\n      \"properties\": {\n        \"dtype\": \"number\",\n        \"std\": 184.05483877364554,\n        \"min\": 198.0,\n        \"max\": 1151.0,\n        \"num_unique_values\": 89,\n        \"samples\": [\n          385.0,\n          455.0,\n          923.0\n        ],\n        \"semantic_type\": \"\",\n        \"description\": \"\"\n      }\n    },\n    {\n      \"column\": 414,\n      \"properties\": {\n        \"dtype\": \"number\",\n        \"std\": 165.81455484832392,\n        \"min\": 299.0,\n        \"max\": 973.0,\n        \"num_unique_values\": 64,\n        \"samples\": [\n          404.0,\n          468.0,\n          853.0\n        ],\n        \"semantic_type\": \"\",\n        \"description\": \"\"\n      }\n    },\n    {\n      \"column\": 415,\n      \"properties\": {\n        \"dtype\": \"number\",\n        \"std\": 119.97895691513799,\n        \"min\": 232.0,\n        \"max\": 794.0,\n        \"num_unique_values\": 89,\n        \"samples\": [\n          262.0,\n          258.0,\n          337.0\n        ],\n        \"semantic_type\": \"\",\n        \"description\": \"\"\n      }\n    },\n    {\n      \"column\": 416,\n      \"properties\": {\n        \"dtype\": \"number\",\n        \"std\": 173.67287742103744,\n        \"min\": 278.0,\n        \"max\": 1088.0,\n        \"num_unique_values\": 61,\n        \"samples\": [\n          853.0,\n          319.0,\n          425.0\n        ],\n        \"semantic_type\": \"\",\n        \"description\": \"\"\n      }\n    }\n  ]\n}"
            }
          },
          "metadata": {},
          "execution_count": 18
        }
      ]
    },
    {
      "cell_type": "code",
      "source": [
        "from kan import *\n",
        "import torch\n",
        "\n"
      ],
      "metadata": {
        "id": "Xa_G_4yOTQ34"
      },
      "execution_count": null,
      "outputs": []
    },
    {
      "cell_type": "code",
      "source": [
        "+"
      ],
      "metadata": {
        "id": "-h-Elnlcb71Z"
      },
      "execution_count": null,
      "outputs": []
    },
    {
      "cell_type": "code",
      "source": [
        "import torch\n",
        "from sklearn.metrics import r2_score\n",
        "\n",
        "# Split the data into individual targets\n",
        "device = torch.device(\"cuda\" if torch.cuda.is_available() else \"cpu\")\n",
        "model = KAN(width=[16,5,1], grid=3, k=2, seed=1, device=device)\n",
        "\n",
        "avg_values = {}\n",
        "\n",
        "for i in range(label_index.shape[1]):\n",
        "    y = label_index.iloc[:, i]\n",
        "    armse = []\n",
        "    armse1 = []\n",
        "    r2 = []\n",
        "\n",
        "    # Define the KFold object\n",
        "    kf = KFold(n_splits=10, shuffle=True, random_state=42)\n",
        "\n",
        "    for train_index, test_index in kf.split(X_scaled):\n",
        "        X_train, X_test = X_scaled[train_index], X_scaled[test_index]\n",
        "        y_train, y_test = y.iloc[train_index], y.iloc[test_index]\n",
        "\n",
        "        # Convert to tensors\n",
        "        X_train_tensor = torch.tensor(X_train, dtype=torch.float32)\n",
        "        y_train_tensor = torch.tensor(y_train.values, dtype=torch.float32)\n",
        "        X_test_tensor = torch.tensor(X_test, dtype=torch.float32)\n",
        "        y_test_tensor = torch.tensor(y_test.values, dtype=torch.float32)\n",
        "\n",
        "        # Convert to a dataset format required by KAN\n",
        "        dataset = {\n",
        "            'train_input': X_train_tensor,\n",
        "            'train_label': y_train_tensor,\n",
        "            'test_input': X_test_tensor,\n",
        "            'test_label': y_test_tensor\n",
        "        }\n",
        "\n",
        "        model.fit(dataset, opt=\"LBFGS\", steps=5)\n",
        "\n",
        "        # Make predictions\n",
        "        with torch.no_grad():\n",
        "            y_pred = model(X_test_tensor)\n",
        "            y_pred = y_pred.detach().numpy()\n",
        "            y_test_target1 = y_test.values.reshape(y_test.shape[0], 1)\n",
        "            arm, arm1 = aRRMSE3(y_test_target1, y_pred)\n",
        "            r = r2_score(y_test_target1, y_pred, force_finite=True)\n",
        "\n",
        "        armse.append(arm)\n",
        "        armse1.append(arm1)\n",
        "        r2.append(r)\n",
        "\n",
        "    # Calculate average scores for each label\n",
        "    avg_armse = sum(armse) / len(armse)\n",
        "    avg_armse1 = sum(armse1) / len(armse1)\n",
        "    avg_r2 = sum(r2) / len(r2)\n",
        "\n",
        "    # Store average values in the dictionary\n",
        "    avg_values[f'label_{i+1}'] = {\n",
        "        'avg_armse': avg_armse,\n",
        "        'avg_armse1': avg_armse1,\n",
        "        'avg_r2': avg_r2\n",
        "    }\n",
        "\n",
        "    # Create a dictionary to store the results for each fold\n",
        "    fold_values = {}\n",
        "    for j in range(kf.n_splits):\n",
        "        fold_values[f'fold_{j+1}'] = {\n",
        "            'armse': armse[j],\n",
        "            'armse1': armse1[j],\n",
        "            'r2': r2[j]\n",
        "        }\n",
        "\n",
        "    # Store fold values in the main dictionary\n",
        "    avg_values[f'label_{i+1}']['fold_values'] = fold_values"
      ],
      "metadata": {
        "colab": {
          "base_uri": "https://localhost:8080/"
        },
        "id": "BMDUUNJaUjtF",
        "outputId": "d2bab425-da2b-499d-e1ab-a825fe54730f"
      },
      "execution_count": null,
      "outputs": [
        {
          "output_type": "stream",
          "name": "stdout",
          "text": [
            "checkpoint directory created: ./model\n",
            "saving model version 0.0\n"
          ]
        },
        {
          "output_type": "stream",
          "name": "stderr",
          "text": [
            "| train_loss: 4.05e-01 | test_loss: 3.32e-01 | reg: 1.12e+01 | : 100%|█| 5/5 [00:03<00:00,  1.30it/s\n"
          ]
        },
        {
          "output_type": "stream",
          "name": "stdout",
          "text": [
            "saving model version 0.1\n"
          ]
        },
        {
          "output_type": "stream",
          "name": "stderr",
          "text": [
            "| train_loss: 3.89e-01 | test_loss: 4.67e-01 | reg: 1.10e+01 | : 100%|█| 5/5 [00:00<00:00,  5.77it/s\n"
          ]
        },
        {
          "output_type": "stream",
          "name": "stdout",
          "text": [
            "saving model version 0.2\n"
          ]
        },
        {
          "output_type": "stream",
          "name": "stderr",
          "text": [
            "| train_loss: 3.79e-01 | test_loss: 5.35e-01 | reg: 1.10e+01 | : 100%|█| 5/5 [00:00<00:00,  6.76it/s\n"
          ]
        },
        {
          "output_type": "stream",
          "name": "stdout",
          "text": [
            "saving model version 0.3\n"
          ]
        },
        {
          "output_type": "stream",
          "name": "stderr",
          "text": [
            "| train_loss: 3.94e-01 | test_loss: 4.31e-01 | reg: 1.11e+01 | : 100%|█| 5/5 [00:00<00:00, 10.71it/s\n"
          ]
        },
        {
          "output_type": "stream",
          "name": "stdout",
          "text": [
            "saving model version 0.4\n"
          ]
        },
        {
          "output_type": "stream",
          "name": "stderr",
          "text": [
            "| train_loss: 4.10e-01 | test_loss: 2.53e-01 | reg: 1.11e+01 | : 100%|█| 5/5 [00:00<00:00,  8.11it/s\n"
          ]
        },
        {
          "output_type": "stream",
          "name": "stdout",
          "text": [
            "saving model version 0.5\n"
          ]
        },
        {
          "output_type": "stream",
          "name": "stderr",
          "text": [
            "| train_loss: 3.96e-01 | test_loss: 4.14e-01 | reg: 1.10e+01 | : 100%|█| 5/5 [00:00<00:00,  8.62it/s\n"
          ]
        },
        {
          "output_type": "stream",
          "name": "stdout",
          "text": [
            "saving model version 0.6\n"
          ]
        },
        {
          "output_type": "stream",
          "name": "stderr",
          "text": [
            "| train_loss: 3.99e-01 | test_loss: 3.83e-01 | reg: 1.10e+01 | : 100%|█| 5/5 [00:00<00:00,  8.30it/s\n"
          ]
        },
        {
          "output_type": "stream",
          "name": "stdout",
          "text": [
            "saving model version 0.7\n"
          ]
        },
        {
          "output_type": "stream",
          "name": "stderr",
          "text": [
            "| train_loss: 4.03e-01 | test_loss: 3.42e-01 | reg: 1.10e+01 | : 100%|█| 5/5 [00:00<00:00, 18.13it/s\n"
          ]
        },
        {
          "output_type": "stream",
          "name": "stdout",
          "text": [
            "saving model version 0.8\n"
          ]
        },
        {
          "output_type": "stream",
          "name": "stderr",
          "text": [
            "| train_loss: 3.96e-01 | test_loss: 4.14e-01 | reg: 1.09e+01 | : 100%|█| 5/5 [00:00<00:00, 14.21it/s\n"
          ]
        },
        {
          "output_type": "stream",
          "name": "stdout",
          "text": [
            "saving model version 0.9\n"
          ]
        },
        {
          "output_type": "stream",
          "name": "stderr",
          "text": [
            "| train_loss: 4.03e-01 | test_loss: 3.42e-01 | reg: 1.10e+01 | : 100%|█| 5/5 [00:00<00:00, 10.53it/s\n"
          ]
        },
        {
          "output_type": "stream",
          "name": "stdout",
          "text": [
            "saving model version 0.10\n"
          ]
        },
        {
          "output_type": "stream",
          "name": "stderr",
          "text": [
            "| train_loss: 6.59e-01 | test_loss: 7.07e-01 | reg: 1.10e+01 | : 100%|█| 5/5 [00:00<00:00, 17.13it/s\n"
          ]
        },
        {
          "output_type": "stream",
          "name": "stdout",
          "text": [
            "saving model version 0.11\n"
          ]
        },
        {
          "output_type": "stream",
          "name": "stderr",
          "text": [
            "| train_loss: 6.70e-01 | test_loss: 6.18e-01 | reg: 1.09e+01 | : 100%|█| 5/5 [00:00<00:00, 14.07it/s\n"
          ]
        },
        {
          "output_type": "stream",
          "name": "stdout",
          "text": [
            "saving model version 0.12\n"
          ]
        },
        {
          "output_type": "stream",
          "name": "stderr",
          "text": [
            "| train_loss: 6.81e-01 | test_loss: 5.00e-01 | reg: 1.09e+01 | : 100%|█| 5/5 [00:00<00:00, 20.56it/s\n"
          ]
        },
        {
          "output_type": "stream",
          "name": "stdout",
          "text": [
            "saving model version 0.13\n"
          ]
        },
        {
          "output_type": "stream",
          "name": "stderr",
          "text": [
            "| train_loss: 6.54e-01 | test_loss: 7.52e-01 | reg: 1.10e+01 | : 100%|█| 5/5 [00:00<00:00, 12.59it/s\n"
          ]
        },
        {
          "output_type": "stream",
          "name": "stdout",
          "text": [
            "saving model version 0.14\n"
          ]
        },
        {
          "output_type": "stream",
          "name": "stderr",
          "text": [
            "| train_loss: 6.45e-01 | test_loss: 8.22e-01 | reg: 1.09e+01 | : 100%|█| 5/5 [00:00<00:00, 25.82it/s\n"
          ]
        },
        {
          "output_type": "stream",
          "name": "stdout",
          "text": [
            "saving model version 0.15\n"
          ]
        },
        {
          "output_type": "stream",
          "name": "stderr",
          "text": [
            "| train_loss: 6.73e-01 | test_loss: 5.80e-01 | reg: 1.09e+01 | : 100%|█| 5/5 [00:00<00:00, 10.97it/s\n"
          ]
        },
        {
          "output_type": "stream",
          "name": "stdout",
          "text": [
            "saving model version 0.16\n"
          ]
        },
        {
          "output_type": "stream",
          "name": "stderr",
          "text": [
            "| train_loss: 6.62e-01 | test_loss: 6.86e-01 | reg: 1.09e+01 | : 100%|█| 5/5 [00:00<00:00, 11.94it/s\n"
          ]
        },
        {
          "output_type": "stream",
          "name": "stdout",
          "text": [
            "saving model version 0.17\n"
          ]
        },
        {
          "output_type": "stream",
          "name": "stderr",
          "text": [
            "| train_loss: 6.57e-01 | test_loss: 7.30e-01 | reg: 1.09e+01 | : 100%|█| 5/5 [00:00<00:00, 19.42it/s\n"
          ]
        },
        {
          "output_type": "stream",
          "name": "stdout",
          "text": [
            "saving model version 0.18\n"
          ]
        },
        {
          "output_type": "stream",
          "name": "stderr",
          "text": [
            "| train_loss: 6.72e-01 | test_loss: 5.91e-01 | reg: 1.08e+01 | : 100%|█| 5/5 [00:00<00:00, 16.59it/s\n"
          ]
        },
        {
          "output_type": "stream",
          "name": "stdout",
          "text": [
            "saving model version 0.19\n"
          ]
        },
        {
          "output_type": "stream",
          "name": "stderr",
          "text": [
            "| train_loss: 6.68e-01 | test_loss: 6.33e-01 | reg: 1.09e+01 | : 100%|█| 5/5 [00:00<00:00, 13.24it/s\n"
          ]
        },
        {
          "output_type": "stream",
          "name": "stdout",
          "text": [
            "saving model version 0.20\n"
          ]
        }
      ]
    },
    {
      "cell_type": "code",
      "source": [
        "avg_values"
      ],
      "metadata": {
        "colab": {
          "base_uri": "https://localhost:8080/"
        },
        "id": "El_YaYWucFW1",
        "outputId": "113e0acd-7767-4a14-8588-9978dd547cd2"
      },
      "execution_count": null,
      "outputs": [
        {
          "output_type": "execute_result",
          "data": {
            "text/plain": [
              "{'label_1': {'avg_armse': 1.0250622572455523,\n",
              "  'avg_armse1': array([1.02506226]),\n",
              "  'avg_r2': -0.05144011648733904,\n",
              "  'fold_values': {'fold_1': {'armse': 1.0024701112352818,\n",
              "    'armse1': array([1.00247011]),\n",
              "    'r2': -0.0049463239200782105},\n",
              "   'fold_2': {'armse': 1.0891604530770287,\n",
              "    'armse1': array([1.08916045]),\n",
              "    'r2': -0.18627049254695827},\n",
              "   'fold_3': {'armse': 1.0132407430036743,\n",
              "    'armse1': array([1.01324074]),\n",
              "    'r2': -0.026656803282637975},\n",
              "   'fold_4': {'armse': 1.0055058340276146,\n",
              "    'armse1': array([1.00550583]),\n",
              "    'r2': -0.011041982263569006},\n",
              "   'fold_5': {'armse': 1.0138558935426831,\n",
              "    'armse1': array([1.01385589]),\n",
              "    'r2': -0.02790377287123258},\n",
              "   'fold_6': {'armse': 1.0345393814797854,\n",
              "    'armse1': array([1.03453938]),\n",
              "    'r2': -0.07027173183257718},\n",
              "   'fold_7': {'armse': 1.0486006977004307,\n",
              "    'armse1': array([1.0486007]),\n",
              "    'r2': -0.09956342321782996},\n",
              "   'fold_8': {'armse': 1.0041313518938633,\n",
              "    'armse1': array([1.00413135]),\n",
              "    'r2': -0.008279771856197549},\n",
              "   'fold_9': {'armse': 1.0348158052627572,\n",
              "    'armse1': array([1.03481581]),\n",
              "    'r2': -0.07084375082160843},\n",
              "   'fold_10': {'armse': 1.0043023012324035,\n",
              "    'armse1': array([1.0043023]),\n",
              "    'r2': -0.008623112260701227}}},\n",
              " 'label_2': {'avg_armse': 1.032041302052249,\n",
              "  'avg_armse1': array([1.0320413]),\n",
              "  'avg_r2': -0.06660961112273636,\n",
              "  'fold_values': {'fold_1': {'armse': 1.0000835821760063,\n",
              "    'armse1': array([1.00008358]),\n",
              "    'r2': -0.00016717133799293293},\n",
              "   'fold_2': {'armse': 1.106151583664405,\n",
              "    'armse1': array([1.10615158]),\n",
              "    'r2': -0.2235713260432708},\n",
              "   'fold_3': {'armse': 1.0005544178218733,\n",
              "    'armse1': array([1.00055442]),\n",
              "    'r2': -0.0011091430228675758},\n",
              "   'fold_4': {'armse': 1.0063840924997978,\n",
              "    'armse1': array([1.00638409]),\n",
              "    'r2': -0.01280894163664148},\n",
              "   'fold_5': {'armse': 1.0201045756771632,\n",
              "    'armse1': array([1.02010458]),\n",
              "    'r2': -0.04061334531748506},\n",
              "   'fold_6': {'armse': 1.0707178653668368,\n",
              "    'armse1': array([1.07071787]),\n",
              "    'r2': -0.14643674721571576},\n",
              "   'fold_7': {'armse': 1.0084466789258304,\n",
              "    'armse1': array([1.00844668]),\n",
              "    'r2': -0.016964704236536843},\n",
              "   'fold_8': {'armse': 1.017219499064909,\n",
              "    'armse1': array([1.0172195]),\n",
              "    'r2': -0.03473550927786451},\n",
              "   'fold_9': {'armse': 1.0904859235886617,\n",
              "    'armse1': array([1.09048592]),\n",
              "    'r2': -0.18915954954501668},\n",
              "   'fold_10': {'armse': 1.000264801737006,\n",
              "    'armse1': array([1.0002648]),\n",
              "    'r2': -0.0005296735939719355}}}}"
            ]
          },
          "metadata": {},
          "execution_count": 13
        }
      ]
    }
  ]
}