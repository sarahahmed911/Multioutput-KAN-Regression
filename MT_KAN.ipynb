{
  "cells": [
    {
      "cell_type": "code",
      "execution_count": null,
      "metadata": {
        "id": "Lxqc0XOsEui2"
      },
      "outputs": [],
      "source": [
        "import torch"
      ]
    },
    {
      "cell_type": "code",
      "execution_count": null,
      "metadata": {
        "id": "5AK8wUbg0SAL"
      },
      "outputs": [],
      "source": [
        "import numpy as np # linear algebra\n",
        "import pandas as pd # data processing, CSV file I/O (e.g. pd.read_csv)\n",
        "import matplotlib.pyplot as plt\n",
        "import seaborn as sns\n",
        "import plotly.express as px\n",
        "import plotly.graph_objects as go\n",
        "from plotly.subplots import make_subplots"
      ]
    },
    {
      "cell_type": "code",
      "execution_count": null,
      "metadata": {
        "colab": {
          "base_uri": "https://localhost:8080/"
        },
        "id": "uebZNJWp0f6z",
        "outputId": "6231fca1-527a-496f-e8d8-76e1ad6af58c"
      },
      "outputs": [
        {
          "output_type": "stream",
          "name": "stdout",
          "text": [
            "Collecting liac-arff\n",
            "  Downloading liac-arff-2.5.0.tar.gz (13 kB)\n",
            "  Preparing metadata (setup.py) ... \u001b[?25l\u001b[?25hdone\n",
            "Building wheels for collected packages: liac-arff\n",
            "  Building wheel for liac-arff (setup.py) ... \u001b[?25l\u001b[?25hdone\n",
            "  Created wheel for liac-arff: filename=liac_arff-2.5.0-py3-none-any.whl size=11716 sha256=c45d87538299c793a1218a12a48b08b48404e5624d88699f90a16a446d9744c1\n",
            "  Stored in directory: /root/.cache/pip/wheels/5d/2a/9c/3895d9617f8f49a0883ba686326d598e78a1c2f54fe3cae86d\n",
            "Successfully built liac-arff\n",
            "Installing collected packages: liac-arff\n",
            "Successfully installed liac-arff-2.5.0\n"
          ]
        }
      ],
      "source": [
        "!pip install liac-arff"
      ]
    },
    {
      "cell_type": "code",
      "execution_count": null,
      "metadata": {
        "id": "E39HB6bF0map"
      },
      "outputs": [],
      "source": [
        "import os\n",
        "import pandas as pd\n",
        "import arff\n",
        "import pandas as pd\n",
        "import numpy as np\n",
        "import matplotlib.pyplot as plt\n",
        "import seaborn as sns\n",
        "from sklearn import linear_model\n",
        "from sklearn.linear_model import LinearRegression\n",
        "from sklearn import metrics\n",
        "from sklearn.metrics import mean_squared_error, mean_absolute_error\n",
        "from sklearn.model_selection import train_test_split, cross_val_score\n",
        "from numpy import array\n",
        "from numpy import argmax\n",
        "from scipy import stats\n",
        "#from kan import *\n",
        "\n",
        "import random\n",
        "from sklearn.preprocessing import StandardScaler\n",
        "from statsmodels.tools.eval_measures import rmse\n",
        "from sklearn.model_selection import KFold\n",
        "from sklearn.metrics import mean_squared_error\n",
        "from tabulate import tabulate\n",
        "from sklearn.preprocessing import LabelEncoder\n",
        "from sklearn.preprocessing import OneHotEncoder\n",
        "from sklearn.preprocessing import OrdinalEncoder\n",
        "#encoder = OrdinalEncoder()"
      ]
    },
    {
      "cell_type": "code",
      "execution_count": null,
      "metadata": {
        "id": "f8ZHCOuA1IQY"
      },
      "outputs": [],
      "source": [
        "import numpy as np\n",
        "from sklearn.metrics import mean_squared_error\n",
        "\n",
        "def multi_rmse(y_test, y_pred):\n",
        "    # Handle NaN values in y_test and y_pred\n",
        "    y_test = np.nan_to_num(y_test)\n",
        "    y_pred = np.nan_to_num(y_pred)\n",
        "\n",
        "    # Returns a full set of errors in case of multioutput input.\n",
        "    individual_values = mean_squared_error(y_test, y_pred, multioutput='raw_values', squared=False)\n",
        "    avg_values = mean_squared_error(y_test, y_pred, multioutput='uniform_average')\n",
        "    return individual_values, avg_values"
      ]
    },
    {
      "cell_type": "code",
      "execution_count": null,
      "metadata": {
        "id": "jCoUKwSioh4b"
      },
      "outputs": [],
      "source": [
        "from sklearn.metrics import r2_score\n",
        "def multi_rss1(y_test, y_pred):\n",
        "    # Handle NaN values in y_test and y_pred\n",
        "    y_test = np.nan_to_num(y_test)\n",
        "    y_pred = np.nan_to_num(y_pred)\n",
        "    for i in range(y_test.shape[1]):\n",
        "      r2 = r2_score(y_test[:, i], y_pred[:, i], force_finite=True)\n",
        "    return r2"
      ]
    },
    {
      "cell_type": "code",
      "execution_count": null,
      "metadata": {
        "id": "RsTcHMZ8ku6n"
      },
      "outputs": [],
      "source": [
        "# prompt: residual sum of square for multi target\n",
        "\n",
        "def multi_rss(y_test, y_pred):\n",
        "    # Handle NaN values in y_test and y_pred\n",
        "    y_test = np.nan_to_num(y_test)\n",
        "    y_pred = np.nan_to_num(y_pred)\n",
        "\n",
        "    residuals = y_test - y_pred\n",
        "    rss = np.sum(residuals**2, axis=0)  # Sum of squared residuals for each target\n",
        "    total_rss = np.sum(rss)  # Total RSS across all targets\n",
        "\n",
        "    return rss, total_rss\n"
      ]
    },
    {
      "cell_type": "code",
      "execution_count": null,
      "metadata": {
        "id": "23FHdfVB1NwI"
      },
      "outputs": [],
      "source": [
        "import numpy as np\n",
        "import pandas as pd\n",
        "\n",
        "def aRRMSE3(y_true, y_pred):\n",
        "    \"\"\"\n",
        "    Compute average Relative Root Mean Squared Error (aRRMSE).\n",
        "\n",
        "    Args:\n",
        "        y_true: Ground truth values.\n",
        "        y_pred: Predicted values.\n",
        "\n",
        "    Returns:\n",
        "        Average Relative Root Mean Squared Error (aRRMSE).\n",
        "    \"\"\"\n",
        "    # Convert Pandas DataFrame to NumPy array if necessary\n",
        "    if isinstance(y_true, pd.DataFrame):\n",
        "        y_true = y_true.values\n",
        "    if isinstance(y_pred, pd.DataFrame):\n",
        "        y_pred = y_pred.values\n",
        "\n",
        "    num_targets = y_true.shape[1]\n",
        "    rrmses = np.zeros(num_targets)\n",
        "\n",
        "    for i in range(num_targets):\n",
        "        numerator = np.sum((y_true[:, i] - y_pred[:, i])**2)\n",
        "        denominator = np.sum((y_true[:, i] - np.mean(y_true[:, i]))**2)\n",
        "        if denominator == 0:\n",
        "            rrmses[i] = 0  # Handle cases where the denominator is zero\n",
        "        else:\n",
        "            rrmses[i] = np.sqrt(numerator / denominator)\n",
        "\n",
        "    # Compute the average RRMSE\n",
        "    a_rrmse = np.mean(rrmses)\n",
        "\n",
        "    return a_rrmse,rrmses"
      ]
    },
    {
      "cell_type": "markdown",
      "metadata": {
        "id": "ia6rwY-W6tCI"
      },
      "source": [
        "for jura"
      ]
    },
    {
      "cell_type": "code",
      "execution_count": null,
      "metadata": {
        "colab": {
          "base_uri": "https://localhost:8080/",
          "height": 443
        },
        "collapsed": true,
        "id": "cUl1ovAv1UUu",
        "outputId": "ca7dd6ff-63e6-4a64-faf4-46ab0cce7f24"
      },
      "outputs": [
        {
          "output_type": "execute_result",
          "data": {
            "text/plain": [
              "      Xloc   Yloc  Landuse=1  Landuse=2  Landuse=3  Landuse=4  Rock=1  Rock=2  \\\n",
              "0    2.386  3.077        0.0        0.0        1.0        0.0     0.0     0.0   \n",
              "1    2.544  1.972        0.0        1.0        0.0        0.0     0.0     1.0   \n",
              "2    2.807  3.347        0.0        1.0        0.0        0.0     0.0     0.0   \n",
              "3    4.308  1.933        0.0        0.0        1.0        0.0     0.0     1.0   \n",
              "4    4.383  1.081        0.0        0.0        1.0        0.0     0.0     0.0   \n",
              "..     ...    ...        ...        ...        ...        ...     ...     ...   \n",
              "354  4.248  2.489        1.0        0.0        0.0        0.0     0.0     0.0   \n",
              "355  3.784  3.677        1.0        0.0        0.0        0.0     0.0     1.0   \n",
              "356  4.324  2.835        1.0        0.0        0.0        0.0     0.0     1.0   \n",
              "357  3.859  4.022        0.0        0.0        1.0        0.0     0.0     0.0   \n",
              "358  2.593  3.312        0.0        0.0        1.0        0.0     0.0     0.0   \n",
              "\n",
              "     Rock=3  Rock=4  Rock=5     Cr     Ni     Pb     Zn     Cd     Co     Cu  \n",
              "0       1.0     0.0     0.0  38.32  21.32  77.36  92.56  1.740   9.32  25.72  \n",
              "1       0.0     0.0     0.0  40.20  29.72  77.88  73.56  1.335  10.00  24.76  \n",
              "2       1.0     0.0     0.0  47.00  21.40  30.80  64.80  1.610  10.60   8.88  \n",
              "3       0.0     0.0     0.0  43.52  29.72  56.40  90.00  2.150  11.92  22.70  \n",
              "4       0.0     0.0     1.0  38.52  26.20  66.40  88.40  1.565  16.32  34.32  \n",
              "..      ...     ...     ...    ...    ...    ...    ...    ...    ...    ...  \n",
              "354     0.0     1.0     0.0  27.04  21.04  48.80  46.40  1.220   5.24   5.52  \n",
              "355     0.0     0.0     0.0  28.32  18.00  34.32  55.20  0.640  13.92   6.68  \n",
              "356     0.0     0.0     0.0  33.36  22.72  60.00  80.00  1.650   8.72   8.88  \n",
              "357     1.0     0.0     0.0  47.60  29.12  60.80  87.20  1.433  13.32  43.60  \n",
              "358     1.0     0.0     0.0  30.00  14.00  26.20  54.96  0.325  10.60   8.08  \n",
              "\n",
              "[359 rows x 18 columns]"
            ],
            "text/html": [
              "\n",
              "  <div id=\"df-0eaf9ea4-3142-4bfb-ac68-0e2873059386\" class=\"colab-df-container\">\n",
              "    <div>\n",
              "<style scoped>\n",
              "    .dataframe tbody tr th:only-of-type {\n",
              "        vertical-align: middle;\n",
              "    }\n",
              "\n",
              "    .dataframe tbody tr th {\n",
              "        vertical-align: top;\n",
              "    }\n",
              "\n",
              "    .dataframe thead th {\n",
              "        text-align: right;\n",
              "    }\n",
              "</style>\n",
              "<table border=\"1\" class=\"dataframe\">\n",
              "  <thead>\n",
              "    <tr style=\"text-align: right;\">\n",
              "      <th></th>\n",
              "      <th>Xloc</th>\n",
              "      <th>Yloc</th>\n",
              "      <th>Landuse=1</th>\n",
              "      <th>Landuse=2</th>\n",
              "      <th>Landuse=3</th>\n",
              "      <th>Landuse=4</th>\n",
              "      <th>Rock=1</th>\n",
              "      <th>Rock=2</th>\n",
              "      <th>Rock=3</th>\n",
              "      <th>Rock=4</th>\n",
              "      <th>Rock=5</th>\n",
              "      <th>Cr</th>\n",
              "      <th>Ni</th>\n",
              "      <th>Pb</th>\n",
              "      <th>Zn</th>\n",
              "      <th>Cd</th>\n",
              "      <th>Co</th>\n",
              "      <th>Cu</th>\n",
              "    </tr>\n",
              "  </thead>\n",
              "  <tbody>\n",
              "    <tr>\n",
              "      <th>0</th>\n",
              "      <td>2.386</td>\n",
              "      <td>3.077</td>\n",
              "      <td>0.0</td>\n",
              "      <td>0.0</td>\n",
              "      <td>1.0</td>\n",
              "      <td>0.0</td>\n",
              "      <td>0.0</td>\n",
              "      <td>0.0</td>\n",
              "      <td>1.0</td>\n",
              "      <td>0.0</td>\n",
              "      <td>0.0</td>\n",
              "      <td>38.32</td>\n",
              "      <td>21.32</td>\n",
              "      <td>77.36</td>\n",
              "      <td>92.56</td>\n",
              "      <td>1.740</td>\n",
              "      <td>9.32</td>\n",
              "      <td>25.72</td>\n",
              "    </tr>\n",
              "    <tr>\n",
              "      <th>1</th>\n",
              "      <td>2.544</td>\n",
              "      <td>1.972</td>\n",
              "      <td>0.0</td>\n",
              "      <td>1.0</td>\n",
              "      <td>0.0</td>\n",
              "      <td>0.0</td>\n",
              "      <td>0.0</td>\n",
              "      <td>1.0</td>\n",
              "      <td>0.0</td>\n",
              "      <td>0.0</td>\n",
              "      <td>0.0</td>\n",
              "      <td>40.20</td>\n",
              "      <td>29.72</td>\n",
              "      <td>77.88</td>\n",
              "      <td>73.56</td>\n",
              "      <td>1.335</td>\n",
              "      <td>10.00</td>\n",
              "      <td>24.76</td>\n",
              "    </tr>\n",
              "    <tr>\n",
              "      <th>2</th>\n",
              "      <td>2.807</td>\n",
              "      <td>3.347</td>\n",
              "      <td>0.0</td>\n",
              "      <td>1.0</td>\n",
              "      <td>0.0</td>\n",
              "      <td>0.0</td>\n",
              "      <td>0.0</td>\n",
              "      <td>0.0</td>\n",
              "      <td>1.0</td>\n",
              "      <td>0.0</td>\n",
              "      <td>0.0</td>\n",
              "      <td>47.00</td>\n",
              "      <td>21.40</td>\n",
              "      <td>30.80</td>\n",
              "      <td>64.80</td>\n",
              "      <td>1.610</td>\n",
              "      <td>10.60</td>\n",
              "      <td>8.88</td>\n",
              "    </tr>\n",
              "    <tr>\n",
              "      <th>3</th>\n",
              "      <td>4.308</td>\n",
              "      <td>1.933</td>\n",
              "      <td>0.0</td>\n",
              "      <td>0.0</td>\n",
              "      <td>1.0</td>\n",
              "      <td>0.0</td>\n",
              "      <td>0.0</td>\n",
              "      <td>1.0</td>\n",
              "      <td>0.0</td>\n",
              "      <td>0.0</td>\n",
              "      <td>0.0</td>\n",
              "      <td>43.52</td>\n",
              "      <td>29.72</td>\n",
              "      <td>56.40</td>\n",
              "      <td>90.00</td>\n",
              "      <td>2.150</td>\n",
              "      <td>11.92</td>\n",
              "      <td>22.70</td>\n",
              "    </tr>\n",
              "    <tr>\n",
              "      <th>4</th>\n",
              "      <td>4.383</td>\n",
              "      <td>1.081</td>\n",
              "      <td>0.0</td>\n",
              "      <td>0.0</td>\n",
              "      <td>1.0</td>\n",
              "      <td>0.0</td>\n",
              "      <td>0.0</td>\n",
              "      <td>0.0</td>\n",
              "      <td>0.0</td>\n",
              "      <td>0.0</td>\n",
              "      <td>1.0</td>\n",
              "      <td>38.52</td>\n",
              "      <td>26.20</td>\n",
              "      <td>66.40</td>\n",
              "      <td>88.40</td>\n",
              "      <td>1.565</td>\n",
              "      <td>16.32</td>\n",
              "      <td>34.32</td>\n",
              "    </tr>\n",
              "    <tr>\n",
              "      <th>...</th>\n",
              "      <td>...</td>\n",
              "      <td>...</td>\n",
              "      <td>...</td>\n",
              "      <td>...</td>\n",
              "      <td>...</td>\n",
              "      <td>...</td>\n",
              "      <td>...</td>\n",
              "      <td>...</td>\n",
              "      <td>...</td>\n",
              "      <td>...</td>\n",
              "      <td>...</td>\n",
              "      <td>...</td>\n",
              "      <td>...</td>\n",
              "      <td>...</td>\n",
              "      <td>...</td>\n",
              "      <td>...</td>\n",
              "      <td>...</td>\n",
              "      <td>...</td>\n",
              "    </tr>\n",
              "    <tr>\n",
              "      <th>354</th>\n",
              "      <td>4.248</td>\n",
              "      <td>2.489</td>\n",
              "      <td>1.0</td>\n",
              "      <td>0.0</td>\n",
              "      <td>0.0</td>\n",
              "      <td>0.0</td>\n",
              "      <td>0.0</td>\n",
              "      <td>0.0</td>\n",
              "      <td>0.0</td>\n",
              "      <td>1.0</td>\n",
              "      <td>0.0</td>\n",
              "      <td>27.04</td>\n",
              "      <td>21.04</td>\n",
              "      <td>48.80</td>\n",
              "      <td>46.40</td>\n",
              "      <td>1.220</td>\n",
              "      <td>5.24</td>\n",
              "      <td>5.52</td>\n",
              "    </tr>\n",
              "    <tr>\n",
              "      <th>355</th>\n",
              "      <td>3.784</td>\n",
              "      <td>3.677</td>\n",
              "      <td>1.0</td>\n",
              "      <td>0.0</td>\n",
              "      <td>0.0</td>\n",
              "      <td>0.0</td>\n",
              "      <td>0.0</td>\n",
              "      <td>1.0</td>\n",
              "      <td>0.0</td>\n",
              "      <td>0.0</td>\n",
              "      <td>0.0</td>\n",
              "      <td>28.32</td>\n",
              "      <td>18.00</td>\n",
              "      <td>34.32</td>\n",
              "      <td>55.20</td>\n",
              "      <td>0.640</td>\n",
              "      <td>13.92</td>\n",
              "      <td>6.68</td>\n",
              "    </tr>\n",
              "    <tr>\n",
              "      <th>356</th>\n",
              "      <td>4.324</td>\n",
              "      <td>2.835</td>\n",
              "      <td>1.0</td>\n",
              "      <td>0.0</td>\n",
              "      <td>0.0</td>\n",
              "      <td>0.0</td>\n",
              "      <td>0.0</td>\n",
              "      <td>1.0</td>\n",
              "      <td>0.0</td>\n",
              "      <td>0.0</td>\n",
              "      <td>0.0</td>\n",
              "      <td>33.36</td>\n",
              "      <td>22.72</td>\n",
              "      <td>60.00</td>\n",
              "      <td>80.00</td>\n",
              "      <td>1.650</td>\n",
              "      <td>8.72</td>\n",
              "      <td>8.88</td>\n",
              "    </tr>\n",
              "    <tr>\n",
              "      <th>357</th>\n",
              "      <td>3.859</td>\n",
              "      <td>4.022</td>\n",
              "      <td>0.0</td>\n",
              "      <td>0.0</td>\n",
              "      <td>1.0</td>\n",
              "      <td>0.0</td>\n",
              "      <td>0.0</td>\n",
              "      <td>0.0</td>\n",
              "      <td>1.0</td>\n",
              "      <td>0.0</td>\n",
              "      <td>0.0</td>\n",
              "      <td>47.60</td>\n",
              "      <td>29.12</td>\n",
              "      <td>60.80</td>\n",
              "      <td>87.20</td>\n",
              "      <td>1.433</td>\n",
              "      <td>13.32</td>\n",
              "      <td>43.60</td>\n",
              "    </tr>\n",
              "    <tr>\n",
              "      <th>358</th>\n",
              "      <td>2.593</td>\n",
              "      <td>3.312</td>\n",
              "      <td>0.0</td>\n",
              "      <td>0.0</td>\n",
              "      <td>1.0</td>\n",
              "      <td>0.0</td>\n",
              "      <td>0.0</td>\n",
              "      <td>0.0</td>\n",
              "      <td>1.0</td>\n",
              "      <td>0.0</td>\n",
              "      <td>0.0</td>\n",
              "      <td>30.00</td>\n",
              "      <td>14.00</td>\n",
              "      <td>26.20</td>\n",
              "      <td>54.96</td>\n",
              "      <td>0.325</td>\n",
              "      <td>10.60</td>\n",
              "      <td>8.08</td>\n",
              "    </tr>\n",
              "  </tbody>\n",
              "</table>\n",
              "<p>359 rows × 18 columns</p>\n",
              "</div>\n",
              "    <div class=\"colab-df-buttons\">\n",
              "\n",
              "  <div class=\"colab-df-container\">\n",
              "    <button class=\"colab-df-convert\" onclick=\"convertToInteractive('df-0eaf9ea4-3142-4bfb-ac68-0e2873059386')\"\n",
              "            title=\"Convert this dataframe to an interactive table.\"\n",
              "            style=\"display:none;\">\n",
              "\n",
              "  <svg xmlns=\"http://www.w3.org/2000/svg\" height=\"24px\" viewBox=\"0 -960 960 960\">\n",
              "    <path d=\"M120-120v-720h720v720H120Zm60-500h600v-160H180v160Zm220 220h160v-160H400v160Zm0 220h160v-160H400v160ZM180-400h160v-160H180v160Zm440 0h160v-160H620v160ZM180-180h160v-160H180v160Zm440 0h160v-160H620v160Z\"/>\n",
              "  </svg>\n",
              "    </button>\n",
              "\n",
              "  <style>\n",
              "    .colab-df-container {\n",
              "      display:flex;\n",
              "      gap: 12px;\n",
              "    }\n",
              "\n",
              "    .colab-df-convert {\n",
              "      background-color: #E8F0FE;\n",
              "      border: none;\n",
              "      border-radius: 50%;\n",
              "      cursor: pointer;\n",
              "      display: none;\n",
              "      fill: #1967D2;\n",
              "      height: 32px;\n",
              "      padding: 0 0 0 0;\n",
              "      width: 32px;\n",
              "    }\n",
              "\n",
              "    .colab-df-convert:hover {\n",
              "      background-color: #E2EBFA;\n",
              "      box-shadow: 0px 1px 2px rgba(60, 64, 67, 0.3), 0px 1px 3px 1px rgba(60, 64, 67, 0.15);\n",
              "      fill: #174EA6;\n",
              "    }\n",
              "\n",
              "    .colab-df-buttons div {\n",
              "      margin-bottom: 4px;\n",
              "    }\n",
              "\n",
              "    [theme=dark] .colab-df-convert {\n",
              "      background-color: #3B4455;\n",
              "      fill: #D2E3FC;\n",
              "    }\n",
              "\n",
              "    [theme=dark] .colab-df-convert:hover {\n",
              "      background-color: #434B5C;\n",
              "      box-shadow: 0px 1px 3px 1px rgba(0, 0, 0, 0.15);\n",
              "      filter: drop-shadow(0px 1px 2px rgba(0, 0, 0, 0.3));\n",
              "      fill: #FFFFFF;\n",
              "    }\n",
              "  </style>\n",
              "\n",
              "    <script>\n",
              "      const buttonEl =\n",
              "        document.querySelector('#df-0eaf9ea4-3142-4bfb-ac68-0e2873059386 button.colab-df-convert');\n",
              "      buttonEl.style.display =\n",
              "        google.colab.kernel.accessAllowed ? 'block' : 'none';\n",
              "\n",
              "      async function convertToInteractive(key) {\n",
              "        const element = document.querySelector('#df-0eaf9ea4-3142-4bfb-ac68-0e2873059386');\n",
              "        const dataTable =\n",
              "          await google.colab.kernel.invokeFunction('convertToInteractive',\n",
              "                                                    [key], {});\n",
              "        if (!dataTable) return;\n",
              "\n",
              "        const docLinkHtml = 'Like what you see? Visit the ' +\n",
              "          '<a target=\"_blank\" href=https://colab.research.google.com/notebooks/data_table.ipynb>data table notebook</a>'\n",
              "          + ' to learn more about interactive tables.';\n",
              "        element.innerHTML = '';\n",
              "        dataTable['output_type'] = 'display_data';\n",
              "        await google.colab.output.renderOutput(dataTable, element);\n",
              "        const docLink = document.createElement('div');\n",
              "        docLink.innerHTML = docLinkHtml;\n",
              "        element.appendChild(docLink);\n",
              "      }\n",
              "    </script>\n",
              "  </div>\n",
              "\n",
              "\n",
              "<div id=\"df-09e07f3f-4dfd-40dc-a051-d6e2490f3d77\">\n",
              "  <button class=\"colab-df-quickchart\" onclick=\"quickchart('df-09e07f3f-4dfd-40dc-a051-d6e2490f3d77')\"\n",
              "            title=\"Suggest charts\"\n",
              "            style=\"display:none;\">\n",
              "\n",
              "<svg xmlns=\"http://www.w3.org/2000/svg\" height=\"24px\"viewBox=\"0 0 24 24\"\n",
              "     width=\"24px\">\n",
              "    <g>\n",
              "        <path d=\"M19 3H5c-1.1 0-2 .9-2 2v14c0 1.1.9 2 2 2h14c1.1 0 2-.9 2-2V5c0-1.1-.9-2-2-2zM9 17H7v-7h2v7zm4 0h-2V7h2v10zm4 0h-2v-4h2v4z\"/>\n",
              "    </g>\n",
              "</svg>\n",
              "  </button>\n",
              "\n",
              "<style>\n",
              "  .colab-df-quickchart {\n",
              "      --bg-color: #E8F0FE;\n",
              "      --fill-color: #1967D2;\n",
              "      --hover-bg-color: #E2EBFA;\n",
              "      --hover-fill-color: #174EA6;\n",
              "      --disabled-fill-color: #AAA;\n",
              "      --disabled-bg-color: #DDD;\n",
              "  }\n",
              "\n",
              "  [theme=dark] .colab-df-quickchart {\n",
              "      --bg-color: #3B4455;\n",
              "      --fill-color: #D2E3FC;\n",
              "      --hover-bg-color: #434B5C;\n",
              "      --hover-fill-color: #FFFFFF;\n",
              "      --disabled-bg-color: #3B4455;\n",
              "      --disabled-fill-color: #666;\n",
              "  }\n",
              "\n",
              "  .colab-df-quickchart {\n",
              "    background-color: var(--bg-color);\n",
              "    border: none;\n",
              "    border-radius: 50%;\n",
              "    cursor: pointer;\n",
              "    display: none;\n",
              "    fill: var(--fill-color);\n",
              "    height: 32px;\n",
              "    padding: 0;\n",
              "    width: 32px;\n",
              "  }\n",
              "\n",
              "  .colab-df-quickchart:hover {\n",
              "    background-color: var(--hover-bg-color);\n",
              "    box-shadow: 0 1px 2px rgba(60, 64, 67, 0.3), 0 1px 3px 1px rgba(60, 64, 67, 0.15);\n",
              "    fill: var(--button-hover-fill-color);\n",
              "  }\n",
              "\n",
              "  .colab-df-quickchart-complete:disabled,\n",
              "  .colab-df-quickchart-complete:disabled:hover {\n",
              "    background-color: var(--disabled-bg-color);\n",
              "    fill: var(--disabled-fill-color);\n",
              "    box-shadow: none;\n",
              "  }\n",
              "\n",
              "  .colab-df-spinner {\n",
              "    border: 2px solid var(--fill-color);\n",
              "    border-color: transparent;\n",
              "    border-bottom-color: var(--fill-color);\n",
              "    animation:\n",
              "      spin 1s steps(1) infinite;\n",
              "  }\n",
              "\n",
              "  @keyframes spin {\n",
              "    0% {\n",
              "      border-color: transparent;\n",
              "      border-bottom-color: var(--fill-color);\n",
              "      border-left-color: var(--fill-color);\n",
              "    }\n",
              "    20% {\n",
              "      border-color: transparent;\n",
              "      border-left-color: var(--fill-color);\n",
              "      border-top-color: var(--fill-color);\n",
              "    }\n",
              "    30% {\n",
              "      border-color: transparent;\n",
              "      border-left-color: var(--fill-color);\n",
              "      border-top-color: var(--fill-color);\n",
              "      border-right-color: var(--fill-color);\n",
              "    }\n",
              "    40% {\n",
              "      border-color: transparent;\n",
              "      border-right-color: var(--fill-color);\n",
              "      border-top-color: var(--fill-color);\n",
              "    }\n",
              "    60% {\n",
              "      border-color: transparent;\n",
              "      border-right-color: var(--fill-color);\n",
              "    }\n",
              "    80% {\n",
              "      border-color: transparent;\n",
              "      border-right-color: var(--fill-color);\n",
              "      border-bottom-color: var(--fill-color);\n",
              "    }\n",
              "    90% {\n",
              "      border-color: transparent;\n",
              "      border-bottom-color: var(--fill-color);\n",
              "    }\n",
              "  }\n",
              "</style>\n",
              "\n",
              "  <script>\n",
              "    async function quickchart(key) {\n",
              "      const quickchartButtonEl =\n",
              "        document.querySelector('#' + key + ' button');\n",
              "      quickchartButtonEl.disabled = true;  // To prevent multiple clicks.\n",
              "      quickchartButtonEl.classList.add('colab-df-spinner');\n",
              "      try {\n",
              "        const charts = await google.colab.kernel.invokeFunction(\n",
              "            'suggestCharts', [key], {});\n",
              "      } catch (error) {\n",
              "        console.error('Error during call to suggestCharts:', error);\n",
              "      }\n",
              "      quickchartButtonEl.classList.remove('colab-df-spinner');\n",
              "      quickchartButtonEl.classList.add('colab-df-quickchart-complete');\n",
              "    }\n",
              "    (() => {\n",
              "      let quickchartButtonEl =\n",
              "        document.querySelector('#df-09e07f3f-4dfd-40dc-a051-d6e2490f3d77 button');\n",
              "      quickchartButtonEl.style.display =\n",
              "        google.colab.kernel.accessAllowed ? 'block' : 'none';\n",
              "    })();\n",
              "  </script>\n",
              "</div>\n",
              "\n",
              "  <div id=\"id_cd687bdc-b1a7-4868-a608-7971879558c6\">\n",
              "    <style>\n",
              "      .colab-df-generate {\n",
              "        background-color: #E8F0FE;\n",
              "        border: none;\n",
              "        border-radius: 50%;\n",
              "        cursor: pointer;\n",
              "        display: none;\n",
              "        fill: #1967D2;\n",
              "        height: 32px;\n",
              "        padding: 0 0 0 0;\n",
              "        width: 32px;\n",
              "      }\n",
              "\n",
              "      .colab-df-generate:hover {\n",
              "        background-color: #E2EBFA;\n",
              "        box-shadow: 0px 1px 2px rgba(60, 64, 67, 0.3), 0px 1px 3px 1px rgba(60, 64, 67, 0.15);\n",
              "        fill: #174EA6;\n",
              "      }\n",
              "\n",
              "      [theme=dark] .colab-df-generate {\n",
              "        background-color: #3B4455;\n",
              "        fill: #D2E3FC;\n",
              "      }\n",
              "\n",
              "      [theme=dark] .colab-df-generate:hover {\n",
              "        background-color: #434B5C;\n",
              "        box-shadow: 0px 1px 3px 1px rgba(0, 0, 0, 0.15);\n",
              "        filter: drop-shadow(0px 1px 2px rgba(0, 0, 0, 0.3));\n",
              "        fill: #FFFFFF;\n",
              "      }\n",
              "    </style>\n",
              "    <button class=\"colab-df-generate\" onclick=\"generateWithVariable('df')\"\n",
              "            title=\"Generate code using this dataframe.\"\n",
              "            style=\"display:none;\">\n",
              "\n",
              "  <svg xmlns=\"http://www.w3.org/2000/svg\" height=\"24px\"viewBox=\"0 0 24 24\"\n",
              "       width=\"24px\">\n",
              "    <path d=\"M7,19H8.4L18.45,9,17,7.55,7,17.6ZM5,21V16.75L18.45,3.32a2,2,0,0,1,2.83,0l1.4,1.43a1.91,1.91,0,0,1,.58,1.4,1.91,1.91,0,0,1-.58,1.4L9.25,21ZM18.45,9,17,7.55Zm-12,3A5.31,5.31,0,0,0,4.9,8.1,5.31,5.31,0,0,0,1,6.5,5.31,5.31,0,0,0,4.9,4.9,5.31,5.31,0,0,0,6.5,1,5.31,5.31,0,0,0,8.1,4.9,5.31,5.31,0,0,0,12,6.5,5.46,5.46,0,0,0,6.5,12Z\"/>\n",
              "  </svg>\n",
              "    </button>\n",
              "    <script>\n",
              "      (() => {\n",
              "      const buttonEl =\n",
              "        document.querySelector('#id_cd687bdc-b1a7-4868-a608-7971879558c6 button.colab-df-generate');\n",
              "      buttonEl.style.display =\n",
              "        google.colab.kernel.accessAllowed ? 'block' : 'none';\n",
              "\n",
              "      buttonEl.onclick = () => {\n",
              "        google.colab.notebook.generateWithVariable('df');\n",
              "      }\n",
              "      })();\n",
              "    </script>\n",
              "  </div>\n",
              "\n",
              "    </div>\n",
              "  </div>\n"
            ],
            "application/vnd.google.colaboratory.intrinsic+json": {
              "type": "dataframe",
              "variable_name": "df",
              "summary": "{\n  \"name\": \"df\",\n  \"rows\": 359,\n  \"fields\": [\n    {\n      \"column\": \"Xloc\",\n      \"properties\": {\n        \"dtype\": \"number\",\n        \"std\": 0.9808215188417481,\n        \"min\": 0.491,\n        \"max\": 4.92,\n        \"num_unique_values\": 341,\n        \"samples\": [\n          1.754,\n          3.669,\n          2.325\n        ],\n        \"semantic_type\": \"\",\n        \"description\": \"\"\n      }\n    },\n    {\n      \"column\": \"Yloc\",\n      \"properties\": {\n        \"dtype\": \"number\",\n        \"std\": 1.2690893887216455,\n        \"min\": 0.524,\n        \"max\": 5.69,\n        \"num_unique_values\": 347,\n        \"samples\": [\n          1.183,\n          4.143,\n          2.407\n        ],\n        \"semantic_type\": \"\",\n        \"description\": \"\"\n      }\n    },\n    {\n      \"column\": \"Landuse=1\",\n      \"properties\": {\n        \"dtype\": \"number\",\n        \"std\": 0.34960022919965866,\n        \"min\": 0.0,\n        \"max\": 1.0,\n        \"num_unique_values\": 2,\n        \"samples\": [\n          1.0,\n          0.0\n        ],\n        \"semantic_type\": \"\",\n        \"description\": \"\"\n      }\n    },\n    {\n      \"column\": \"Landuse=2\",\n      \"properties\": {\n        \"dtype\": \"number\",\n        \"std\": 0.4203955140451111,\n        \"min\": 0.0,\n        \"max\": 1.0,\n        \"num_unique_values\": 2,\n        \"samples\": [\n          1.0,\n          0.0\n        ],\n        \"semantic_type\": \"\",\n        \"description\": \"\"\n      }\n    },\n    {\n      \"column\": \"Landuse=3\",\n      \"properties\": {\n        \"dtype\": \"number\",\n        \"std\": 0.48904527305371803,\n        \"min\": 0.0,\n        \"max\": 1.0,\n        \"num_unique_values\": 2,\n        \"samples\": [\n          0.0,\n          1.0\n        ],\n        \"semantic_type\": \"\",\n        \"description\": \"\"\n      }\n    },\n    {\n      \"column\": \"Landuse=4\",\n      \"properties\": {\n        \"dtype\": \"number\",\n        \"std\": 0.14781204110560858,\n        \"min\": 0.0,\n        \"max\": 1.0,\n        \"num_unique_values\": 2,\n        \"samples\": [\n          1.0,\n          0.0\n        ],\n        \"semantic_type\": \"\",\n        \"description\": \"\"\n      }\n    },\n    {\n      \"column\": \"Rock=1\",\n      \"properties\": {\n        \"dtype\": \"number\",\n        \"std\": 0.4090828531648434,\n        \"min\": 0.0,\n        \"max\": 1.0,\n        \"num_unique_values\": 2,\n        \"samples\": [\n          1.0,\n          0.0\n        ],\n        \"semantic_type\": \"\",\n        \"description\": \"\"\n      }\n    },\n    {\n      \"column\": \"Rock=2\",\n      \"properties\": {\n        \"dtype\": \"number\",\n        \"std\": 0.47616342798701666,\n        \"min\": 0.0,\n        \"max\": 1.0,\n        \"num_unique_values\": 2,\n        \"samples\": [\n          1.0,\n          0.0\n        ],\n        \"semantic_type\": \"\",\n        \"description\": \"\"\n      }\n    },\n    {\n      \"column\": \"Rock=3\",\n      \"properties\": {\n        \"dtype\": \"number\",\n        \"std\": 0.4324024517745575,\n        \"min\": 0.0,\n        \"max\": 1.0,\n        \"num_unique_values\": 2,\n        \"samples\": [\n          0.0,\n          1.0\n        ],\n        \"semantic_type\": \"\",\n        \"description\": \"\"\n      }\n    },\n    {\n      \"column\": \"Rock=4\",\n      \"properties\": {\n        \"dtype\": \"number\",\n        \"std\": 0.12837316250084838,\n        \"min\": 0.0,\n        \"max\": 1.0,\n        \"num_unique_values\": 2,\n        \"samples\": [\n          1.0,\n          0.0\n        ],\n        \"semantic_type\": \"\",\n        \"description\": \"\"\n      }\n    },\n    {\n      \"column\": \"Rock=5\",\n      \"properties\": {\n        \"dtype\": \"number\",\n        \"std\": 0.3832765577059244,\n        \"min\": 0.0,\n        \"max\": 1.0,\n        \"num_unique_values\": 2,\n        \"samples\": [\n          1.0,\n          0.0\n        ],\n        \"semantic_type\": \"\",\n        \"description\": \"\"\n      }\n    },\n    {\n      \"column\": \"Cr\",\n      \"properties\": {\n        \"dtype\": \"number\",\n        \"std\": 10.662561179596496,\n        \"min\": 3.32,\n        \"max\": 70.0,\n        \"num_unique_values\": 265,\n        \"samples\": [\n          18.0,\n          32.56\n        ],\n        \"semantic_type\": \"\",\n        \"description\": \"\"\n      }\n    },\n    {\n      \"column\": \"Ni\",\n      \"properties\": {\n        \"dtype\": \"number\",\n        \"std\": 8.094140452337053,\n        \"min\": 1.98,\n        \"max\": 53.2,\n        \"num_unique_values\": 277,\n        \"samples\": [\n          26.72,\n          4.64\n        ],\n        \"semantic_type\": \"\",\n        \"description\": \"\"\n      }\n    },\n    {\n      \"column\": \"Pb\",\n      \"properties\": {\n        \"dtype\": \"number\",\n        \"std\": 33.097934835690836,\n        \"min\": 18.68,\n        \"max\": 300.0,\n        \"num_unique_values\": 254,\n        \"samples\": [\n          65.6,\n          60.0\n        ],\n        \"semantic_type\": \"\",\n        \"description\": \"\"\n      }\n    },\n    {\n      \"column\": \"Zn\",\n      \"properties\": {\n        \"dtype\": \"number\",\n        \"std\": 30.818668955337916,\n        \"min\": 25.0,\n        \"max\": 259.84,\n        \"num_unique_values\": 242,\n        \"samples\": [\n          82.8,\n          72.4\n        ],\n        \"semantic_type\": \"\",\n        \"description\": \"\"\n      }\n    },\n    {\n      \"column\": \"Cd\",\n      \"properties\": {\n        \"dtype\": \"number\",\n        \"std\": 0.8590979433022633,\n        \"min\": 0.135,\n        \"max\": 5.129,\n        \"num_unique_values\": 276,\n        \"samples\": [\n          1.785,\n          0.951\n        ],\n        \"semantic_type\": \"\",\n        \"description\": \"\"\n      }\n    },\n    {\n      \"column\": \"Co\",\n      \"properties\": {\n        \"dtype\": \"number\",\n        \"std\": 3.5682498927334048,\n        \"min\": 1.552,\n        \"max\": 20.6,\n        \"num_unique_values\": 219,\n        \"samples\": [\n          13.16,\n          11.84\n        ],\n        \"semantic_type\": \"\",\n        \"description\": \"\"\n      }\n    },\n    {\n      \"column\": \"Cu\",\n      \"properties\": {\n        \"dtype\": \"number\",\n        \"std\": 22.267947655832888,\n        \"min\": 3.552,\n        \"max\": 166.4,\n        \"num_unique_values\": 302,\n        \"samples\": [\n          19.92,\n          5.64\n        ],\n        \"semantic_type\": \"\",\n        \"description\": \"\"\n      }\n    }\n  ]\n}"
            }
          },
          "metadata": {},
          "execution_count": 6
        }
      ],
      "source": [
        "import pandas as pd\n",
        "import arff\n",
        "\n",
        "with open('/content/drive/MyDrive/mulan_data/jura.arff', 'r') as f:\n",
        "    data = arff.load(f)\n",
        "    df = pd.DataFrame(data['data'], columns=[x[0] for x in data['attributes']])\n",
        "\n",
        "df"
      ]
    },
    {
      "cell_type": "code",
      "execution_count": null,
      "metadata": {
        "colab": {
          "base_uri": "https://localhost:8080/"
        },
        "collapsed": true,
        "id": "XUhu5fa76vA3",
        "outputId": "44a355ad-bddd-4899-caf7-6f8a3b346b35"
      },
      "outputs": [
        {
          "output_type": "stream",
          "name": "stdout",
          "text": [
            "      Xloc   Yloc  Landuse=1  Landuse=2  Landuse=3  Landuse=4  Rock=1  Rock=2  \\\n",
            "0    2.386  3.077        0.0        0.0        1.0        0.0     0.0     0.0   \n",
            "1    2.544  1.972        0.0        1.0        0.0        0.0     0.0     1.0   \n",
            "2    2.807  3.347        0.0        1.0        0.0        0.0     0.0     0.0   \n",
            "3    4.308  1.933        0.0        0.0        1.0        0.0     0.0     1.0   \n",
            "4    4.383  1.081        0.0        0.0        1.0        0.0     0.0     0.0   \n",
            "..     ...    ...        ...        ...        ...        ...     ...     ...   \n",
            "354  4.248  2.489        1.0        0.0        0.0        0.0     0.0     0.0   \n",
            "355  3.784  3.677        1.0        0.0        0.0        0.0     0.0     1.0   \n",
            "356  4.324  2.835        1.0        0.0        0.0        0.0     0.0     1.0   \n",
            "357  3.859  4.022        0.0        0.0        1.0        0.0     0.0     0.0   \n",
            "358  2.593  3.312        0.0        0.0        1.0        0.0     0.0     0.0   \n",
            "\n",
            "     Rock=3  Rock=4  Rock=5     Cr     Ni     Zn     Co  \n",
            "0       1.0     0.0     0.0  38.32  21.32  92.56   9.32  \n",
            "1       0.0     0.0     0.0  40.20  29.72  73.56  10.00  \n",
            "2       1.0     0.0     0.0  47.00  21.40  64.80  10.60  \n",
            "3       0.0     0.0     0.0  43.52  29.72  90.00  11.92  \n",
            "4       0.0     0.0     1.0  38.52  26.20  88.40  16.32  \n",
            "..      ...     ...     ...    ...    ...    ...    ...  \n",
            "354     0.0     1.0     0.0  27.04  21.04  46.40   5.24  \n",
            "355     0.0     0.0     0.0  28.32  18.00  55.20  13.92  \n",
            "356     0.0     0.0     0.0  33.36  22.72  80.00   8.72  \n",
            "357     1.0     0.0     0.0  47.60  29.12  87.20  13.32  \n",
            "358     1.0     0.0     0.0  30.00  14.00  54.96  10.60  \n",
            "\n",
            "[359 rows x 15 columns]\n"
          ]
        }
      ],
      "source": [
        "# Drop columns 'cu', 'cd', and 'pb'\n",
        "df1 = df.drop(columns=['Cu', 'Cd', 'Pb'])\n",
        "\n",
        "print(df1)"
      ]
    },
    {
      "cell_type": "code",
      "execution_count": null,
      "metadata": {
        "colab": {
          "base_uri": "https://localhost:8080/"
        },
        "collapsed": true,
        "id": "F5K88yA17F7d",
        "outputId": "95c928cf-4d36-4605-a6cd-92c3e870d659"
      },
      "outputs": [
        {
          "output_type": "stream",
          "name": "stdout",
          "text": [
            "        Cu     Cd     Pb\n",
            "0    25.72  1.740  77.36\n",
            "1    24.76  1.335  77.88\n",
            "2     8.88  1.610  30.80\n",
            "3    22.70  2.150  56.40\n",
            "4    34.32  1.565  66.40\n",
            "..     ...    ...    ...\n",
            "354   5.52  1.220  48.80\n",
            "355   6.68  0.640  34.32\n",
            "356   8.88  1.650  60.00\n",
            "357  43.60  1.433  60.80\n",
            "358   8.08  0.325  26.20\n",
            "\n",
            "[359 rows x 3 columns]\n"
          ]
        }
      ],
      "source": [
        "# Select only columns 'cu', 'cd', and 'pb'\n",
        "df_selected = df.loc[:, ['Cu', 'Cd', 'Pb']]\n",
        "\n",
        "print(df_selected)"
      ]
    },
    {
      "cell_type": "code",
      "execution_count": null,
      "metadata": {
        "id": "Hf3njwF-1AwA"
      },
      "outputs": [],
      "source": [
        "Data_index =df1.iloc[:, :]\n",
        "label_index=df_selected.iloc[:,:]\n",
        "# Standardize the data\n",
        "scaler = StandardScaler()\n",
        "X_scaled = scaler.fit_transform(Data_index.values)"
      ]
    },
    {
      "cell_type": "markdown",
      "metadata": {
        "id": "_I_Q8lSf60Qm"
      },
      "source": [
        "FOr other"
      ]
    },
    {
      "cell_type": "code",
      "execution_count": null,
      "metadata": {
        "colab": {
          "base_uri": "https://localhost:8080/"
        },
        "id": "p7aulvmX6ruO",
        "outputId": "35044205-bd5b-45b5-afd8-ec5971be5936"
      },
      "outputs": [
        {
          "output_type": "stream",
          "name": "stdout",
          "text": [
            "         0      1      2      3     4      5      6     7     8      9\n",
            "0    273.0   82.0  105.0  210.0   9.0  904.0  680.0  23.0  62.0  34.99\n",
            "1    163.0  149.0  191.0  180.0  12.0  843.0  746.0   0.0  20.0  41.14\n",
            "2    162.0  148.0  191.0  179.0  16.0  840.0  743.0   1.0  20.0  41.81\n",
            "3    162.0  148.0  190.0  179.0  19.0  838.0  741.0   3.0  21.5  42.08\n",
            "4    154.0  112.0  144.0  220.0  10.0  923.0  658.0  20.0  64.0  26.82\n",
            "..     ...    ...    ...    ...   ...    ...    ...   ...   ...    ...\n",
            "98   248.3  101.0  239.1  168.9   7.7  954.2  640.6   0.0  20.0  49.97\n",
            "99   248.0  101.0  239.9  169.1   7.7  949.9  644.1   2.0  20.0  50.23\n",
            "100  258.8   88.0  239.6  175.3   7.6  938.9  646.0   0.0  20.0  50.50\n",
            "101  297.1   40.9  239.9  194.0   7.5  908.9  651.8  27.5  67.0  49.17\n",
            "102  348.7    0.1  223.1  208.5   9.6  786.2  758.1  29.0  78.0  48.77\n",
            "\n",
            "[103 rows x 10 columns]\n"
          ]
        }
      ],
      "source": [
        "with open('/content/drive/MyDrive/mulan_data/slump.arff', 'r') as f:\n",
        "  data= arff.load(f)\n",
        "  df = pd.DataFrame(data['data'])\n",
        "print (df)"
      ]
    },
    {
      "cell_type": "code",
      "execution_count": null,
      "metadata": {
        "colab": {
          "base_uri": "https://localhost:8080/",
          "height": 423
        },
        "id": "0VZSoa0faHtQ",
        "outputId": "dd6f1376-89d4-4b8e-c3eb-2f92043dca77"
      },
      "outputs": [
        {
          "output_type": "execute_result",
          "data": {
            "text/plain": [
              "     Cemment   Slag  Fly_ash  Water    SP  Coarse_Aggr  Fine_Aggr  SLUMP_cm  \\\n",
              "0      273.0   82.0    105.0  210.0   9.0        904.0      680.0      23.0   \n",
              "1      163.0  149.0    191.0  180.0  12.0        843.0      746.0       0.0   \n",
              "2      162.0  148.0    191.0  179.0  16.0        840.0      743.0       1.0   \n",
              "3      162.0  148.0    190.0  179.0  19.0        838.0      741.0       3.0   \n",
              "4      154.0  112.0    144.0  220.0  10.0        923.0      658.0      20.0   \n",
              "..       ...    ...      ...    ...   ...          ...        ...       ...   \n",
              "98     248.3  101.0    239.1  168.9   7.7        954.2      640.6       0.0   \n",
              "99     248.0  101.0    239.9  169.1   7.7        949.9      644.1       2.0   \n",
              "100    258.8   88.0    239.6  175.3   7.6        938.9      646.0       0.0   \n",
              "101    297.1   40.9    239.9  194.0   7.5        908.9      651.8      27.5   \n",
              "102    348.7    0.1    223.1  208.5   9.6        786.2      758.1      29.0   \n",
              "\n",
              "     FLOW_cm  Compressive_Strength_Mpa  \n",
              "0       62.0                     34.99  \n",
              "1       20.0                     41.14  \n",
              "2       20.0                     41.81  \n",
              "3       21.5                     42.08  \n",
              "4       64.0                     26.82  \n",
              "..       ...                       ...  \n",
              "98      20.0                     49.97  \n",
              "99      20.0                     50.23  \n",
              "100     20.0                     50.50  \n",
              "101     67.0                     49.17  \n",
              "102     78.0                     48.77  \n",
              "\n",
              "[103 rows x 10 columns]"
            ],
            "text/html": [
              "\n",
              "  <div id=\"df-e5445f26-7f74-41b7-8463-9122a58ac615\" class=\"colab-df-container\">\n",
              "    <div>\n",
              "<style scoped>\n",
              "    .dataframe tbody tr th:only-of-type {\n",
              "        vertical-align: middle;\n",
              "    }\n",
              "\n",
              "    .dataframe tbody tr th {\n",
              "        vertical-align: top;\n",
              "    }\n",
              "\n",
              "    .dataframe thead th {\n",
              "        text-align: right;\n",
              "    }\n",
              "</style>\n",
              "<table border=\"1\" class=\"dataframe\">\n",
              "  <thead>\n",
              "    <tr style=\"text-align: right;\">\n",
              "      <th></th>\n",
              "      <th>Cemment</th>\n",
              "      <th>Slag</th>\n",
              "      <th>Fly_ash</th>\n",
              "      <th>Water</th>\n",
              "      <th>SP</th>\n",
              "      <th>Coarse_Aggr</th>\n",
              "      <th>Fine_Aggr</th>\n",
              "      <th>SLUMP_cm</th>\n",
              "      <th>FLOW_cm</th>\n",
              "      <th>Compressive_Strength_Mpa</th>\n",
              "    </tr>\n",
              "  </thead>\n",
              "  <tbody>\n",
              "    <tr>\n",
              "      <th>0</th>\n",
              "      <td>273.0</td>\n",
              "      <td>82.0</td>\n",
              "      <td>105.0</td>\n",
              "      <td>210.0</td>\n",
              "      <td>9.0</td>\n",
              "      <td>904.0</td>\n",
              "      <td>680.0</td>\n",
              "      <td>23.0</td>\n",
              "      <td>62.0</td>\n",
              "      <td>34.99</td>\n",
              "    </tr>\n",
              "    <tr>\n",
              "      <th>1</th>\n",
              "      <td>163.0</td>\n",
              "      <td>149.0</td>\n",
              "      <td>191.0</td>\n",
              "      <td>180.0</td>\n",
              "      <td>12.0</td>\n",
              "      <td>843.0</td>\n",
              "      <td>746.0</td>\n",
              "      <td>0.0</td>\n",
              "      <td>20.0</td>\n",
              "      <td>41.14</td>\n",
              "    </tr>\n",
              "    <tr>\n",
              "      <th>2</th>\n",
              "      <td>162.0</td>\n",
              "      <td>148.0</td>\n",
              "      <td>191.0</td>\n",
              "      <td>179.0</td>\n",
              "      <td>16.0</td>\n",
              "      <td>840.0</td>\n",
              "      <td>743.0</td>\n",
              "      <td>1.0</td>\n",
              "      <td>20.0</td>\n",
              "      <td>41.81</td>\n",
              "    </tr>\n",
              "    <tr>\n",
              "      <th>3</th>\n",
              "      <td>162.0</td>\n",
              "      <td>148.0</td>\n",
              "      <td>190.0</td>\n",
              "      <td>179.0</td>\n",
              "      <td>19.0</td>\n",
              "      <td>838.0</td>\n",
              "      <td>741.0</td>\n",
              "      <td>3.0</td>\n",
              "      <td>21.5</td>\n",
              "      <td>42.08</td>\n",
              "    </tr>\n",
              "    <tr>\n",
              "      <th>4</th>\n",
              "      <td>154.0</td>\n",
              "      <td>112.0</td>\n",
              "      <td>144.0</td>\n",
              "      <td>220.0</td>\n",
              "      <td>10.0</td>\n",
              "      <td>923.0</td>\n",
              "      <td>658.0</td>\n",
              "      <td>20.0</td>\n",
              "      <td>64.0</td>\n",
              "      <td>26.82</td>\n",
              "    </tr>\n",
              "    <tr>\n",
              "      <th>...</th>\n",
              "      <td>...</td>\n",
              "      <td>...</td>\n",
              "      <td>...</td>\n",
              "      <td>...</td>\n",
              "      <td>...</td>\n",
              "      <td>...</td>\n",
              "      <td>...</td>\n",
              "      <td>...</td>\n",
              "      <td>...</td>\n",
              "      <td>...</td>\n",
              "    </tr>\n",
              "    <tr>\n",
              "      <th>98</th>\n",
              "      <td>248.3</td>\n",
              "      <td>101.0</td>\n",
              "      <td>239.1</td>\n",
              "      <td>168.9</td>\n",
              "      <td>7.7</td>\n",
              "      <td>954.2</td>\n",
              "      <td>640.6</td>\n",
              "      <td>0.0</td>\n",
              "      <td>20.0</td>\n",
              "      <td>49.97</td>\n",
              "    </tr>\n",
              "    <tr>\n",
              "      <th>99</th>\n",
              "      <td>248.0</td>\n",
              "      <td>101.0</td>\n",
              "      <td>239.9</td>\n",
              "      <td>169.1</td>\n",
              "      <td>7.7</td>\n",
              "      <td>949.9</td>\n",
              "      <td>644.1</td>\n",
              "      <td>2.0</td>\n",
              "      <td>20.0</td>\n",
              "      <td>50.23</td>\n",
              "    </tr>\n",
              "    <tr>\n",
              "      <th>100</th>\n",
              "      <td>258.8</td>\n",
              "      <td>88.0</td>\n",
              "      <td>239.6</td>\n",
              "      <td>175.3</td>\n",
              "      <td>7.6</td>\n",
              "      <td>938.9</td>\n",
              "      <td>646.0</td>\n",
              "      <td>0.0</td>\n",
              "      <td>20.0</td>\n",
              "      <td>50.50</td>\n",
              "    </tr>\n",
              "    <tr>\n",
              "      <th>101</th>\n",
              "      <td>297.1</td>\n",
              "      <td>40.9</td>\n",
              "      <td>239.9</td>\n",
              "      <td>194.0</td>\n",
              "      <td>7.5</td>\n",
              "      <td>908.9</td>\n",
              "      <td>651.8</td>\n",
              "      <td>27.5</td>\n",
              "      <td>67.0</td>\n",
              "      <td>49.17</td>\n",
              "    </tr>\n",
              "    <tr>\n",
              "      <th>102</th>\n",
              "      <td>348.7</td>\n",
              "      <td>0.1</td>\n",
              "      <td>223.1</td>\n",
              "      <td>208.5</td>\n",
              "      <td>9.6</td>\n",
              "      <td>786.2</td>\n",
              "      <td>758.1</td>\n",
              "      <td>29.0</td>\n",
              "      <td>78.0</td>\n",
              "      <td>48.77</td>\n",
              "    </tr>\n",
              "  </tbody>\n",
              "</table>\n",
              "<p>103 rows × 10 columns</p>\n",
              "</div>\n",
              "    <div class=\"colab-df-buttons\">\n",
              "\n",
              "  <div class=\"colab-df-container\">\n",
              "    <button class=\"colab-df-convert\" onclick=\"convertToInteractive('df-e5445f26-7f74-41b7-8463-9122a58ac615')\"\n",
              "            title=\"Convert this dataframe to an interactive table.\"\n",
              "            style=\"display:none;\">\n",
              "\n",
              "  <svg xmlns=\"http://www.w3.org/2000/svg\" height=\"24px\" viewBox=\"0 -960 960 960\">\n",
              "    <path d=\"M120-120v-720h720v720H120Zm60-500h600v-160H180v160Zm220 220h160v-160H400v160Zm0 220h160v-160H400v160ZM180-400h160v-160H180v160Zm440 0h160v-160H620v160ZM180-180h160v-160H180v160Zm440 0h160v-160H620v160Z\"/>\n",
              "  </svg>\n",
              "    </button>\n",
              "\n",
              "  <style>\n",
              "    .colab-df-container {\n",
              "      display:flex;\n",
              "      gap: 12px;\n",
              "    }\n",
              "\n",
              "    .colab-df-convert {\n",
              "      background-color: #E8F0FE;\n",
              "      border: none;\n",
              "      border-radius: 50%;\n",
              "      cursor: pointer;\n",
              "      display: none;\n",
              "      fill: #1967D2;\n",
              "      height: 32px;\n",
              "      padding: 0 0 0 0;\n",
              "      width: 32px;\n",
              "    }\n",
              "\n",
              "    .colab-df-convert:hover {\n",
              "      background-color: #E2EBFA;\n",
              "      box-shadow: 0px 1px 2px rgba(60, 64, 67, 0.3), 0px 1px 3px 1px rgba(60, 64, 67, 0.15);\n",
              "      fill: #174EA6;\n",
              "    }\n",
              "\n",
              "    .colab-df-buttons div {\n",
              "      margin-bottom: 4px;\n",
              "    }\n",
              "\n",
              "    [theme=dark] .colab-df-convert {\n",
              "      background-color: #3B4455;\n",
              "      fill: #D2E3FC;\n",
              "    }\n",
              "\n",
              "    [theme=dark] .colab-df-convert:hover {\n",
              "      background-color: #434B5C;\n",
              "      box-shadow: 0px 1px 3px 1px rgba(0, 0, 0, 0.15);\n",
              "      filter: drop-shadow(0px 1px 2px rgba(0, 0, 0, 0.3));\n",
              "      fill: #FFFFFF;\n",
              "    }\n",
              "  </style>\n",
              "\n",
              "    <script>\n",
              "      const buttonEl =\n",
              "        document.querySelector('#df-e5445f26-7f74-41b7-8463-9122a58ac615 button.colab-df-convert');\n",
              "      buttonEl.style.display =\n",
              "        google.colab.kernel.accessAllowed ? 'block' : 'none';\n",
              "\n",
              "      async function convertToInteractive(key) {\n",
              "        const element = document.querySelector('#df-e5445f26-7f74-41b7-8463-9122a58ac615');\n",
              "        const dataTable =\n",
              "          await google.colab.kernel.invokeFunction('convertToInteractive',\n",
              "                                                    [key], {});\n",
              "        if (!dataTable) return;\n",
              "\n",
              "        const docLinkHtml = 'Like what you see? Visit the ' +\n",
              "          '<a target=\"_blank\" href=https://colab.research.google.com/notebooks/data_table.ipynb>data table notebook</a>'\n",
              "          + ' to learn more about interactive tables.';\n",
              "        element.innerHTML = '';\n",
              "        dataTable['output_type'] = 'display_data';\n",
              "        await google.colab.output.renderOutput(dataTable, element);\n",
              "        const docLink = document.createElement('div');\n",
              "        docLink.innerHTML = docLinkHtml;\n",
              "        element.appendChild(docLink);\n",
              "      }\n",
              "    </script>\n",
              "  </div>\n",
              "\n",
              "\n",
              "<div id=\"df-fe9d127d-be4f-461b-ab29-b2ff88582524\">\n",
              "  <button class=\"colab-df-quickchart\" onclick=\"quickchart('df-fe9d127d-be4f-461b-ab29-b2ff88582524')\"\n",
              "            title=\"Suggest charts\"\n",
              "            style=\"display:none;\">\n",
              "\n",
              "<svg xmlns=\"http://www.w3.org/2000/svg\" height=\"24px\"viewBox=\"0 0 24 24\"\n",
              "     width=\"24px\">\n",
              "    <g>\n",
              "        <path d=\"M19 3H5c-1.1 0-2 .9-2 2v14c0 1.1.9 2 2 2h14c1.1 0 2-.9 2-2V5c0-1.1-.9-2-2-2zM9 17H7v-7h2v7zm4 0h-2V7h2v10zm4 0h-2v-4h2v4z\"/>\n",
              "    </g>\n",
              "</svg>\n",
              "  </button>\n",
              "\n",
              "<style>\n",
              "  .colab-df-quickchart {\n",
              "      --bg-color: #E8F0FE;\n",
              "      --fill-color: #1967D2;\n",
              "      --hover-bg-color: #E2EBFA;\n",
              "      --hover-fill-color: #174EA6;\n",
              "      --disabled-fill-color: #AAA;\n",
              "      --disabled-bg-color: #DDD;\n",
              "  }\n",
              "\n",
              "  [theme=dark] .colab-df-quickchart {\n",
              "      --bg-color: #3B4455;\n",
              "      --fill-color: #D2E3FC;\n",
              "      --hover-bg-color: #434B5C;\n",
              "      --hover-fill-color: #FFFFFF;\n",
              "      --disabled-bg-color: #3B4455;\n",
              "      --disabled-fill-color: #666;\n",
              "  }\n",
              "\n",
              "  .colab-df-quickchart {\n",
              "    background-color: var(--bg-color);\n",
              "    border: none;\n",
              "    border-radius: 50%;\n",
              "    cursor: pointer;\n",
              "    display: none;\n",
              "    fill: var(--fill-color);\n",
              "    height: 32px;\n",
              "    padding: 0;\n",
              "    width: 32px;\n",
              "  }\n",
              "\n",
              "  .colab-df-quickchart:hover {\n",
              "    background-color: var(--hover-bg-color);\n",
              "    box-shadow: 0 1px 2px rgba(60, 64, 67, 0.3), 0 1px 3px 1px rgba(60, 64, 67, 0.15);\n",
              "    fill: var(--button-hover-fill-color);\n",
              "  }\n",
              "\n",
              "  .colab-df-quickchart-complete:disabled,\n",
              "  .colab-df-quickchart-complete:disabled:hover {\n",
              "    background-color: var(--disabled-bg-color);\n",
              "    fill: var(--disabled-fill-color);\n",
              "    box-shadow: none;\n",
              "  }\n",
              "\n",
              "  .colab-df-spinner {\n",
              "    border: 2px solid var(--fill-color);\n",
              "    border-color: transparent;\n",
              "    border-bottom-color: var(--fill-color);\n",
              "    animation:\n",
              "      spin 1s steps(1) infinite;\n",
              "  }\n",
              "\n",
              "  @keyframes spin {\n",
              "    0% {\n",
              "      border-color: transparent;\n",
              "      border-bottom-color: var(--fill-color);\n",
              "      border-left-color: var(--fill-color);\n",
              "    }\n",
              "    20% {\n",
              "      border-color: transparent;\n",
              "      border-left-color: var(--fill-color);\n",
              "      border-top-color: var(--fill-color);\n",
              "    }\n",
              "    30% {\n",
              "      border-color: transparent;\n",
              "      border-left-color: var(--fill-color);\n",
              "      border-top-color: var(--fill-color);\n",
              "      border-right-color: var(--fill-color);\n",
              "    }\n",
              "    40% {\n",
              "      border-color: transparent;\n",
              "      border-right-color: var(--fill-color);\n",
              "      border-top-color: var(--fill-color);\n",
              "    }\n",
              "    60% {\n",
              "      border-color: transparent;\n",
              "      border-right-color: var(--fill-color);\n",
              "    }\n",
              "    80% {\n",
              "      border-color: transparent;\n",
              "      border-right-color: var(--fill-color);\n",
              "      border-bottom-color: var(--fill-color);\n",
              "    }\n",
              "    90% {\n",
              "      border-color: transparent;\n",
              "      border-bottom-color: var(--fill-color);\n",
              "    }\n",
              "  }\n",
              "</style>\n",
              "\n",
              "  <script>\n",
              "    async function quickchart(key) {\n",
              "      const quickchartButtonEl =\n",
              "        document.querySelector('#' + key + ' button');\n",
              "      quickchartButtonEl.disabled = true;  // To prevent multiple clicks.\n",
              "      quickchartButtonEl.classList.add('colab-df-spinner');\n",
              "      try {\n",
              "        const charts = await google.colab.kernel.invokeFunction(\n",
              "            'suggestCharts', [key], {});\n",
              "      } catch (error) {\n",
              "        console.error('Error during call to suggestCharts:', error);\n",
              "      }\n",
              "      quickchartButtonEl.classList.remove('colab-df-spinner');\n",
              "      quickchartButtonEl.classList.add('colab-df-quickchart-complete');\n",
              "    }\n",
              "    (() => {\n",
              "      let quickchartButtonEl =\n",
              "        document.querySelector('#df-fe9d127d-be4f-461b-ab29-b2ff88582524 button');\n",
              "      quickchartButtonEl.style.display =\n",
              "        google.colab.kernel.accessAllowed ? 'block' : 'none';\n",
              "    })();\n",
              "  </script>\n",
              "</div>\n",
              "\n",
              "  <div id=\"id_f528478d-9c7f-48ea-8739-fde2a5bca527\">\n",
              "    <style>\n",
              "      .colab-df-generate {\n",
              "        background-color: #E8F0FE;\n",
              "        border: none;\n",
              "        border-radius: 50%;\n",
              "        cursor: pointer;\n",
              "        display: none;\n",
              "        fill: #1967D2;\n",
              "        height: 32px;\n",
              "        padding: 0 0 0 0;\n",
              "        width: 32px;\n",
              "      }\n",
              "\n",
              "      .colab-df-generate:hover {\n",
              "        background-color: #E2EBFA;\n",
              "        box-shadow: 0px 1px 2px rgba(60, 64, 67, 0.3), 0px 1px 3px 1px rgba(60, 64, 67, 0.15);\n",
              "        fill: #174EA6;\n",
              "      }\n",
              "\n",
              "      [theme=dark] .colab-df-generate {\n",
              "        background-color: #3B4455;\n",
              "        fill: #D2E3FC;\n",
              "      }\n",
              "\n",
              "      [theme=dark] .colab-df-generate:hover {\n",
              "        background-color: #434B5C;\n",
              "        box-shadow: 0px 1px 3px 1px rgba(0, 0, 0, 0.15);\n",
              "        filter: drop-shadow(0px 1px 2px rgba(0, 0, 0, 0.3));\n",
              "        fill: #FFFFFF;\n",
              "      }\n",
              "    </style>\n",
              "    <button class=\"colab-df-generate\" onclick=\"generateWithVariable('df')\"\n",
              "            title=\"Generate code using this dataframe.\"\n",
              "            style=\"display:none;\">\n",
              "\n",
              "  <svg xmlns=\"http://www.w3.org/2000/svg\" height=\"24px\"viewBox=\"0 0 24 24\"\n",
              "       width=\"24px\">\n",
              "    <path d=\"M7,19H8.4L18.45,9,17,7.55,7,17.6ZM5,21V16.75L18.45,3.32a2,2,0,0,1,2.83,0l1.4,1.43a1.91,1.91,0,0,1,.58,1.4,1.91,1.91,0,0,1-.58,1.4L9.25,21ZM18.45,9,17,7.55Zm-12,3A5.31,5.31,0,0,0,4.9,8.1,5.31,5.31,0,0,0,1,6.5,5.31,5.31,0,0,0,4.9,4.9,5.31,5.31,0,0,0,6.5,1,5.31,5.31,0,0,0,8.1,4.9,5.31,5.31,0,0,0,12,6.5,5.46,5.46,0,0,0,6.5,12Z\"/>\n",
              "  </svg>\n",
              "    </button>\n",
              "    <script>\n",
              "      (() => {\n",
              "      const buttonEl =\n",
              "        document.querySelector('#id_f528478d-9c7f-48ea-8739-fde2a5bca527 button.colab-df-generate');\n",
              "      buttonEl.style.display =\n",
              "        google.colab.kernel.accessAllowed ? 'block' : 'none';\n",
              "\n",
              "      buttonEl.onclick = () => {\n",
              "        google.colab.notebook.generateWithVariable('df');\n",
              "      }\n",
              "      })();\n",
              "    </script>\n",
              "  </div>\n",
              "\n",
              "    </div>\n",
              "  </div>\n"
            ],
            "application/vnd.google.colaboratory.intrinsic+json": {
              "type": "dataframe",
              "variable_name": "df",
              "summary": "{\n  \"name\": \"df\",\n  \"rows\": 103,\n  \"fields\": [\n    {\n      \"column\": \"Cemment\",\n      \"properties\": {\n        \"dtype\": \"number\",\n        \"std\": 78.87723002688581,\n        \"min\": 137.0,\n        \"max\": 374.0,\n        \"num_unique_values\": 80,\n        \"samples\": [\n          165.0,\n          273.0,\n          314.0\n        ],\n        \"semantic_type\": \"\",\n        \"description\": \"\"\n      }\n    },\n    {\n      \"column\": \"Slag\",\n      \"properties\": {\n        \"dtype\": \"number\",\n        \"std\": 60.46136338996614,\n        \"min\": 0.0,\n        \"max\": 193.0,\n        \"num_unique_values\": 63,\n        \"samples\": [\n          40.9,\n          153.4,\n          82.0\n        ],\n        \"semantic_type\": \"\",\n        \"description\": \"\"\n      }\n    },\n    {\n      \"column\": \"Fly_ash\",\n      \"properties\": {\n        \"dtype\": \"number\",\n        \"std\": 85.41807955724845,\n        \"min\": 0.0,\n        \"max\": 260.0,\n        \"num_unique_values\": 58,\n        \"samples\": [\n          105.0,\n          178.0,\n          111.0\n        ],\n        \"semantic_type\": \"\",\n        \"description\": \"\"\n      }\n    },\n    {\n      \"column\": \"Water\",\n      \"properties\": {\n        \"dtype\": \"number\",\n        \"std\": 20.208157999282548,\n        \"min\": 160.0,\n        \"max\": 240.0,\n        \"num_unique_values\": 70,\n        \"samples\": [\n          174.0,\n          210.0,\n          193.9\n        ],\n        \"semantic_type\": \"\",\n        \"description\": \"\"\n      }\n    },\n    {\n      \"column\": \"SP\",\n      \"properties\": {\n        \"dtype\": \"number\",\n        \"std\": 2.8075297845861362,\n        \"min\": 4.4,\n        \"max\": 19.0,\n        \"num_unique_values\": 32,\n        \"samples\": [\n          7.7,\n          4.7,\n          6.7\n        ],\n        \"semantic_type\": \"\",\n        \"description\": \"\"\n      }\n    },\n    {\n      \"column\": \"Coarse_Aggr\",\n      \"properties\": {\n        \"dtype\": \"number\",\n        \"std\": 88.3913930359754,\n        \"min\": 708.0,\n        \"max\": 1049.9,\n        \"num_unique_values\": 92,\n        \"samples\": [\n          879.0,\n          883.0,\n          881.0\n        ],\n        \"semantic_type\": \"\",\n        \"description\": \"\"\n      }\n    },\n    {\n      \"column\": \"Fine_Aggr\",\n      \"properties\": {\n        \"dtype\": \"number\",\n        \"std\": 63.342117108078135,\n        \"min\": 640.6,\n        \"max\": 902.0,\n        \"num_unique_values\": 90,\n        \"samples\": [\n          815.0,\n          749.0,\n          799.0\n        ],\n        \"semantic_type\": \"\",\n        \"description\": \"\"\n      }\n    },\n    {\n      \"column\": \"SLUMP_cm\",\n      \"properties\": {\n        \"dtype\": \"number\",\n        \"std\": 8.750844374695014,\n        \"min\": 0.0,\n        \"max\": 29.0,\n        \"num_unique_values\": 39,\n        \"samples\": [\n          2.0,\n          21.25,\n          20.0\n        ],\n        \"semantic_type\": \"\",\n        \"description\": \"\"\n      }\n    },\n    {\n      \"column\": \"FLOW_cm\",\n      \"properties\": {\n        \"dtype\": \"number\",\n        \"std\": 17.56861011287762,\n        \"min\": 20.0,\n        \"max\": 78.0,\n        \"num_unique_values\": 51,\n        \"samples\": [\n          75.0,\n          39.0,\n          27.5\n        ],\n        \"semantic_type\": \"\",\n        \"description\": \"\"\n      }\n    },\n    {\n      \"column\": \"Compressive_Strength_Mpa\",\n      \"properties\": {\n        \"dtype\": \"number\",\n        \"std\": 7.838231821572466,\n        \"min\": 17.19,\n        \"max\": 58.53,\n        \"num_unique_values\": 83,\n        \"samples\": [\n          52.65,\n          34.99,\n          18.52\n        ],\n        \"semantic_type\": \"\",\n        \"description\": \"\"\n      }\n    }\n  ]\n}"
            }
          },
          "metadata": {},
          "execution_count": 69
        }
      ],
      "source": [
        "df = pd.DataFrame(data['data'], columns=[x[0] for x in data['attributes']])\n",
        "\n",
        "df"
      ]
    },
    {
      "cell_type": "code",
      "execution_count": null,
      "metadata": {
        "id": "tlJwPbjM6y1m"
      },
      "outputs": [],
      "source": [
        "Data_index =df.iloc[:, :7]\n",
        "label_index=df.iloc[:, 7:10]\n",
        "# Standardize the data\n",
        "scaler = StandardScaler()\n",
        "X_scaled = scaler.fit_transform(Data_index.values)"
      ]
    },
    {
      "cell_type": "code",
      "execution_count": null,
      "metadata": {
        "colab": {
          "base_uri": "https://localhost:8080/",
          "height": 423
        },
        "id": "RObweRBLXiV7",
        "outputId": "12ee8b26-bb93-41e4-ff67-90354240495d"
      },
      "outputs": [
        {
          "output_type": "execute_result",
          "data": {
            "text/plain": [
              "     SLUMP_cm  FLOW_cm  Compressive_Strength_Mpa\n",
              "0        23.0     62.0                     34.99\n",
              "1         0.0     20.0                     41.14\n",
              "2         1.0     20.0                     41.81\n",
              "3         3.0     21.5                     42.08\n",
              "4        20.0     64.0                     26.82\n",
              "..        ...      ...                       ...\n",
              "98        0.0     20.0                     49.97\n",
              "99        2.0     20.0                     50.23\n",
              "100       0.0     20.0                     50.50\n",
              "101      27.5     67.0                     49.17\n",
              "102      29.0     78.0                     48.77\n",
              "\n",
              "[103 rows x 3 columns]"
            ],
            "text/html": [
              "\n",
              "  <div id=\"df-1200e3e0-9e15-4294-8fe3-6010d56fa474\" class=\"colab-df-container\">\n",
              "    <div>\n",
              "<style scoped>\n",
              "    .dataframe tbody tr th:only-of-type {\n",
              "        vertical-align: middle;\n",
              "    }\n",
              "\n",
              "    .dataframe tbody tr th {\n",
              "        vertical-align: top;\n",
              "    }\n",
              "\n",
              "    .dataframe thead th {\n",
              "        text-align: right;\n",
              "    }\n",
              "</style>\n",
              "<table border=\"1\" class=\"dataframe\">\n",
              "  <thead>\n",
              "    <tr style=\"text-align: right;\">\n",
              "      <th></th>\n",
              "      <th>SLUMP_cm</th>\n",
              "      <th>FLOW_cm</th>\n",
              "      <th>Compressive_Strength_Mpa</th>\n",
              "    </tr>\n",
              "  </thead>\n",
              "  <tbody>\n",
              "    <tr>\n",
              "      <th>0</th>\n",
              "      <td>23.0</td>\n",
              "      <td>62.0</td>\n",
              "      <td>34.99</td>\n",
              "    </tr>\n",
              "    <tr>\n",
              "      <th>1</th>\n",
              "      <td>0.0</td>\n",
              "      <td>20.0</td>\n",
              "      <td>41.14</td>\n",
              "    </tr>\n",
              "    <tr>\n",
              "      <th>2</th>\n",
              "      <td>1.0</td>\n",
              "      <td>20.0</td>\n",
              "      <td>41.81</td>\n",
              "    </tr>\n",
              "    <tr>\n",
              "      <th>3</th>\n",
              "      <td>3.0</td>\n",
              "      <td>21.5</td>\n",
              "      <td>42.08</td>\n",
              "    </tr>\n",
              "    <tr>\n",
              "      <th>4</th>\n",
              "      <td>20.0</td>\n",
              "      <td>64.0</td>\n",
              "      <td>26.82</td>\n",
              "    </tr>\n",
              "    <tr>\n",
              "      <th>...</th>\n",
              "      <td>...</td>\n",
              "      <td>...</td>\n",
              "      <td>...</td>\n",
              "    </tr>\n",
              "    <tr>\n",
              "      <th>98</th>\n",
              "      <td>0.0</td>\n",
              "      <td>20.0</td>\n",
              "      <td>49.97</td>\n",
              "    </tr>\n",
              "    <tr>\n",
              "      <th>99</th>\n",
              "      <td>2.0</td>\n",
              "      <td>20.0</td>\n",
              "      <td>50.23</td>\n",
              "    </tr>\n",
              "    <tr>\n",
              "      <th>100</th>\n",
              "      <td>0.0</td>\n",
              "      <td>20.0</td>\n",
              "      <td>50.50</td>\n",
              "    </tr>\n",
              "    <tr>\n",
              "      <th>101</th>\n",
              "      <td>27.5</td>\n",
              "      <td>67.0</td>\n",
              "      <td>49.17</td>\n",
              "    </tr>\n",
              "    <tr>\n",
              "      <th>102</th>\n",
              "      <td>29.0</td>\n",
              "      <td>78.0</td>\n",
              "      <td>48.77</td>\n",
              "    </tr>\n",
              "  </tbody>\n",
              "</table>\n",
              "<p>103 rows × 3 columns</p>\n",
              "</div>\n",
              "    <div class=\"colab-df-buttons\">\n",
              "\n",
              "  <div class=\"colab-df-container\">\n",
              "    <button class=\"colab-df-convert\" onclick=\"convertToInteractive('df-1200e3e0-9e15-4294-8fe3-6010d56fa474')\"\n",
              "            title=\"Convert this dataframe to an interactive table.\"\n",
              "            style=\"display:none;\">\n",
              "\n",
              "  <svg xmlns=\"http://www.w3.org/2000/svg\" height=\"24px\" viewBox=\"0 -960 960 960\">\n",
              "    <path d=\"M120-120v-720h720v720H120Zm60-500h600v-160H180v160Zm220 220h160v-160H400v160Zm0 220h160v-160H400v160ZM180-400h160v-160H180v160Zm440 0h160v-160H620v160ZM180-180h160v-160H180v160Zm440 0h160v-160H620v160Z\"/>\n",
              "  </svg>\n",
              "    </button>\n",
              "\n",
              "  <style>\n",
              "    .colab-df-container {\n",
              "      display:flex;\n",
              "      gap: 12px;\n",
              "    }\n",
              "\n",
              "    .colab-df-convert {\n",
              "      background-color: #E8F0FE;\n",
              "      border: none;\n",
              "      border-radius: 50%;\n",
              "      cursor: pointer;\n",
              "      display: none;\n",
              "      fill: #1967D2;\n",
              "      height: 32px;\n",
              "      padding: 0 0 0 0;\n",
              "      width: 32px;\n",
              "    }\n",
              "\n",
              "    .colab-df-convert:hover {\n",
              "      background-color: #E2EBFA;\n",
              "      box-shadow: 0px 1px 2px rgba(60, 64, 67, 0.3), 0px 1px 3px 1px rgba(60, 64, 67, 0.15);\n",
              "      fill: #174EA6;\n",
              "    }\n",
              "\n",
              "    .colab-df-buttons div {\n",
              "      margin-bottom: 4px;\n",
              "    }\n",
              "\n",
              "    [theme=dark] .colab-df-convert {\n",
              "      background-color: #3B4455;\n",
              "      fill: #D2E3FC;\n",
              "    }\n",
              "\n",
              "    [theme=dark] .colab-df-convert:hover {\n",
              "      background-color: #434B5C;\n",
              "      box-shadow: 0px 1px 3px 1px rgba(0, 0, 0, 0.15);\n",
              "      filter: drop-shadow(0px 1px 2px rgba(0, 0, 0, 0.3));\n",
              "      fill: #FFFFFF;\n",
              "    }\n",
              "  </style>\n",
              "\n",
              "    <script>\n",
              "      const buttonEl =\n",
              "        document.querySelector('#df-1200e3e0-9e15-4294-8fe3-6010d56fa474 button.colab-df-convert');\n",
              "      buttonEl.style.display =\n",
              "        google.colab.kernel.accessAllowed ? 'block' : 'none';\n",
              "\n",
              "      async function convertToInteractive(key) {\n",
              "        const element = document.querySelector('#df-1200e3e0-9e15-4294-8fe3-6010d56fa474');\n",
              "        const dataTable =\n",
              "          await google.colab.kernel.invokeFunction('convertToInteractive',\n",
              "                                                    [key], {});\n",
              "        if (!dataTable) return;\n",
              "\n",
              "        const docLinkHtml = 'Like what you see? Visit the ' +\n",
              "          '<a target=\"_blank\" href=https://colab.research.google.com/notebooks/data_table.ipynb>data table notebook</a>'\n",
              "          + ' to learn more about interactive tables.';\n",
              "        element.innerHTML = '';\n",
              "        dataTable['output_type'] = 'display_data';\n",
              "        await google.colab.output.renderOutput(dataTable, element);\n",
              "        const docLink = document.createElement('div');\n",
              "        docLink.innerHTML = docLinkHtml;\n",
              "        element.appendChild(docLink);\n",
              "      }\n",
              "    </script>\n",
              "  </div>\n",
              "\n",
              "\n",
              "<div id=\"df-0e0d8722-1494-4f5e-a676-c2fbe5ae9c56\">\n",
              "  <button class=\"colab-df-quickchart\" onclick=\"quickchart('df-0e0d8722-1494-4f5e-a676-c2fbe5ae9c56')\"\n",
              "            title=\"Suggest charts\"\n",
              "            style=\"display:none;\">\n",
              "\n",
              "<svg xmlns=\"http://www.w3.org/2000/svg\" height=\"24px\"viewBox=\"0 0 24 24\"\n",
              "     width=\"24px\">\n",
              "    <g>\n",
              "        <path d=\"M19 3H5c-1.1 0-2 .9-2 2v14c0 1.1.9 2 2 2h14c1.1 0 2-.9 2-2V5c0-1.1-.9-2-2-2zM9 17H7v-7h2v7zm4 0h-2V7h2v10zm4 0h-2v-4h2v4z\"/>\n",
              "    </g>\n",
              "</svg>\n",
              "  </button>\n",
              "\n",
              "<style>\n",
              "  .colab-df-quickchart {\n",
              "      --bg-color: #E8F0FE;\n",
              "      --fill-color: #1967D2;\n",
              "      --hover-bg-color: #E2EBFA;\n",
              "      --hover-fill-color: #174EA6;\n",
              "      --disabled-fill-color: #AAA;\n",
              "      --disabled-bg-color: #DDD;\n",
              "  }\n",
              "\n",
              "  [theme=dark] .colab-df-quickchart {\n",
              "      --bg-color: #3B4455;\n",
              "      --fill-color: #D2E3FC;\n",
              "      --hover-bg-color: #434B5C;\n",
              "      --hover-fill-color: #FFFFFF;\n",
              "      --disabled-bg-color: #3B4455;\n",
              "      --disabled-fill-color: #666;\n",
              "  }\n",
              "\n",
              "  .colab-df-quickchart {\n",
              "    background-color: var(--bg-color);\n",
              "    border: none;\n",
              "    border-radius: 50%;\n",
              "    cursor: pointer;\n",
              "    display: none;\n",
              "    fill: var(--fill-color);\n",
              "    height: 32px;\n",
              "    padding: 0;\n",
              "    width: 32px;\n",
              "  }\n",
              "\n",
              "  .colab-df-quickchart:hover {\n",
              "    background-color: var(--hover-bg-color);\n",
              "    box-shadow: 0 1px 2px rgba(60, 64, 67, 0.3), 0 1px 3px 1px rgba(60, 64, 67, 0.15);\n",
              "    fill: var(--button-hover-fill-color);\n",
              "  }\n",
              "\n",
              "  .colab-df-quickchart-complete:disabled,\n",
              "  .colab-df-quickchart-complete:disabled:hover {\n",
              "    background-color: var(--disabled-bg-color);\n",
              "    fill: var(--disabled-fill-color);\n",
              "    box-shadow: none;\n",
              "  }\n",
              "\n",
              "  .colab-df-spinner {\n",
              "    border: 2px solid var(--fill-color);\n",
              "    border-color: transparent;\n",
              "    border-bottom-color: var(--fill-color);\n",
              "    animation:\n",
              "      spin 1s steps(1) infinite;\n",
              "  }\n",
              "\n",
              "  @keyframes spin {\n",
              "    0% {\n",
              "      border-color: transparent;\n",
              "      border-bottom-color: var(--fill-color);\n",
              "      border-left-color: var(--fill-color);\n",
              "    }\n",
              "    20% {\n",
              "      border-color: transparent;\n",
              "      border-left-color: var(--fill-color);\n",
              "      border-top-color: var(--fill-color);\n",
              "    }\n",
              "    30% {\n",
              "      border-color: transparent;\n",
              "      border-left-color: var(--fill-color);\n",
              "      border-top-color: var(--fill-color);\n",
              "      border-right-color: var(--fill-color);\n",
              "    }\n",
              "    40% {\n",
              "      border-color: transparent;\n",
              "      border-right-color: var(--fill-color);\n",
              "      border-top-color: var(--fill-color);\n",
              "    }\n",
              "    60% {\n",
              "      border-color: transparent;\n",
              "      border-right-color: var(--fill-color);\n",
              "    }\n",
              "    80% {\n",
              "      border-color: transparent;\n",
              "      border-right-color: var(--fill-color);\n",
              "      border-bottom-color: var(--fill-color);\n",
              "    }\n",
              "    90% {\n",
              "      border-color: transparent;\n",
              "      border-bottom-color: var(--fill-color);\n",
              "    }\n",
              "  }\n",
              "</style>\n",
              "\n",
              "  <script>\n",
              "    async function quickchart(key) {\n",
              "      const quickchartButtonEl =\n",
              "        document.querySelector('#' + key + ' button');\n",
              "      quickchartButtonEl.disabled = true;  // To prevent multiple clicks.\n",
              "      quickchartButtonEl.classList.add('colab-df-spinner');\n",
              "      try {\n",
              "        const charts = await google.colab.kernel.invokeFunction(\n",
              "            'suggestCharts', [key], {});\n",
              "      } catch (error) {\n",
              "        console.error('Error during call to suggestCharts:', error);\n",
              "      }\n",
              "      quickchartButtonEl.classList.remove('colab-df-spinner');\n",
              "      quickchartButtonEl.classList.add('colab-df-quickchart-complete');\n",
              "    }\n",
              "    (() => {\n",
              "      let quickchartButtonEl =\n",
              "        document.querySelector('#df-0e0d8722-1494-4f5e-a676-c2fbe5ae9c56 button');\n",
              "      quickchartButtonEl.style.display =\n",
              "        google.colab.kernel.accessAllowed ? 'block' : 'none';\n",
              "    })();\n",
              "  </script>\n",
              "</div>\n",
              "\n",
              "  <div id=\"id_fbe133e0-0176-4277-9819-078a5230d31c\">\n",
              "    <style>\n",
              "      .colab-df-generate {\n",
              "        background-color: #E8F0FE;\n",
              "        border: none;\n",
              "        border-radius: 50%;\n",
              "        cursor: pointer;\n",
              "        display: none;\n",
              "        fill: #1967D2;\n",
              "        height: 32px;\n",
              "        padding: 0 0 0 0;\n",
              "        width: 32px;\n",
              "      }\n",
              "\n",
              "      .colab-df-generate:hover {\n",
              "        background-color: #E2EBFA;\n",
              "        box-shadow: 0px 1px 2px rgba(60, 64, 67, 0.3), 0px 1px 3px 1px rgba(60, 64, 67, 0.15);\n",
              "        fill: #174EA6;\n",
              "      }\n",
              "\n",
              "      [theme=dark] .colab-df-generate {\n",
              "        background-color: #3B4455;\n",
              "        fill: #D2E3FC;\n",
              "      }\n",
              "\n",
              "      [theme=dark] .colab-df-generate:hover {\n",
              "        background-color: #434B5C;\n",
              "        box-shadow: 0px 1px 3px 1px rgba(0, 0, 0, 0.15);\n",
              "        filter: drop-shadow(0px 1px 2px rgba(0, 0, 0, 0.3));\n",
              "        fill: #FFFFFF;\n",
              "      }\n",
              "    </style>\n",
              "    <button class=\"colab-df-generate\" onclick=\"generateWithVariable('label_index')\"\n",
              "            title=\"Generate code using this dataframe.\"\n",
              "            style=\"display:none;\">\n",
              "\n",
              "  <svg xmlns=\"http://www.w3.org/2000/svg\" height=\"24px\"viewBox=\"0 0 24 24\"\n",
              "       width=\"24px\">\n",
              "    <path d=\"M7,19H8.4L18.45,9,17,7.55,7,17.6ZM5,21V16.75L18.45,3.32a2,2,0,0,1,2.83,0l1.4,1.43a1.91,1.91,0,0,1,.58,1.4,1.91,1.91,0,0,1-.58,1.4L9.25,21ZM18.45,9,17,7.55Zm-12,3A5.31,5.31,0,0,0,4.9,8.1,5.31,5.31,0,0,0,1,6.5,5.31,5.31,0,0,0,4.9,4.9,5.31,5.31,0,0,0,6.5,1,5.31,5.31,0,0,0,8.1,4.9,5.31,5.31,0,0,0,12,6.5,5.46,5.46,0,0,0,6.5,12Z\"/>\n",
              "  </svg>\n",
              "    </button>\n",
              "    <script>\n",
              "      (() => {\n",
              "      const buttonEl =\n",
              "        document.querySelector('#id_fbe133e0-0176-4277-9819-078a5230d31c button.colab-df-generate');\n",
              "      buttonEl.style.display =\n",
              "        google.colab.kernel.accessAllowed ? 'block' : 'none';\n",
              "\n",
              "      buttonEl.onclick = () => {\n",
              "        google.colab.notebook.generateWithVariable('label_index');\n",
              "      }\n",
              "      })();\n",
              "    </script>\n",
              "  </div>\n",
              "\n",
              "    </div>\n",
              "  </div>\n"
            ],
            "application/vnd.google.colaboratory.intrinsic+json": {
              "type": "dataframe",
              "variable_name": "label_index",
              "summary": "{\n  \"name\": \"label_index\",\n  \"rows\": 103,\n  \"fields\": [\n    {\n      \"column\": \"SLUMP_cm\",\n      \"properties\": {\n        \"dtype\": \"number\",\n        \"std\": 8.750844374695014,\n        \"min\": 0.0,\n        \"max\": 29.0,\n        \"num_unique_values\": 39,\n        \"samples\": [\n          2.0,\n          21.25,\n          20.0\n        ],\n        \"semantic_type\": \"\",\n        \"description\": \"\"\n      }\n    },\n    {\n      \"column\": \"FLOW_cm\",\n      \"properties\": {\n        \"dtype\": \"number\",\n        \"std\": 17.56861011287762,\n        \"min\": 20.0,\n        \"max\": 78.0,\n        \"num_unique_values\": 51,\n        \"samples\": [\n          75.0,\n          39.0,\n          27.5\n        ],\n        \"semantic_type\": \"\",\n        \"description\": \"\"\n      }\n    },\n    {\n      \"column\": \"Compressive_Strength_Mpa\",\n      \"properties\": {\n        \"dtype\": \"number\",\n        \"std\": 7.838231821572466,\n        \"min\": 17.19,\n        \"max\": 58.53,\n        \"num_unique_values\": 83,\n        \"samples\": [\n          52.65,\n          34.99,\n          18.52\n        ],\n        \"semantic_type\": \"\",\n        \"description\": \"\"\n      }\n    }\n  ]\n}"
            }
          },
          "metadata": {},
          "execution_count": 71
        }
      ],
      "source": [
        "label_index"
      ]
    },
    {
      "cell_type": "markdown",
      "metadata": {
        "id": "m9LaADcz7JU1"
      },
      "source": [
        "For solarfae"
      ]
    },
    {
      "cell_type": "code",
      "execution_count": null,
      "metadata": {
        "colab": {
          "base_uri": "https://localhost:8080/"
        },
        "collapsed": true,
        "id": "CMCbbFpp7IRs",
        "outputId": "8946e163-dd57-465b-806c-79ba00a1a5a7"
      },
      "outputs": [
        {
          "output_type": "stream",
          "name": "stdout",
          "text": [
            "    0  1  2  3  4  5  6  7  8  9    10   11   12\n",
            "0    C  S  O  1  2  1  1  2  1  2  0.0  0.0  0.0\n",
            "1    D  S  O  1  3  1  1  2  1  2  0.0  0.0  0.0\n",
            "2    C  S  O  1  3  1  1  2  1  1  0.0  0.0  0.0\n",
            "3    D  S  O  1  3  1  1  2  1  2  0.0  0.0  0.0\n",
            "4    D  A  O  1  3  1  1  2  1  2  0.0  0.0  0.0\n",
            "..  .. .. .. .. .. .. .. .. .. ..  ...  ...  ...\n",
            "318  C  R  O  1  2  1  2  2  1  2  0.0  0.0  0.0\n",
            "319  D  R  O  1  3  1  1  2  1  2  0.0  0.0  0.0\n",
            "320  E  A  O  1  3  1  1  2  1  2  0.0  0.0  0.0\n",
            "321  C  R  O  1  3  1  1  2  1  1  0.0  0.0  0.0\n",
            "322  E  K  C  1  3  1  1  2  2  2  0.0  2.0  0.0\n",
            "\n",
            "[323 rows x 13 columns]\n"
          ]
        }
      ],
      "source": [
        "with open('/content/drive/MyDrive/mulan_data/sf1.arff', 'r') as f:\n",
        "  data= arff.load(f)\n",
        "  df = pd.DataFrame(data['data'])\n",
        "print (df)"
      ]
    },
    {
      "cell_type": "code",
      "execution_count": null,
      "metadata": {
        "colab": {
          "base_uri": "https://localhost:8080/",
          "height": 461
        },
        "collapsed": true,
        "id": "z5j6fH4yALwl",
        "outputId": "ad1c1d1f-a2ea-48b0-e9ed-f5f87516ae3d"
      },
      "outputs": [
        {
          "output_type": "execute_result",
          "data": {
            "text/plain": [
              "     mod_zurich_class largest_spot_size spot_distribution activity evolution  \\\n",
              "0                   H                 A                 X        1         3   \n",
              "1                   D                 R                 O        1         3   \n",
              "2                   C                 S                 O        1         3   \n",
              "3                   H                 R                 X        1         2   \n",
              "4                   H                 S                 X        1         1   \n",
              "...               ...               ...               ...      ...       ...   \n",
              "1061                H                 S                 X        1         2   \n",
              "1062                H                 S                 X        2         2   \n",
              "1063                C                 S                 O        1         2   \n",
              "1064                H                 R                 X        1         2   \n",
              "1065                B                 X                 O        1         1   \n",
              "\n",
              "     previous_day_activity hist_complex become_hist_complex area area_largest  \\\n",
              "0                        1            1                   1    1            1   \n",
              "1                        1            1                   2    1            1   \n",
              "2                        1            1                   2    1            1   \n",
              "3                        1            1                   1    1            1   \n",
              "4                        1            1                   2    1            1   \n",
              "...                    ...          ...                 ...  ...          ...   \n",
              "1061                     1            1                   1    1            1   \n",
              "1062                     1            1                   2    1            1   \n",
              "1063                     1            2                   2    1            1   \n",
              "1064                     1            1                   2    1            1   \n",
              "1065                     1            1                   2    1            1   \n",
              "\n",
              "      c-class  m-class  x-class  \n",
              "0         0.0      0.0      0.0  \n",
              "1         0.0      0.0      0.0  \n",
              "2         0.0      0.0      0.0  \n",
              "3         0.0      0.0      0.0  \n",
              "4         0.0      0.0      0.0  \n",
              "...       ...      ...      ...  \n",
              "1061      0.0      0.0      0.0  \n",
              "1062      0.0      0.0      0.0  \n",
              "1063      0.0      0.0      0.0  \n",
              "1064      0.0      0.0      0.0  \n",
              "1065      0.0      0.0      0.0  \n",
              "\n",
              "[1066 rows x 13 columns]"
            ],
            "text/html": [
              "\n",
              "  <div id=\"df-c9e4e8ba-256f-4d18-93d6-259a67fd26f2\" class=\"colab-df-container\">\n",
              "    <div>\n",
              "<style scoped>\n",
              "    .dataframe tbody tr th:only-of-type {\n",
              "        vertical-align: middle;\n",
              "    }\n",
              "\n",
              "    .dataframe tbody tr th {\n",
              "        vertical-align: top;\n",
              "    }\n",
              "\n",
              "    .dataframe thead th {\n",
              "        text-align: right;\n",
              "    }\n",
              "</style>\n",
              "<table border=\"1\" class=\"dataframe\">\n",
              "  <thead>\n",
              "    <tr style=\"text-align: right;\">\n",
              "      <th></th>\n",
              "      <th>mod_zurich_class</th>\n",
              "      <th>largest_spot_size</th>\n",
              "      <th>spot_distribution</th>\n",
              "      <th>activity</th>\n",
              "      <th>evolution</th>\n",
              "      <th>previous_day_activity</th>\n",
              "      <th>hist_complex</th>\n",
              "      <th>become_hist_complex</th>\n",
              "      <th>area</th>\n",
              "      <th>area_largest</th>\n",
              "      <th>c-class</th>\n",
              "      <th>m-class</th>\n",
              "      <th>x-class</th>\n",
              "    </tr>\n",
              "  </thead>\n",
              "  <tbody>\n",
              "    <tr>\n",
              "      <th>0</th>\n",
              "      <td>H</td>\n",
              "      <td>A</td>\n",
              "      <td>X</td>\n",
              "      <td>1</td>\n",
              "      <td>3</td>\n",
              "      <td>1</td>\n",
              "      <td>1</td>\n",
              "      <td>1</td>\n",
              "      <td>1</td>\n",
              "      <td>1</td>\n",
              "      <td>0.0</td>\n",
              "      <td>0.0</td>\n",
              "      <td>0.0</td>\n",
              "    </tr>\n",
              "    <tr>\n",
              "      <th>1</th>\n",
              "      <td>D</td>\n",
              "      <td>R</td>\n",
              "      <td>O</td>\n",
              "      <td>1</td>\n",
              "      <td>3</td>\n",
              "      <td>1</td>\n",
              "      <td>1</td>\n",
              "      <td>2</td>\n",
              "      <td>1</td>\n",
              "      <td>1</td>\n",
              "      <td>0.0</td>\n",
              "      <td>0.0</td>\n",
              "      <td>0.0</td>\n",
              "    </tr>\n",
              "    <tr>\n",
              "      <th>2</th>\n",
              "      <td>C</td>\n",
              "      <td>S</td>\n",
              "      <td>O</td>\n",
              "      <td>1</td>\n",
              "      <td>3</td>\n",
              "      <td>1</td>\n",
              "      <td>1</td>\n",
              "      <td>2</td>\n",
              "      <td>1</td>\n",
              "      <td>1</td>\n",
              "      <td>0.0</td>\n",
              "      <td>0.0</td>\n",
              "      <td>0.0</td>\n",
              "    </tr>\n",
              "    <tr>\n",
              "      <th>3</th>\n",
              "      <td>H</td>\n",
              "      <td>R</td>\n",
              "      <td>X</td>\n",
              "      <td>1</td>\n",
              "      <td>2</td>\n",
              "      <td>1</td>\n",
              "      <td>1</td>\n",
              "      <td>1</td>\n",
              "      <td>1</td>\n",
              "      <td>1</td>\n",
              "      <td>0.0</td>\n",
              "      <td>0.0</td>\n",
              "      <td>0.0</td>\n",
              "    </tr>\n",
              "    <tr>\n",
              "      <th>4</th>\n",
              "      <td>H</td>\n",
              "      <td>S</td>\n",
              "      <td>X</td>\n",
              "      <td>1</td>\n",
              "      <td>1</td>\n",
              "      <td>1</td>\n",
              "      <td>1</td>\n",
              "      <td>2</td>\n",
              "      <td>1</td>\n",
              "      <td>1</td>\n",
              "      <td>0.0</td>\n",
              "      <td>0.0</td>\n",
              "      <td>0.0</td>\n",
              "    </tr>\n",
              "    <tr>\n",
              "      <th>...</th>\n",
              "      <td>...</td>\n",
              "      <td>...</td>\n",
              "      <td>...</td>\n",
              "      <td>...</td>\n",
              "      <td>...</td>\n",
              "      <td>...</td>\n",
              "      <td>...</td>\n",
              "      <td>...</td>\n",
              "      <td>...</td>\n",
              "      <td>...</td>\n",
              "      <td>...</td>\n",
              "      <td>...</td>\n",
              "      <td>...</td>\n",
              "    </tr>\n",
              "    <tr>\n",
              "      <th>1061</th>\n",
              "      <td>H</td>\n",
              "      <td>S</td>\n",
              "      <td>X</td>\n",
              "      <td>1</td>\n",
              "      <td>2</td>\n",
              "      <td>1</td>\n",
              "      <td>1</td>\n",
              "      <td>1</td>\n",
              "      <td>1</td>\n",
              "      <td>1</td>\n",
              "      <td>0.0</td>\n",
              "      <td>0.0</td>\n",
              "      <td>0.0</td>\n",
              "    </tr>\n",
              "    <tr>\n",
              "      <th>1062</th>\n",
              "      <td>H</td>\n",
              "      <td>S</td>\n",
              "      <td>X</td>\n",
              "      <td>2</td>\n",
              "      <td>2</td>\n",
              "      <td>1</td>\n",
              "      <td>1</td>\n",
              "      <td>2</td>\n",
              "      <td>1</td>\n",
              "      <td>1</td>\n",
              "      <td>0.0</td>\n",
              "      <td>0.0</td>\n",
              "      <td>0.0</td>\n",
              "    </tr>\n",
              "    <tr>\n",
              "      <th>1063</th>\n",
              "      <td>C</td>\n",
              "      <td>S</td>\n",
              "      <td>O</td>\n",
              "      <td>1</td>\n",
              "      <td>2</td>\n",
              "      <td>1</td>\n",
              "      <td>2</td>\n",
              "      <td>2</td>\n",
              "      <td>1</td>\n",
              "      <td>1</td>\n",
              "      <td>0.0</td>\n",
              "      <td>0.0</td>\n",
              "      <td>0.0</td>\n",
              "    </tr>\n",
              "    <tr>\n",
              "      <th>1064</th>\n",
              "      <td>H</td>\n",
              "      <td>R</td>\n",
              "      <td>X</td>\n",
              "      <td>1</td>\n",
              "      <td>2</td>\n",
              "      <td>1</td>\n",
              "      <td>1</td>\n",
              "      <td>2</td>\n",
              "      <td>1</td>\n",
              "      <td>1</td>\n",
              "      <td>0.0</td>\n",
              "      <td>0.0</td>\n",
              "      <td>0.0</td>\n",
              "    </tr>\n",
              "    <tr>\n",
              "      <th>1065</th>\n",
              "      <td>B</td>\n",
              "      <td>X</td>\n",
              "      <td>O</td>\n",
              "      <td>1</td>\n",
              "      <td>1</td>\n",
              "      <td>1</td>\n",
              "      <td>1</td>\n",
              "      <td>2</td>\n",
              "      <td>1</td>\n",
              "      <td>1</td>\n",
              "      <td>0.0</td>\n",
              "      <td>0.0</td>\n",
              "      <td>0.0</td>\n",
              "    </tr>\n",
              "  </tbody>\n",
              "</table>\n",
              "<p>1066 rows × 13 columns</p>\n",
              "</div>\n",
              "    <div class=\"colab-df-buttons\">\n",
              "\n",
              "  <div class=\"colab-df-container\">\n",
              "    <button class=\"colab-df-convert\" onclick=\"convertToInteractive('df-c9e4e8ba-256f-4d18-93d6-259a67fd26f2')\"\n",
              "            title=\"Convert this dataframe to an interactive table.\"\n",
              "            style=\"display:none;\">\n",
              "\n",
              "  <svg xmlns=\"http://www.w3.org/2000/svg\" height=\"24px\" viewBox=\"0 -960 960 960\">\n",
              "    <path d=\"M120-120v-720h720v720H120Zm60-500h600v-160H180v160Zm220 220h160v-160H400v160Zm0 220h160v-160H400v160ZM180-400h160v-160H180v160Zm440 0h160v-160H620v160ZM180-180h160v-160H180v160Zm440 0h160v-160H620v160Z\"/>\n",
              "  </svg>\n",
              "    </button>\n",
              "\n",
              "  <style>\n",
              "    .colab-df-container {\n",
              "      display:flex;\n",
              "      gap: 12px;\n",
              "    }\n",
              "\n",
              "    .colab-df-convert {\n",
              "      background-color: #E8F0FE;\n",
              "      border: none;\n",
              "      border-radius: 50%;\n",
              "      cursor: pointer;\n",
              "      display: none;\n",
              "      fill: #1967D2;\n",
              "      height: 32px;\n",
              "      padding: 0 0 0 0;\n",
              "      width: 32px;\n",
              "    }\n",
              "\n",
              "    .colab-df-convert:hover {\n",
              "      background-color: #E2EBFA;\n",
              "      box-shadow: 0px 1px 2px rgba(60, 64, 67, 0.3), 0px 1px 3px 1px rgba(60, 64, 67, 0.15);\n",
              "      fill: #174EA6;\n",
              "    }\n",
              "\n",
              "    .colab-df-buttons div {\n",
              "      margin-bottom: 4px;\n",
              "    }\n",
              "\n",
              "    [theme=dark] .colab-df-convert {\n",
              "      background-color: #3B4455;\n",
              "      fill: #D2E3FC;\n",
              "    }\n",
              "\n",
              "    [theme=dark] .colab-df-convert:hover {\n",
              "      background-color: #434B5C;\n",
              "      box-shadow: 0px 1px 3px 1px rgba(0, 0, 0, 0.15);\n",
              "      filter: drop-shadow(0px 1px 2px rgba(0, 0, 0, 0.3));\n",
              "      fill: #FFFFFF;\n",
              "    }\n",
              "  </style>\n",
              "\n",
              "    <script>\n",
              "      const buttonEl =\n",
              "        document.querySelector('#df-c9e4e8ba-256f-4d18-93d6-259a67fd26f2 button.colab-df-convert');\n",
              "      buttonEl.style.display =\n",
              "        google.colab.kernel.accessAllowed ? 'block' : 'none';\n",
              "\n",
              "      async function convertToInteractive(key) {\n",
              "        const element = document.querySelector('#df-c9e4e8ba-256f-4d18-93d6-259a67fd26f2');\n",
              "        const dataTable =\n",
              "          await google.colab.kernel.invokeFunction('convertToInteractive',\n",
              "                                                    [key], {});\n",
              "        if (!dataTable) return;\n",
              "\n",
              "        const docLinkHtml = 'Like what you see? Visit the ' +\n",
              "          '<a target=\"_blank\" href=https://colab.research.google.com/notebooks/data_table.ipynb>data table notebook</a>'\n",
              "          + ' to learn more about interactive tables.';\n",
              "        element.innerHTML = '';\n",
              "        dataTable['output_type'] = 'display_data';\n",
              "        await google.colab.output.renderOutput(dataTable, element);\n",
              "        const docLink = document.createElement('div');\n",
              "        docLink.innerHTML = docLinkHtml;\n",
              "        element.appendChild(docLink);\n",
              "      }\n",
              "    </script>\n",
              "  </div>\n",
              "\n",
              "\n",
              "<div id=\"df-851cae99-ab97-4677-9cf5-df2adfc1d3e9\">\n",
              "  <button class=\"colab-df-quickchart\" onclick=\"quickchart('df-851cae99-ab97-4677-9cf5-df2adfc1d3e9')\"\n",
              "            title=\"Suggest charts\"\n",
              "            style=\"display:none;\">\n",
              "\n",
              "<svg xmlns=\"http://www.w3.org/2000/svg\" height=\"24px\"viewBox=\"0 0 24 24\"\n",
              "     width=\"24px\">\n",
              "    <g>\n",
              "        <path d=\"M19 3H5c-1.1 0-2 .9-2 2v14c0 1.1.9 2 2 2h14c1.1 0 2-.9 2-2V5c0-1.1-.9-2-2-2zM9 17H7v-7h2v7zm4 0h-2V7h2v10zm4 0h-2v-4h2v4z\"/>\n",
              "    </g>\n",
              "</svg>\n",
              "  </button>\n",
              "\n",
              "<style>\n",
              "  .colab-df-quickchart {\n",
              "      --bg-color: #E8F0FE;\n",
              "      --fill-color: #1967D2;\n",
              "      --hover-bg-color: #E2EBFA;\n",
              "      --hover-fill-color: #174EA6;\n",
              "      --disabled-fill-color: #AAA;\n",
              "      --disabled-bg-color: #DDD;\n",
              "  }\n",
              "\n",
              "  [theme=dark] .colab-df-quickchart {\n",
              "      --bg-color: #3B4455;\n",
              "      --fill-color: #D2E3FC;\n",
              "      --hover-bg-color: #434B5C;\n",
              "      --hover-fill-color: #FFFFFF;\n",
              "      --disabled-bg-color: #3B4455;\n",
              "      --disabled-fill-color: #666;\n",
              "  }\n",
              "\n",
              "  .colab-df-quickchart {\n",
              "    background-color: var(--bg-color);\n",
              "    border: none;\n",
              "    border-radius: 50%;\n",
              "    cursor: pointer;\n",
              "    display: none;\n",
              "    fill: var(--fill-color);\n",
              "    height: 32px;\n",
              "    padding: 0;\n",
              "    width: 32px;\n",
              "  }\n",
              "\n",
              "  .colab-df-quickchart:hover {\n",
              "    background-color: var(--hover-bg-color);\n",
              "    box-shadow: 0 1px 2px rgba(60, 64, 67, 0.3), 0 1px 3px 1px rgba(60, 64, 67, 0.15);\n",
              "    fill: var(--button-hover-fill-color);\n",
              "  }\n",
              "\n",
              "  .colab-df-quickchart-complete:disabled,\n",
              "  .colab-df-quickchart-complete:disabled:hover {\n",
              "    background-color: var(--disabled-bg-color);\n",
              "    fill: var(--disabled-fill-color);\n",
              "    box-shadow: none;\n",
              "  }\n",
              "\n",
              "  .colab-df-spinner {\n",
              "    border: 2px solid var(--fill-color);\n",
              "    border-color: transparent;\n",
              "    border-bottom-color: var(--fill-color);\n",
              "    animation:\n",
              "      spin 1s steps(1) infinite;\n",
              "  }\n",
              "\n",
              "  @keyframes spin {\n",
              "    0% {\n",
              "      border-color: transparent;\n",
              "      border-bottom-color: var(--fill-color);\n",
              "      border-left-color: var(--fill-color);\n",
              "    }\n",
              "    20% {\n",
              "      border-color: transparent;\n",
              "      border-left-color: var(--fill-color);\n",
              "      border-top-color: var(--fill-color);\n",
              "    }\n",
              "    30% {\n",
              "      border-color: transparent;\n",
              "      border-left-color: var(--fill-color);\n",
              "      border-top-color: var(--fill-color);\n",
              "      border-right-color: var(--fill-color);\n",
              "    }\n",
              "    40% {\n",
              "      border-color: transparent;\n",
              "      border-right-color: var(--fill-color);\n",
              "      border-top-color: var(--fill-color);\n",
              "    }\n",
              "    60% {\n",
              "      border-color: transparent;\n",
              "      border-right-color: var(--fill-color);\n",
              "    }\n",
              "    80% {\n",
              "      border-color: transparent;\n",
              "      border-right-color: var(--fill-color);\n",
              "      border-bottom-color: var(--fill-color);\n",
              "    }\n",
              "    90% {\n",
              "      border-color: transparent;\n",
              "      border-bottom-color: var(--fill-color);\n",
              "    }\n",
              "  }\n",
              "</style>\n",
              "\n",
              "  <script>\n",
              "    async function quickchart(key) {\n",
              "      const quickchartButtonEl =\n",
              "        document.querySelector('#' + key + ' button');\n",
              "      quickchartButtonEl.disabled = true;  // To prevent multiple clicks.\n",
              "      quickchartButtonEl.classList.add('colab-df-spinner');\n",
              "      try {\n",
              "        const charts = await google.colab.kernel.invokeFunction(\n",
              "            'suggestCharts', [key], {});\n",
              "      } catch (error) {\n",
              "        console.error('Error during call to suggestCharts:', error);\n",
              "      }\n",
              "      quickchartButtonEl.classList.remove('colab-df-spinner');\n",
              "      quickchartButtonEl.classList.add('colab-df-quickchart-complete');\n",
              "    }\n",
              "    (() => {\n",
              "      let quickchartButtonEl =\n",
              "        document.querySelector('#df-851cae99-ab97-4677-9cf5-df2adfc1d3e9 button');\n",
              "      quickchartButtonEl.style.display =\n",
              "        google.colab.kernel.accessAllowed ? 'block' : 'none';\n",
              "    })();\n",
              "  </script>\n",
              "</div>\n",
              "\n",
              "  <div id=\"id_47b2ee79-a316-4c3c-8bb5-135c10c106d3\">\n",
              "    <style>\n",
              "      .colab-df-generate {\n",
              "        background-color: #E8F0FE;\n",
              "        border: none;\n",
              "        border-radius: 50%;\n",
              "        cursor: pointer;\n",
              "        display: none;\n",
              "        fill: #1967D2;\n",
              "        height: 32px;\n",
              "        padding: 0 0 0 0;\n",
              "        width: 32px;\n",
              "      }\n",
              "\n",
              "      .colab-df-generate:hover {\n",
              "        background-color: #E2EBFA;\n",
              "        box-shadow: 0px 1px 2px rgba(60, 64, 67, 0.3), 0px 1px 3px 1px rgba(60, 64, 67, 0.15);\n",
              "        fill: #174EA6;\n",
              "      }\n",
              "\n",
              "      [theme=dark] .colab-df-generate {\n",
              "        background-color: #3B4455;\n",
              "        fill: #D2E3FC;\n",
              "      }\n",
              "\n",
              "      [theme=dark] .colab-df-generate:hover {\n",
              "        background-color: #434B5C;\n",
              "        box-shadow: 0px 1px 3px 1px rgba(0, 0, 0, 0.15);\n",
              "        filter: drop-shadow(0px 1px 2px rgba(0, 0, 0, 0.3));\n",
              "        fill: #FFFFFF;\n",
              "      }\n",
              "    </style>\n",
              "    <button class=\"colab-df-generate\" onclick=\"generateWithVariable('df')\"\n",
              "            title=\"Generate code using this dataframe.\"\n",
              "            style=\"display:none;\">\n",
              "\n",
              "  <svg xmlns=\"http://www.w3.org/2000/svg\" height=\"24px\"viewBox=\"0 0 24 24\"\n",
              "       width=\"24px\">\n",
              "    <path d=\"M7,19H8.4L18.45,9,17,7.55,7,17.6ZM5,21V16.75L18.45,3.32a2,2,0,0,1,2.83,0l1.4,1.43a1.91,1.91,0,0,1,.58,1.4,1.91,1.91,0,0,1-.58,1.4L9.25,21ZM18.45,9,17,7.55Zm-12,3A5.31,5.31,0,0,0,4.9,8.1,5.31,5.31,0,0,0,1,6.5,5.31,5.31,0,0,0,4.9,4.9,5.31,5.31,0,0,0,6.5,1,5.31,5.31,0,0,0,8.1,4.9,5.31,5.31,0,0,0,12,6.5,5.46,5.46,0,0,0,6.5,12Z\"/>\n",
              "  </svg>\n",
              "    </button>\n",
              "    <script>\n",
              "      (() => {\n",
              "      const buttonEl =\n",
              "        document.querySelector('#id_47b2ee79-a316-4c3c-8bb5-135c10c106d3 button.colab-df-generate');\n",
              "      buttonEl.style.display =\n",
              "        google.colab.kernel.accessAllowed ? 'block' : 'none';\n",
              "\n",
              "      buttonEl.onclick = () => {\n",
              "        google.colab.notebook.generateWithVariable('df');\n",
              "      }\n",
              "      })();\n",
              "    </script>\n",
              "  </div>\n",
              "\n",
              "    </div>\n",
              "  </div>\n"
            ],
            "application/vnd.google.colaboratory.intrinsic+json": {
              "type": "dataframe",
              "variable_name": "df",
              "summary": "{\n  \"name\": \"df\",\n  \"rows\": 1066,\n  \"fields\": [\n    {\n      \"column\": \"mod_zurich_class\",\n      \"properties\": {\n        \"dtype\": \"category\",\n        \"num_unique_values\": 6,\n        \"samples\": [\n          \"H\",\n          \"D\",\n          \"F\"\n        ],\n        \"semantic_type\": \"\",\n        \"description\": \"\"\n      }\n    },\n    {\n      \"column\": \"largest_spot_size\",\n      \"properties\": {\n        \"dtype\": \"category\",\n        \"num_unique_values\": 6,\n        \"samples\": [\n          \"A\",\n          \"R\",\n          \"H\"\n        ],\n        \"semantic_type\": \"\",\n        \"description\": \"\"\n      }\n    },\n    {\n      \"column\": \"spot_distribution\",\n      \"properties\": {\n        \"dtype\": \"category\",\n        \"num_unique_values\": 4,\n        \"samples\": [\n          \"O\",\n          \"C\",\n          \"X\"\n        ],\n        \"semantic_type\": \"\",\n        \"description\": \"\"\n      }\n    },\n    {\n      \"column\": \"activity\",\n      \"properties\": {\n        \"dtype\": \"category\",\n        \"num_unique_values\": 2,\n        \"samples\": [\n          \"2\",\n          \"1\"\n        ],\n        \"semantic_type\": \"\",\n        \"description\": \"\"\n      }\n    },\n    {\n      \"column\": \"evolution\",\n      \"properties\": {\n        \"dtype\": \"category\",\n        \"num_unique_values\": 3,\n        \"samples\": [\n          \"3\",\n          \"2\"\n        ],\n        \"semantic_type\": \"\",\n        \"description\": \"\"\n      }\n    },\n    {\n      \"column\": \"previous_day_activity\",\n      \"properties\": {\n        \"dtype\": \"category\",\n        \"num_unique_values\": 3,\n        \"samples\": [\n          \"1\",\n          \"3\"\n        ],\n        \"semantic_type\": \"\",\n        \"description\": \"\"\n      }\n    },\n    {\n      \"column\": \"hist_complex\",\n      \"properties\": {\n        \"dtype\": \"category\",\n        \"num_unique_values\": 2,\n        \"samples\": [\n          \"2\",\n          \"1\"\n        ],\n        \"semantic_type\": \"\",\n        \"description\": \"\"\n      }\n    },\n    {\n      \"column\": \"become_hist_complex\",\n      \"properties\": {\n        \"dtype\": \"category\",\n        \"num_unique_values\": 2,\n        \"samples\": [\n          \"2\",\n          \"1\"\n        ],\n        \"semantic_type\": \"\",\n        \"description\": \"\"\n      }\n    },\n    {\n      \"column\": \"area\",\n      \"properties\": {\n        \"dtype\": \"category\",\n        \"num_unique_values\": 2,\n        \"samples\": [\n          \"2\",\n          \"1\"\n        ],\n        \"semantic_type\": \"\",\n        \"description\": \"\"\n      }\n    },\n    {\n      \"column\": \"area_largest\",\n      \"properties\": {\n        \"dtype\": \"category\",\n        \"num_unique_values\": 1,\n        \"samples\": [\n          \"1\"\n        ],\n        \"semantic_type\": \"\",\n        \"description\": \"\"\n      }\n    },\n    {\n      \"column\": \"c-class\",\n      \"properties\": {\n        \"dtype\": \"number\",\n        \"std\": 0.8357841683319379,\n        \"min\": 0.0,\n        \"max\": 8.0,\n        \"num_unique_values\": 8,\n        \"samples\": [\n          1.0\n        ],\n        \"semantic_type\": \"\",\n        \"description\": \"\"\n      }\n    },\n    {\n      \"column\": \"m-class\",\n      \"properties\": {\n        \"dtype\": \"number\",\n        \"std\": 0.30281121691466945,\n        \"min\": 0.0,\n        \"max\": 5.0,\n        \"num_unique_values\": 6,\n        \"samples\": [\n          0.0\n        ],\n        \"semantic_type\": \"\",\n        \"description\": \"\"\n      }\n    },\n    {\n      \"column\": \"x-class\",\n      \"properties\": {\n        \"dtype\": \"number\",\n        \"std\": 0.08648715008388291,\n        \"min\": 0.0,\n        \"max\": 2.0,\n        \"num_unique_values\": 3,\n        \"samples\": [\n          0.0\n        ],\n        \"semantic_type\": \"\",\n        \"description\": \"\"\n      }\n    }\n  ]\n}"
            }
          },
          "metadata": {},
          "execution_count": 27
        }
      ],
      "source": [
        "with open('/content/drive/MyDrive/mulan_data/sf2.arff', 'r') as f:\n",
        "    data = arff.load(f)\n",
        "    df = pd.DataFrame(data['data'], columns=[x[0] for x in data['attributes']])\n",
        "\n",
        "df"
      ]
    },
    {
      "cell_type": "code",
      "execution_count": null,
      "metadata": {
        "id": "R8dw3DKo8NKO"
      },
      "outputs": [],
      "source": [
        "from sklearn.preprocessing import LabelEncoder\n",
        "\n",
        "# Assuming your dataset is a Pandas DataFrame called 'df'\n",
        "\n",
        "# Create a LabelEncoder object\n",
        "le = LabelEncoder()\n",
        "\n",
        "# Encode the labels in column 1\n",
        "df['mod_zurich_class'] = le.fit_transform(df['mod_zurich_class']\n",
        "                                         )\n",
        "\n",
        "# Encode the labels in column 2\n",
        "df['largest_spot_size'] = le.fit_transform(df['largest_spot_size'].values)\n",
        "df['spot_distribution'] = le.fit_transform(df['spot_distribution'])"
      ]
    },
    {
      "cell_type": "code",
      "execution_count": null,
      "metadata": {
        "id": "9QCeC0-RNa6m"
      },
      "outputs": [],
      "source": []
    },
    {
      "cell_type": "code",
      "execution_count": null,
      "metadata": {
        "colab": {
          "base_uri": "https://localhost:8080/",
          "height": 461
        },
        "collapsed": true,
        "id": "QP7OkPzVI_Ec",
        "outputId": "2aecabae-758c-4ba1-c0dc-729d3322ff85"
      },
      "outputs": [
        {
          "data": {
            "application/vnd.google.colaboratory.intrinsic+json": {
              "summary": "{\n  \"name\": \"df\",\n  \"rows\": 1066,\n  \"fields\": [\n    {\n      \"column\": \"mod_zurich_class\",\n      \"properties\": {\n        \"dtype\": \"number\",\n        \"std\": 1,\n        \"min\": 0,\n        \"max\": 5,\n        \"num_unique_values\": 6,\n        \"samples\": [\n          5,\n          2,\n          4\n        ],\n        \"semantic_type\": \"\",\n        \"description\": \"\"\n      }\n    },\n    {\n      \"column\": \"largest_spot_size\",\n      \"properties\": {\n        \"dtype\": \"number\",\n        \"std\": 1,\n        \"min\": 0,\n        \"max\": 5,\n        \"num_unique_values\": 6,\n        \"samples\": [\n          0,\n          3,\n          1\n        ],\n        \"semantic_type\": \"\",\n        \"description\": \"\"\n      }\n    },\n    {\n      \"column\": \"spot_distribution\",\n      \"properties\": {\n        \"dtype\": \"number\",\n        \"std\": 0,\n        \"min\": 0,\n        \"max\": 3,\n        \"num_unique_values\": 4,\n        \"samples\": [\n          2,\n          0,\n          3\n        ],\n        \"semantic_type\": \"\",\n        \"description\": \"\"\n      }\n    },\n    {\n      \"column\": \"activity\",\n      \"properties\": {\n        \"dtype\": \"category\",\n        \"num_unique_values\": 2,\n        \"samples\": [\n          \"2\",\n          \"1\"\n        ],\n        \"semantic_type\": \"\",\n        \"description\": \"\"\n      }\n    },\n    {\n      \"column\": \"evolution\",\n      \"properties\": {\n        \"dtype\": \"category\",\n        \"num_unique_values\": 3,\n        \"samples\": [\n          \"3\",\n          \"2\"\n        ],\n        \"semantic_type\": \"\",\n        \"description\": \"\"\n      }\n    },\n    {\n      \"column\": \"previous_day_activity\",\n      \"properties\": {\n        \"dtype\": \"category\",\n        \"num_unique_values\": 3,\n        \"samples\": [\n          \"1\",\n          \"3\"\n        ],\n        \"semantic_type\": \"\",\n        \"description\": \"\"\n      }\n    },\n    {\n      \"column\": \"hist_complex\",\n      \"properties\": {\n        \"dtype\": \"category\",\n        \"num_unique_values\": 2,\n        \"samples\": [\n          \"2\",\n          \"1\"\n        ],\n        \"semantic_type\": \"\",\n        \"description\": \"\"\n      }\n    },\n    {\n      \"column\": \"become_hist_complex\",\n      \"properties\": {\n        \"dtype\": \"category\",\n        \"num_unique_values\": 2,\n        \"samples\": [\n          \"2\",\n          \"1\"\n        ],\n        \"semantic_type\": \"\",\n        \"description\": \"\"\n      }\n    },\n    {\n      \"column\": \"area\",\n      \"properties\": {\n        \"dtype\": \"category\",\n        \"num_unique_values\": 2,\n        \"samples\": [\n          \"2\",\n          \"1\"\n        ],\n        \"semantic_type\": \"\",\n        \"description\": \"\"\n      }\n    },\n    {\n      \"column\": \"area_largest\",\n      \"properties\": {\n        \"dtype\": \"category\",\n        \"num_unique_values\": 1,\n        \"samples\": [\n          \"1\"\n        ],\n        \"semantic_type\": \"\",\n        \"description\": \"\"\n      }\n    },\n    {\n      \"column\": \"c-class\",\n      \"properties\": {\n        \"dtype\": \"number\",\n        \"std\": 0.8357841683319428,\n        \"min\": 0.0,\n        \"max\": 8.0,\n        \"num_unique_values\": 8,\n        \"samples\": [\n          1.0\n        ],\n        \"semantic_type\": \"\",\n        \"description\": \"\"\n      }\n    },\n    {\n      \"column\": \"m-class\",\n      \"properties\": {\n        \"dtype\": \"number\",\n        \"std\": 0.30281121691466917,\n        \"min\": 0.0,\n        \"max\": 5.0,\n        \"num_unique_values\": 6,\n        \"samples\": [\n          0.0\n        ],\n        \"semantic_type\": \"\",\n        \"description\": \"\"\n      }\n    },\n    {\n      \"column\": \"x-class\",\n      \"properties\": {\n        \"dtype\": \"number\",\n        \"std\": 0.08648715008388284,\n        \"min\": 0.0,\n        \"max\": 2.0,\n        \"num_unique_values\": 3,\n        \"samples\": [\n          0.0\n        ],\n        \"semantic_type\": \"\",\n        \"description\": \"\"\n      }\n    }\n  ]\n}",
              "type": "dataframe",
              "variable_name": "df"
            },
            "text/html": [
              "\n",
              "  <div id=\"df-c9bcaf6f-68ec-4d4c-808c-84d4aee8c20e\" class=\"colab-df-container\">\n",
              "    <div>\n",
              "<style scoped>\n",
              "    .dataframe tbody tr th:only-of-type {\n",
              "        vertical-align: middle;\n",
              "    }\n",
              "\n",
              "    .dataframe tbody tr th {\n",
              "        vertical-align: top;\n",
              "    }\n",
              "\n",
              "    .dataframe thead th {\n",
              "        text-align: right;\n",
              "    }\n",
              "</style>\n",
              "<table border=\"1\" class=\"dataframe\">\n",
              "  <thead>\n",
              "    <tr style=\"text-align: right;\">\n",
              "      <th></th>\n",
              "      <th>mod_zurich_class</th>\n",
              "      <th>largest_spot_size</th>\n",
              "      <th>spot_distribution</th>\n",
              "      <th>activity</th>\n",
              "      <th>evolution</th>\n",
              "      <th>previous_day_activity</th>\n",
              "      <th>hist_complex</th>\n",
              "      <th>become_hist_complex</th>\n",
              "      <th>area</th>\n",
              "      <th>area_largest</th>\n",
              "      <th>c-class</th>\n",
              "      <th>m-class</th>\n",
              "      <th>x-class</th>\n",
              "    </tr>\n",
              "  </thead>\n",
              "  <tbody>\n",
              "    <tr>\n",
              "      <th>0</th>\n",
              "      <td>5</td>\n",
              "      <td>0</td>\n",
              "      <td>3</td>\n",
              "      <td>1</td>\n",
              "      <td>3</td>\n",
              "      <td>1</td>\n",
              "      <td>1</td>\n",
              "      <td>1</td>\n",
              "      <td>1</td>\n",
              "      <td>1</td>\n",
              "      <td>0.0</td>\n",
              "      <td>0.0</td>\n",
              "      <td>0.0</td>\n",
              "    </tr>\n",
              "    <tr>\n",
              "      <th>1</th>\n",
              "      <td>2</td>\n",
              "      <td>3</td>\n",
              "      <td>2</td>\n",
              "      <td>1</td>\n",
              "      <td>3</td>\n",
              "      <td>1</td>\n",
              "      <td>1</td>\n",
              "      <td>2</td>\n",
              "      <td>1</td>\n",
              "      <td>1</td>\n",
              "      <td>0.0</td>\n",
              "      <td>0.0</td>\n",
              "      <td>0.0</td>\n",
              "    </tr>\n",
              "    <tr>\n",
              "      <th>2</th>\n",
              "      <td>1</td>\n",
              "      <td>4</td>\n",
              "      <td>2</td>\n",
              "      <td>1</td>\n",
              "      <td>3</td>\n",
              "      <td>1</td>\n",
              "      <td>1</td>\n",
              "      <td>2</td>\n",
              "      <td>1</td>\n",
              "      <td>1</td>\n",
              "      <td>0.0</td>\n",
              "      <td>0.0</td>\n",
              "      <td>0.0</td>\n",
              "    </tr>\n",
              "    <tr>\n",
              "      <th>3</th>\n",
              "      <td>5</td>\n",
              "      <td>3</td>\n",
              "      <td>3</td>\n",
              "      <td>1</td>\n",
              "      <td>2</td>\n",
              "      <td>1</td>\n",
              "      <td>1</td>\n",
              "      <td>1</td>\n",
              "      <td>1</td>\n",
              "      <td>1</td>\n",
              "      <td>0.0</td>\n",
              "      <td>0.0</td>\n",
              "      <td>0.0</td>\n",
              "    </tr>\n",
              "    <tr>\n",
              "      <th>4</th>\n",
              "      <td>5</td>\n",
              "      <td>4</td>\n",
              "      <td>3</td>\n",
              "      <td>1</td>\n",
              "      <td>1</td>\n",
              "      <td>1</td>\n",
              "      <td>1</td>\n",
              "      <td>2</td>\n",
              "      <td>1</td>\n",
              "      <td>1</td>\n",
              "      <td>0.0</td>\n",
              "      <td>0.0</td>\n",
              "      <td>0.0</td>\n",
              "    </tr>\n",
              "    <tr>\n",
              "      <th>...</th>\n",
              "      <td>...</td>\n",
              "      <td>...</td>\n",
              "      <td>...</td>\n",
              "      <td>...</td>\n",
              "      <td>...</td>\n",
              "      <td>...</td>\n",
              "      <td>...</td>\n",
              "      <td>...</td>\n",
              "      <td>...</td>\n",
              "      <td>...</td>\n",
              "      <td>...</td>\n",
              "      <td>...</td>\n",
              "      <td>...</td>\n",
              "    </tr>\n",
              "    <tr>\n",
              "      <th>1061</th>\n",
              "      <td>5</td>\n",
              "      <td>4</td>\n",
              "      <td>3</td>\n",
              "      <td>1</td>\n",
              "      <td>2</td>\n",
              "      <td>1</td>\n",
              "      <td>1</td>\n",
              "      <td>1</td>\n",
              "      <td>1</td>\n",
              "      <td>1</td>\n",
              "      <td>0.0</td>\n",
              "      <td>0.0</td>\n",
              "      <td>0.0</td>\n",
              "    </tr>\n",
              "    <tr>\n",
              "      <th>1062</th>\n",
              "      <td>5</td>\n",
              "      <td>4</td>\n",
              "      <td>3</td>\n",
              "      <td>2</td>\n",
              "      <td>2</td>\n",
              "      <td>1</td>\n",
              "      <td>1</td>\n",
              "      <td>2</td>\n",
              "      <td>1</td>\n",
              "      <td>1</td>\n",
              "      <td>0.0</td>\n",
              "      <td>0.0</td>\n",
              "      <td>0.0</td>\n",
              "    </tr>\n",
              "    <tr>\n",
              "      <th>1063</th>\n",
              "      <td>1</td>\n",
              "      <td>4</td>\n",
              "      <td>2</td>\n",
              "      <td>1</td>\n",
              "      <td>2</td>\n",
              "      <td>1</td>\n",
              "      <td>2</td>\n",
              "      <td>2</td>\n",
              "      <td>1</td>\n",
              "      <td>1</td>\n",
              "      <td>0.0</td>\n",
              "      <td>0.0</td>\n",
              "      <td>0.0</td>\n",
              "    </tr>\n",
              "    <tr>\n",
              "      <th>1064</th>\n",
              "      <td>5</td>\n",
              "      <td>3</td>\n",
              "      <td>3</td>\n",
              "      <td>1</td>\n",
              "      <td>2</td>\n",
              "      <td>1</td>\n",
              "      <td>1</td>\n",
              "      <td>2</td>\n",
              "      <td>1</td>\n",
              "      <td>1</td>\n",
              "      <td>0.0</td>\n",
              "      <td>0.0</td>\n",
              "      <td>0.0</td>\n",
              "    </tr>\n",
              "    <tr>\n",
              "      <th>1065</th>\n",
              "      <td>0</td>\n",
              "      <td>5</td>\n",
              "      <td>2</td>\n",
              "      <td>1</td>\n",
              "      <td>1</td>\n",
              "      <td>1</td>\n",
              "      <td>1</td>\n",
              "      <td>2</td>\n",
              "      <td>1</td>\n",
              "      <td>1</td>\n",
              "      <td>0.0</td>\n",
              "      <td>0.0</td>\n",
              "      <td>0.0</td>\n",
              "    </tr>\n",
              "  </tbody>\n",
              "</table>\n",
              "<p>1066 rows × 13 columns</p>\n",
              "</div>\n",
              "    <div class=\"colab-df-buttons\">\n",
              "\n",
              "  <div class=\"colab-df-container\">\n",
              "    <button class=\"colab-df-convert\" onclick=\"convertToInteractive('df-c9bcaf6f-68ec-4d4c-808c-84d4aee8c20e')\"\n",
              "            title=\"Convert this dataframe to an interactive table.\"\n",
              "            style=\"display:none;\">\n",
              "\n",
              "  <svg xmlns=\"http://www.w3.org/2000/svg\" height=\"24px\" viewBox=\"0 -960 960 960\">\n",
              "    <path d=\"M120-120v-720h720v720H120Zm60-500h600v-160H180v160Zm220 220h160v-160H400v160Zm0 220h160v-160H400v160ZM180-400h160v-160H180v160Zm440 0h160v-160H620v160ZM180-180h160v-160H180v160Zm440 0h160v-160H620v160Z\"/>\n",
              "  </svg>\n",
              "    </button>\n",
              "\n",
              "  <style>\n",
              "    .colab-df-container {\n",
              "      display:flex;\n",
              "      gap: 12px;\n",
              "    }\n",
              "\n",
              "    .colab-df-convert {\n",
              "      background-color: #E8F0FE;\n",
              "      border: none;\n",
              "      border-radius: 50%;\n",
              "      cursor: pointer;\n",
              "      display: none;\n",
              "      fill: #1967D2;\n",
              "      height: 32px;\n",
              "      padding: 0 0 0 0;\n",
              "      width: 32px;\n",
              "    }\n",
              "\n",
              "    .colab-df-convert:hover {\n",
              "      background-color: #E2EBFA;\n",
              "      box-shadow: 0px 1px 2px rgba(60, 64, 67, 0.3), 0px 1px 3px 1px rgba(60, 64, 67, 0.15);\n",
              "      fill: #174EA6;\n",
              "    }\n",
              "\n",
              "    .colab-df-buttons div {\n",
              "      margin-bottom: 4px;\n",
              "    }\n",
              "\n",
              "    [theme=dark] .colab-df-convert {\n",
              "      background-color: #3B4455;\n",
              "      fill: #D2E3FC;\n",
              "    }\n",
              "\n",
              "    [theme=dark] .colab-df-convert:hover {\n",
              "      background-color: #434B5C;\n",
              "      box-shadow: 0px 1px 3px 1px rgba(0, 0, 0, 0.15);\n",
              "      filter: drop-shadow(0px 1px 2px rgba(0, 0, 0, 0.3));\n",
              "      fill: #FFFFFF;\n",
              "    }\n",
              "  </style>\n",
              "\n",
              "    <script>\n",
              "      const buttonEl =\n",
              "        document.querySelector('#df-c9bcaf6f-68ec-4d4c-808c-84d4aee8c20e button.colab-df-convert');\n",
              "      buttonEl.style.display =\n",
              "        google.colab.kernel.accessAllowed ? 'block' : 'none';\n",
              "\n",
              "      async function convertToInteractive(key) {\n",
              "        const element = document.querySelector('#df-c9bcaf6f-68ec-4d4c-808c-84d4aee8c20e');\n",
              "        const dataTable =\n",
              "          await google.colab.kernel.invokeFunction('convertToInteractive',\n",
              "                                                    [key], {});\n",
              "        if (!dataTable) return;\n",
              "\n",
              "        const docLinkHtml = 'Like what you see? Visit the ' +\n",
              "          '<a target=\"_blank\" href=https://colab.research.google.com/notebooks/data_table.ipynb>data table notebook</a>'\n",
              "          + ' to learn more about interactive tables.';\n",
              "        element.innerHTML = '';\n",
              "        dataTable['output_type'] = 'display_data';\n",
              "        await google.colab.output.renderOutput(dataTable, element);\n",
              "        const docLink = document.createElement('div');\n",
              "        docLink.innerHTML = docLinkHtml;\n",
              "        element.appendChild(docLink);\n",
              "      }\n",
              "    </script>\n",
              "  </div>\n",
              "\n",
              "\n",
              "<div id=\"df-bc68c77d-1046-4763-8ec8-b7e84571c5dd\">\n",
              "  <button class=\"colab-df-quickchart\" onclick=\"quickchart('df-bc68c77d-1046-4763-8ec8-b7e84571c5dd')\"\n",
              "            title=\"Suggest charts\"\n",
              "            style=\"display:none;\">\n",
              "\n",
              "<svg xmlns=\"http://www.w3.org/2000/svg\" height=\"24px\"viewBox=\"0 0 24 24\"\n",
              "     width=\"24px\">\n",
              "    <g>\n",
              "        <path d=\"M19 3H5c-1.1 0-2 .9-2 2v14c0 1.1.9 2 2 2h14c1.1 0 2-.9 2-2V5c0-1.1-.9-2-2-2zM9 17H7v-7h2v7zm4 0h-2V7h2v10zm4 0h-2v-4h2v4z\"/>\n",
              "    </g>\n",
              "</svg>\n",
              "  </button>\n",
              "\n",
              "<style>\n",
              "  .colab-df-quickchart {\n",
              "      --bg-color: #E8F0FE;\n",
              "      --fill-color: #1967D2;\n",
              "      --hover-bg-color: #E2EBFA;\n",
              "      --hover-fill-color: #174EA6;\n",
              "      --disabled-fill-color: #AAA;\n",
              "      --disabled-bg-color: #DDD;\n",
              "  }\n",
              "\n",
              "  [theme=dark] .colab-df-quickchart {\n",
              "      --bg-color: #3B4455;\n",
              "      --fill-color: #D2E3FC;\n",
              "      --hover-bg-color: #434B5C;\n",
              "      --hover-fill-color: #FFFFFF;\n",
              "      --disabled-bg-color: #3B4455;\n",
              "      --disabled-fill-color: #666;\n",
              "  }\n",
              "\n",
              "  .colab-df-quickchart {\n",
              "    background-color: var(--bg-color);\n",
              "    border: none;\n",
              "    border-radius: 50%;\n",
              "    cursor: pointer;\n",
              "    display: none;\n",
              "    fill: var(--fill-color);\n",
              "    height: 32px;\n",
              "    padding: 0;\n",
              "    width: 32px;\n",
              "  }\n",
              "\n",
              "  .colab-df-quickchart:hover {\n",
              "    background-color: var(--hover-bg-color);\n",
              "    box-shadow: 0 1px 2px rgba(60, 64, 67, 0.3), 0 1px 3px 1px rgba(60, 64, 67, 0.15);\n",
              "    fill: var(--button-hover-fill-color);\n",
              "  }\n",
              "\n",
              "  .colab-df-quickchart-complete:disabled,\n",
              "  .colab-df-quickchart-complete:disabled:hover {\n",
              "    background-color: var(--disabled-bg-color);\n",
              "    fill: var(--disabled-fill-color);\n",
              "    box-shadow: none;\n",
              "  }\n",
              "\n",
              "  .colab-df-spinner {\n",
              "    border: 2px solid var(--fill-color);\n",
              "    border-color: transparent;\n",
              "    border-bottom-color: var(--fill-color);\n",
              "    animation:\n",
              "      spin 1s steps(1) infinite;\n",
              "  }\n",
              "\n",
              "  @keyframes spin {\n",
              "    0% {\n",
              "      border-color: transparent;\n",
              "      border-bottom-color: var(--fill-color);\n",
              "      border-left-color: var(--fill-color);\n",
              "    }\n",
              "    20% {\n",
              "      border-color: transparent;\n",
              "      border-left-color: var(--fill-color);\n",
              "      border-top-color: var(--fill-color);\n",
              "    }\n",
              "    30% {\n",
              "      border-color: transparent;\n",
              "      border-left-color: var(--fill-color);\n",
              "      border-top-color: var(--fill-color);\n",
              "      border-right-color: var(--fill-color);\n",
              "    }\n",
              "    40% {\n",
              "      border-color: transparent;\n",
              "      border-right-color: var(--fill-color);\n",
              "      border-top-color: var(--fill-color);\n",
              "    }\n",
              "    60% {\n",
              "      border-color: transparent;\n",
              "      border-right-color: var(--fill-color);\n",
              "    }\n",
              "    80% {\n",
              "      border-color: transparent;\n",
              "      border-right-color: var(--fill-color);\n",
              "      border-bottom-color: var(--fill-color);\n",
              "    }\n",
              "    90% {\n",
              "      border-color: transparent;\n",
              "      border-bottom-color: var(--fill-color);\n",
              "    }\n",
              "  }\n",
              "</style>\n",
              "\n",
              "  <script>\n",
              "    async function quickchart(key) {\n",
              "      const quickchartButtonEl =\n",
              "        document.querySelector('#' + key + ' button');\n",
              "      quickchartButtonEl.disabled = true;  // To prevent multiple clicks.\n",
              "      quickchartButtonEl.classList.add('colab-df-spinner');\n",
              "      try {\n",
              "        const charts = await google.colab.kernel.invokeFunction(\n",
              "            'suggestCharts', [key], {});\n",
              "      } catch (error) {\n",
              "        console.error('Error during call to suggestCharts:', error);\n",
              "      }\n",
              "      quickchartButtonEl.classList.remove('colab-df-spinner');\n",
              "      quickchartButtonEl.classList.add('colab-df-quickchart-complete');\n",
              "    }\n",
              "    (() => {\n",
              "      let quickchartButtonEl =\n",
              "        document.querySelector('#df-bc68c77d-1046-4763-8ec8-b7e84571c5dd button');\n",
              "      quickchartButtonEl.style.display =\n",
              "        google.colab.kernel.accessAllowed ? 'block' : 'none';\n",
              "    })();\n",
              "  </script>\n",
              "</div>\n",
              "\n",
              "  <div id=\"id_e51b33e0-2910-4245-be94-f4e6096712fc\">\n",
              "    <style>\n",
              "      .colab-df-generate {\n",
              "        background-color: #E8F0FE;\n",
              "        border: none;\n",
              "        border-radius: 50%;\n",
              "        cursor: pointer;\n",
              "        display: none;\n",
              "        fill: #1967D2;\n",
              "        height: 32px;\n",
              "        padding: 0 0 0 0;\n",
              "        width: 32px;\n",
              "      }\n",
              "\n",
              "      .colab-df-generate:hover {\n",
              "        background-color: #E2EBFA;\n",
              "        box-shadow: 0px 1px 2px rgba(60, 64, 67, 0.3), 0px 1px 3px 1px rgba(60, 64, 67, 0.15);\n",
              "        fill: #174EA6;\n",
              "      }\n",
              "\n",
              "      [theme=dark] .colab-df-generate {\n",
              "        background-color: #3B4455;\n",
              "        fill: #D2E3FC;\n",
              "      }\n",
              "\n",
              "      [theme=dark] .colab-df-generate:hover {\n",
              "        background-color: #434B5C;\n",
              "        box-shadow: 0px 1px 3px 1px rgba(0, 0, 0, 0.15);\n",
              "        filter: drop-shadow(0px 1px 2px rgba(0, 0, 0, 0.3));\n",
              "        fill: #FFFFFF;\n",
              "      }\n",
              "    </style>\n",
              "    <button class=\"colab-df-generate\" onclick=\"generateWithVariable('df')\"\n",
              "            title=\"Generate code using this dataframe.\"\n",
              "            style=\"display:none;\">\n",
              "\n",
              "  <svg xmlns=\"http://www.w3.org/2000/svg\" height=\"24px\"viewBox=\"0 0 24 24\"\n",
              "       width=\"24px\">\n",
              "    <path d=\"M7,19H8.4L18.45,9,17,7.55,7,17.6ZM5,21V16.75L18.45,3.32a2,2,0,0,1,2.83,0l1.4,1.43a1.91,1.91,0,0,1,.58,1.4,1.91,1.91,0,0,1-.58,1.4L9.25,21ZM18.45,9,17,7.55Zm-12,3A5.31,5.31,0,0,0,4.9,8.1,5.31,5.31,0,0,0,1,6.5,5.31,5.31,0,0,0,4.9,4.9,5.31,5.31,0,0,0,6.5,1,5.31,5.31,0,0,0,8.1,4.9,5.31,5.31,0,0,0,12,6.5,5.46,5.46,0,0,0,6.5,12Z\"/>\n",
              "  </svg>\n",
              "    </button>\n",
              "    <script>\n",
              "      (() => {\n",
              "      const buttonEl =\n",
              "        document.querySelector('#id_e51b33e0-2910-4245-be94-f4e6096712fc button.colab-df-generate');\n",
              "      buttonEl.style.display =\n",
              "        google.colab.kernel.accessAllowed ? 'block' : 'none';\n",
              "\n",
              "      buttonEl.onclick = () => {\n",
              "        google.colab.notebook.generateWithVariable('df');\n",
              "      }\n",
              "      })();\n",
              "    </script>\n",
              "  </div>\n",
              "\n",
              "    </div>\n",
              "  </div>\n"
            ],
            "text/plain": [
              "      mod_zurich_class  largest_spot_size  spot_distribution activity  \\\n",
              "0                    5                  0                  3        1   \n",
              "1                    2                  3                  2        1   \n",
              "2                    1                  4                  2        1   \n",
              "3                    5                  3                  3        1   \n",
              "4                    5                  4                  3        1   \n",
              "...                ...                ...                ...      ...   \n",
              "1061                 5                  4                  3        1   \n",
              "1062                 5                  4                  3        2   \n",
              "1063                 1                  4                  2        1   \n",
              "1064                 5                  3                  3        1   \n",
              "1065                 0                  5                  2        1   \n",
              "\n",
              "     evolution previous_day_activity hist_complex become_hist_complex area  \\\n",
              "0            3                     1            1                   1    1   \n",
              "1            3                     1            1                   2    1   \n",
              "2            3                     1            1                   2    1   \n",
              "3            2                     1            1                   1    1   \n",
              "4            1                     1            1                   2    1   \n",
              "...        ...                   ...          ...                 ...  ...   \n",
              "1061         2                     1            1                   1    1   \n",
              "1062         2                     1            1                   2    1   \n",
              "1063         2                     1            2                   2    1   \n",
              "1064         2                     1            1                   2    1   \n",
              "1065         1                     1            1                   2    1   \n",
              "\n",
              "     area_largest  c-class  m-class  x-class  \n",
              "0               1      0.0      0.0      0.0  \n",
              "1               1      0.0      0.0      0.0  \n",
              "2               1      0.0      0.0      0.0  \n",
              "3               1      0.0      0.0      0.0  \n",
              "4               1      0.0      0.0      0.0  \n",
              "...           ...      ...      ...      ...  \n",
              "1061            1      0.0      0.0      0.0  \n",
              "1062            1      0.0      0.0      0.0  \n",
              "1063            1      0.0      0.0      0.0  \n",
              "1064            1      0.0      0.0      0.0  \n",
              "1065            1      0.0      0.0      0.0  \n",
              "\n",
              "[1066 rows x 13 columns]"
            ]
          },
          "execution_count": 92,
          "metadata": {},
          "output_type": "execute_result"
        }
      ],
      "source": [
        "df"
      ]
    },
    {
      "cell_type": "code",
      "execution_count": null,
      "metadata": {
        "id": "_cY0GlrqJ5DD"
      },
      "outputs": [],
      "source": [
        "# Assuming your DataFrame is called 'df'\n",
        "\n",
        "# Iterate over each column in the DataFrame\n",
        "for column in df.columns:\n",
        "    # Check if the column contains string values\n",
        "    if df[column].dtype == 'object':\n",
        "        # Try to convert the column to integer\n",
        "        df[column] = df[column].apply(lambda x: int(x) if x.isdigit() else x)\n",
        "\n",
        "# Then, use the pd.to_numeric function with errors='coerce' to convert the columns to integer\n",
        "df = df.apply(pd.to_numeric, errors='coerce')"
      ]
    },
    {
      "cell_type": "code",
      "execution_count": null,
      "metadata": {
        "colab": {
          "base_uri": "https://localhost:8080/",
          "height": 461
        },
        "collapsed": true,
        "id": "gmEJKs4tJ7WB",
        "outputId": "c9aaf205-ec05-49f8-edfa-1b1075c6d522"
      },
      "outputs": [
        {
          "data": {
            "application/vnd.google.colaboratory.intrinsic+json": {
              "summary": "{\n  \"name\": \"df\",\n  \"rows\": 1066,\n  \"fields\": [\n    {\n      \"column\": \"mod_zurich_class\",\n      \"properties\": {\n        \"dtype\": \"number\",\n        \"std\": 1,\n        \"min\": 0,\n        \"max\": 5,\n        \"num_unique_values\": 6,\n        \"samples\": [\n          5,\n          2,\n          4\n        ],\n        \"semantic_type\": \"\",\n        \"description\": \"\"\n      }\n    },\n    {\n      \"column\": \"largest_spot_size\",\n      \"properties\": {\n        \"dtype\": \"number\",\n        \"std\": 1,\n        \"min\": 0,\n        \"max\": 5,\n        \"num_unique_values\": 6,\n        \"samples\": [\n          0,\n          3,\n          1\n        ],\n        \"semantic_type\": \"\",\n        \"description\": \"\"\n      }\n    },\n    {\n      \"column\": \"spot_distribution\",\n      \"properties\": {\n        \"dtype\": \"number\",\n        \"std\": 0,\n        \"min\": 0,\n        \"max\": 3,\n        \"num_unique_values\": 4,\n        \"samples\": [\n          2,\n          0,\n          3\n        ],\n        \"semantic_type\": \"\",\n        \"description\": \"\"\n      }\n    },\n    {\n      \"column\": \"activity\",\n      \"properties\": {\n        \"dtype\": \"number\",\n        \"std\": 0,\n        \"min\": 1,\n        \"max\": 2,\n        \"num_unique_values\": 2,\n        \"samples\": [\n          2,\n          1\n        ],\n        \"semantic_type\": \"\",\n        \"description\": \"\"\n      }\n    },\n    {\n      \"column\": \"evolution\",\n      \"properties\": {\n        \"dtype\": \"number\",\n        \"std\": 0,\n        \"min\": 1,\n        \"max\": 3,\n        \"num_unique_values\": 3,\n        \"samples\": [\n          3,\n          2\n        ],\n        \"semantic_type\": \"\",\n        \"description\": \"\"\n      }\n    },\n    {\n      \"column\": \"previous_day_activity\",\n      \"properties\": {\n        \"dtype\": \"number\",\n        \"std\": 0,\n        \"min\": 1,\n        \"max\": 3,\n        \"num_unique_values\": 3,\n        \"samples\": [\n          1,\n          3\n        ],\n        \"semantic_type\": \"\",\n        \"description\": \"\"\n      }\n    },\n    {\n      \"column\": \"hist_complex\",\n      \"properties\": {\n        \"dtype\": \"number\",\n        \"std\": 0,\n        \"min\": 1,\n        \"max\": 2,\n        \"num_unique_values\": 2,\n        \"samples\": [\n          2,\n          1\n        ],\n        \"semantic_type\": \"\",\n        \"description\": \"\"\n      }\n    },\n    {\n      \"column\": \"become_hist_complex\",\n      \"properties\": {\n        \"dtype\": \"number\",\n        \"std\": 0,\n        \"min\": 1,\n        \"max\": 2,\n        \"num_unique_values\": 2,\n        \"samples\": [\n          2,\n          1\n        ],\n        \"semantic_type\": \"\",\n        \"description\": \"\"\n      }\n    },\n    {\n      \"column\": \"area\",\n      \"properties\": {\n        \"dtype\": \"number\",\n        \"std\": 0,\n        \"min\": 1,\n        \"max\": 2,\n        \"num_unique_values\": 2,\n        \"samples\": [\n          2,\n          1\n        ],\n        \"semantic_type\": \"\",\n        \"description\": \"\"\n      }\n    },\n    {\n      \"column\": \"area_largest\",\n      \"properties\": {\n        \"dtype\": \"number\",\n        \"std\": 0,\n        \"min\": 1,\n        \"max\": 1,\n        \"num_unique_values\": 1,\n        \"samples\": [\n          1\n        ],\n        \"semantic_type\": \"\",\n        \"description\": \"\"\n      }\n    },\n    {\n      \"column\": \"c-class\",\n      \"properties\": {\n        \"dtype\": \"number\",\n        \"std\": 0.8357841683319428,\n        \"min\": 0.0,\n        \"max\": 8.0,\n        \"num_unique_values\": 8,\n        \"samples\": [\n          1.0\n        ],\n        \"semantic_type\": \"\",\n        \"description\": \"\"\n      }\n    },\n    {\n      \"column\": \"m-class\",\n      \"properties\": {\n        \"dtype\": \"number\",\n        \"std\": 0.30281121691466917,\n        \"min\": 0.0,\n        \"max\": 5.0,\n        \"num_unique_values\": 6,\n        \"samples\": [\n          0.0\n        ],\n        \"semantic_type\": \"\",\n        \"description\": \"\"\n      }\n    },\n    {\n      \"column\": \"x-class\",\n      \"properties\": {\n        \"dtype\": \"number\",\n        \"std\": 0.08648715008388284,\n        \"min\": 0.0,\n        \"max\": 2.0,\n        \"num_unique_values\": 3,\n        \"samples\": [\n          0.0\n        ],\n        \"semantic_type\": \"\",\n        \"description\": \"\"\n      }\n    }\n  ]\n}",
              "type": "dataframe",
              "variable_name": "df"
            },
            "text/html": [
              "\n",
              "  <div id=\"df-f8ddf8e9-c4f7-4c4c-93a1-b3ef4d210bae\" class=\"colab-df-container\">\n",
              "    <div>\n",
              "<style scoped>\n",
              "    .dataframe tbody tr th:only-of-type {\n",
              "        vertical-align: middle;\n",
              "    }\n",
              "\n",
              "    .dataframe tbody tr th {\n",
              "        vertical-align: top;\n",
              "    }\n",
              "\n",
              "    .dataframe thead th {\n",
              "        text-align: right;\n",
              "    }\n",
              "</style>\n",
              "<table border=\"1\" class=\"dataframe\">\n",
              "  <thead>\n",
              "    <tr style=\"text-align: right;\">\n",
              "      <th></th>\n",
              "      <th>mod_zurich_class</th>\n",
              "      <th>largest_spot_size</th>\n",
              "      <th>spot_distribution</th>\n",
              "      <th>activity</th>\n",
              "      <th>evolution</th>\n",
              "      <th>previous_day_activity</th>\n",
              "      <th>hist_complex</th>\n",
              "      <th>become_hist_complex</th>\n",
              "      <th>area</th>\n",
              "      <th>area_largest</th>\n",
              "      <th>c-class</th>\n",
              "      <th>m-class</th>\n",
              "      <th>x-class</th>\n",
              "    </tr>\n",
              "  </thead>\n",
              "  <tbody>\n",
              "    <tr>\n",
              "      <th>0</th>\n",
              "      <td>5</td>\n",
              "      <td>0</td>\n",
              "      <td>3</td>\n",
              "      <td>1</td>\n",
              "      <td>3</td>\n",
              "      <td>1</td>\n",
              "      <td>1</td>\n",
              "      <td>1</td>\n",
              "      <td>1</td>\n",
              "      <td>1</td>\n",
              "      <td>0.0</td>\n",
              "      <td>0.0</td>\n",
              "      <td>0.0</td>\n",
              "    </tr>\n",
              "    <tr>\n",
              "      <th>1</th>\n",
              "      <td>2</td>\n",
              "      <td>3</td>\n",
              "      <td>2</td>\n",
              "      <td>1</td>\n",
              "      <td>3</td>\n",
              "      <td>1</td>\n",
              "      <td>1</td>\n",
              "      <td>2</td>\n",
              "      <td>1</td>\n",
              "      <td>1</td>\n",
              "      <td>0.0</td>\n",
              "      <td>0.0</td>\n",
              "      <td>0.0</td>\n",
              "    </tr>\n",
              "    <tr>\n",
              "      <th>2</th>\n",
              "      <td>1</td>\n",
              "      <td>4</td>\n",
              "      <td>2</td>\n",
              "      <td>1</td>\n",
              "      <td>3</td>\n",
              "      <td>1</td>\n",
              "      <td>1</td>\n",
              "      <td>2</td>\n",
              "      <td>1</td>\n",
              "      <td>1</td>\n",
              "      <td>0.0</td>\n",
              "      <td>0.0</td>\n",
              "      <td>0.0</td>\n",
              "    </tr>\n",
              "    <tr>\n",
              "      <th>3</th>\n",
              "      <td>5</td>\n",
              "      <td>3</td>\n",
              "      <td>3</td>\n",
              "      <td>1</td>\n",
              "      <td>2</td>\n",
              "      <td>1</td>\n",
              "      <td>1</td>\n",
              "      <td>1</td>\n",
              "      <td>1</td>\n",
              "      <td>1</td>\n",
              "      <td>0.0</td>\n",
              "      <td>0.0</td>\n",
              "      <td>0.0</td>\n",
              "    </tr>\n",
              "    <tr>\n",
              "      <th>4</th>\n",
              "      <td>5</td>\n",
              "      <td>4</td>\n",
              "      <td>3</td>\n",
              "      <td>1</td>\n",
              "      <td>1</td>\n",
              "      <td>1</td>\n",
              "      <td>1</td>\n",
              "      <td>2</td>\n",
              "      <td>1</td>\n",
              "      <td>1</td>\n",
              "      <td>0.0</td>\n",
              "      <td>0.0</td>\n",
              "      <td>0.0</td>\n",
              "    </tr>\n",
              "    <tr>\n",
              "      <th>...</th>\n",
              "      <td>...</td>\n",
              "      <td>...</td>\n",
              "      <td>...</td>\n",
              "      <td>...</td>\n",
              "      <td>...</td>\n",
              "      <td>...</td>\n",
              "      <td>...</td>\n",
              "      <td>...</td>\n",
              "      <td>...</td>\n",
              "      <td>...</td>\n",
              "      <td>...</td>\n",
              "      <td>...</td>\n",
              "      <td>...</td>\n",
              "    </tr>\n",
              "    <tr>\n",
              "      <th>1061</th>\n",
              "      <td>5</td>\n",
              "      <td>4</td>\n",
              "      <td>3</td>\n",
              "      <td>1</td>\n",
              "      <td>2</td>\n",
              "      <td>1</td>\n",
              "      <td>1</td>\n",
              "      <td>1</td>\n",
              "      <td>1</td>\n",
              "      <td>1</td>\n",
              "      <td>0.0</td>\n",
              "      <td>0.0</td>\n",
              "      <td>0.0</td>\n",
              "    </tr>\n",
              "    <tr>\n",
              "      <th>1062</th>\n",
              "      <td>5</td>\n",
              "      <td>4</td>\n",
              "      <td>3</td>\n",
              "      <td>2</td>\n",
              "      <td>2</td>\n",
              "      <td>1</td>\n",
              "      <td>1</td>\n",
              "      <td>2</td>\n",
              "      <td>1</td>\n",
              "      <td>1</td>\n",
              "      <td>0.0</td>\n",
              "      <td>0.0</td>\n",
              "      <td>0.0</td>\n",
              "    </tr>\n",
              "    <tr>\n",
              "      <th>1063</th>\n",
              "      <td>1</td>\n",
              "      <td>4</td>\n",
              "      <td>2</td>\n",
              "      <td>1</td>\n",
              "      <td>2</td>\n",
              "      <td>1</td>\n",
              "      <td>2</td>\n",
              "      <td>2</td>\n",
              "      <td>1</td>\n",
              "      <td>1</td>\n",
              "      <td>0.0</td>\n",
              "      <td>0.0</td>\n",
              "      <td>0.0</td>\n",
              "    </tr>\n",
              "    <tr>\n",
              "      <th>1064</th>\n",
              "      <td>5</td>\n",
              "      <td>3</td>\n",
              "      <td>3</td>\n",
              "      <td>1</td>\n",
              "      <td>2</td>\n",
              "      <td>1</td>\n",
              "      <td>1</td>\n",
              "      <td>2</td>\n",
              "      <td>1</td>\n",
              "      <td>1</td>\n",
              "      <td>0.0</td>\n",
              "      <td>0.0</td>\n",
              "      <td>0.0</td>\n",
              "    </tr>\n",
              "    <tr>\n",
              "      <th>1065</th>\n",
              "      <td>0</td>\n",
              "      <td>5</td>\n",
              "      <td>2</td>\n",
              "      <td>1</td>\n",
              "      <td>1</td>\n",
              "      <td>1</td>\n",
              "      <td>1</td>\n",
              "      <td>2</td>\n",
              "      <td>1</td>\n",
              "      <td>1</td>\n",
              "      <td>0.0</td>\n",
              "      <td>0.0</td>\n",
              "      <td>0.0</td>\n",
              "    </tr>\n",
              "  </tbody>\n",
              "</table>\n",
              "<p>1066 rows × 13 columns</p>\n",
              "</div>\n",
              "    <div class=\"colab-df-buttons\">\n",
              "\n",
              "  <div class=\"colab-df-container\">\n",
              "    <button class=\"colab-df-convert\" onclick=\"convertToInteractive('df-f8ddf8e9-c4f7-4c4c-93a1-b3ef4d210bae')\"\n",
              "            title=\"Convert this dataframe to an interactive table.\"\n",
              "            style=\"display:none;\">\n",
              "\n",
              "  <svg xmlns=\"http://www.w3.org/2000/svg\" height=\"24px\" viewBox=\"0 -960 960 960\">\n",
              "    <path d=\"M120-120v-720h720v720H120Zm60-500h600v-160H180v160Zm220 220h160v-160H400v160Zm0 220h160v-160H400v160ZM180-400h160v-160H180v160Zm440 0h160v-160H620v160ZM180-180h160v-160H180v160Zm440 0h160v-160H620v160Z\"/>\n",
              "  </svg>\n",
              "    </button>\n",
              "\n",
              "  <style>\n",
              "    .colab-df-container {\n",
              "      display:flex;\n",
              "      gap: 12px;\n",
              "    }\n",
              "\n",
              "    .colab-df-convert {\n",
              "      background-color: #E8F0FE;\n",
              "      border: none;\n",
              "      border-radius: 50%;\n",
              "      cursor: pointer;\n",
              "      display: none;\n",
              "      fill: #1967D2;\n",
              "      height: 32px;\n",
              "      padding: 0 0 0 0;\n",
              "      width: 32px;\n",
              "    }\n",
              "\n",
              "    .colab-df-convert:hover {\n",
              "      background-color: #E2EBFA;\n",
              "      box-shadow: 0px 1px 2px rgba(60, 64, 67, 0.3), 0px 1px 3px 1px rgba(60, 64, 67, 0.15);\n",
              "      fill: #174EA6;\n",
              "    }\n",
              "\n",
              "    .colab-df-buttons div {\n",
              "      margin-bottom: 4px;\n",
              "    }\n",
              "\n",
              "    [theme=dark] .colab-df-convert {\n",
              "      background-color: #3B4455;\n",
              "      fill: #D2E3FC;\n",
              "    }\n",
              "\n",
              "    [theme=dark] .colab-df-convert:hover {\n",
              "      background-color: #434B5C;\n",
              "      box-shadow: 0px 1px 3px 1px rgba(0, 0, 0, 0.15);\n",
              "      filter: drop-shadow(0px 1px 2px rgba(0, 0, 0, 0.3));\n",
              "      fill: #FFFFFF;\n",
              "    }\n",
              "  </style>\n",
              "\n",
              "    <script>\n",
              "      const buttonEl =\n",
              "        document.querySelector('#df-f8ddf8e9-c4f7-4c4c-93a1-b3ef4d210bae button.colab-df-convert');\n",
              "      buttonEl.style.display =\n",
              "        google.colab.kernel.accessAllowed ? 'block' : 'none';\n",
              "\n",
              "      async function convertToInteractive(key) {\n",
              "        const element = document.querySelector('#df-f8ddf8e9-c4f7-4c4c-93a1-b3ef4d210bae');\n",
              "        const dataTable =\n",
              "          await google.colab.kernel.invokeFunction('convertToInteractive',\n",
              "                                                    [key], {});\n",
              "        if (!dataTable) return;\n",
              "\n",
              "        const docLinkHtml = 'Like what you see? Visit the ' +\n",
              "          '<a target=\"_blank\" href=https://colab.research.google.com/notebooks/data_table.ipynb>data table notebook</a>'\n",
              "          + ' to learn more about interactive tables.';\n",
              "        element.innerHTML = '';\n",
              "        dataTable['output_type'] = 'display_data';\n",
              "        await google.colab.output.renderOutput(dataTable, element);\n",
              "        const docLink = document.createElement('div');\n",
              "        docLink.innerHTML = docLinkHtml;\n",
              "        element.appendChild(docLink);\n",
              "      }\n",
              "    </script>\n",
              "  </div>\n",
              "\n",
              "\n",
              "<div id=\"df-706399ea-d493-453c-86bd-652e8be9d8f5\">\n",
              "  <button class=\"colab-df-quickchart\" onclick=\"quickchart('df-706399ea-d493-453c-86bd-652e8be9d8f5')\"\n",
              "            title=\"Suggest charts\"\n",
              "            style=\"display:none;\">\n",
              "\n",
              "<svg xmlns=\"http://www.w3.org/2000/svg\" height=\"24px\"viewBox=\"0 0 24 24\"\n",
              "     width=\"24px\">\n",
              "    <g>\n",
              "        <path d=\"M19 3H5c-1.1 0-2 .9-2 2v14c0 1.1.9 2 2 2h14c1.1 0 2-.9 2-2V5c0-1.1-.9-2-2-2zM9 17H7v-7h2v7zm4 0h-2V7h2v10zm4 0h-2v-4h2v4z\"/>\n",
              "    </g>\n",
              "</svg>\n",
              "  </button>\n",
              "\n",
              "<style>\n",
              "  .colab-df-quickchart {\n",
              "      --bg-color: #E8F0FE;\n",
              "      --fill-color: #1967D2;\n",
              "      --hover-bg-color: #E2EBFA;\n",
              "      --hover-fill-color: #174EA6;\n",
              "      --disabled-fill-color: #AAA;\n",
              "      --disabled-bg-color: #DDD;\n",
              "  }\n",
              "\n",
              "  [theme=dark] .colab-df-quickchart {\n",
              "      --bg-color: #3B4455;\n",
              "      --fill-color: #D2E3FC;\n",
              "      --hover-bg-color: #434B5C;\n",
              "      --hover-fill-color: #FFFFFF;\n",
              "      --disabled-bg-color: #3B4455;\n",
              "      --disabled-fill-color: #666;\n",
              "  }\n",
              "\n",
              "  .colab-df-quickchart {\n",
              "    background-color: var(--bg-color);\n",
              "    border: none;\n",
              "    border-radius: 50%;\n",
              "    cursor: pointer;\n",
              "    display: none;\n",
              "    fill: var(--fill-color);\n",
              "    height: 32px;\n",
              "    padding: 0;\n",
              "    width: 32px;\n",
              "  }\n",
              "\n",
              "  .colab-df-quickchart:hover {\n",
              "    background-color: var(--hover-bg-color);\n",
              "    box-shadow: 0 1px 2px rgba(60, 64, 67, 0.3), 0 1px 3px 1px rgba(60, 64, 67, 0.15);\n",
              "    fill: var(--button-hover-fill-color);\n",
              "  }\n",
              "\n",
              "  .colab-df-quickchart-complete:disabled,\n",
              "  .colab-df-quickchart-complete:disabled:hover {\n",
              "    background-color: var(--disabled-bg-color);\n",
              "    fill: var(--disabled-fill-color);\n",
              "    box-shadow: none;\n",
              "  }\n",
              "\n",
              "  .colab-df-spinner {\n",
              "    border: 2px solid var(--fill-color);\n",
              "    border-color: transparent;\n",
              "    border-bottom-color: var(--fill-color);\n",
              "    animation:\n",
              "      spin 1s steps(1) infinite;\n",
              "  }\n",
              "\n",
              "  @keyframes spin {\n",
              "    0% {\n",
              "      border-color: transparent;\n",
              "      border-bottom-color: var(--fill-color);\n",
              "      border-left-color: var(--fill-color);\n",
              "    }\n",
              "    20% {\n",
              "      border-color: transparent;\n",
              "      border-left-color: var(--fill-color);\n",
              "      border-top-color: var(--fill-color);\n",
              "    }\n",
              "    30% {\n",
              "      border-color: transparent;\n",
              "      border-left-color: var(--fill-color);\n",
              "      border-top-color: var(--fill-color);\n",
              "      border-right-color: var(--fill-color);\n",
              "    }\n",
              "    40% {\n",
              "      border-color: transparent;\n",
              "      border-right-color: var(--fill-color);\n",
              "      border-top-color: var(--fill-color);\n",
              "    }\n",
              "    60% {\n",
              "      border-color: transparent;\n",
              "      border-right-color: var(--fill-color);\n",
              "    }\n",
              "    80% {\n",
              "      border-color: transparent;\n",
              "      border-right-color: var(--fill-color);\n",
              "      border-bottom-color: var(--fill-color);\n",
              "    }\n",
              "    90% {\n",
              "      border-color: transparent;\n",
              "      border-bottom-color: var(--fill-color);\n",
              "    }\n",
              "  }\n",
              "</style>\n",
              "\n",
              "  <script>\n",
              "    async function quickchart(key) {\n",
              "      const quickchartButtonEl =\n",
              "        document.querySelector('#' + key + ' button');\n",
              "      quickchartButtonEl.disabled = true;  // To prevent multiple clicks.\n",
              "      quickchartButtonEl.classList.add('colab-df-spinner');\n",
              "      try {\n",
              "        const charts = await google.colab.kernel.invokeFunction(\n",
              "            'suggestCharts', [key], {});\n",
              "      } catch (error) {\n",
              "        console.error('Error during call to suggestCharts:', error);\n",
              "      }\n",
              "      quickchartButtonEl.classList.remove('colab-df-spinner');\n",
              "      quickchartButtonEl.classList.add('colab-df-quickchart-complete');\n",
              "    }\n",
              "    (() => {\n",
              "      let quickchartButtonEl =\n",
              "        document.querySelector('#df-706399ea-d493-453c-86bd-652e8be9d8f5 button');\n",
              "      quickchartButtonEl.style.display =\n",
              "        google.colab.kernel.accessAllowed ? 'block' : 'none';\n",
              "    })();\n",
              "  </script>\n",
              "</div>\n",
              "\n",
              "  <div id=\"id_19b959bf-3fff-4cae-9809-bed55d5462bc\">\n",
              "    <style>\n",
              "      .colab-df-generate {\n",
              "        background-color: #E8F0FE;\n",
              "        border: none;\n",
              "        border-radius: 50%;\n",
              "        cursor: pointer;\n",
              "        display: none;\n",
              "        fill: #1967D2;\n",
              "        height: 32px;\n",
              "        padding: 0 0 0 0;\n",
              "        width: 32px;\n",
              "      }\n",
              "\n",
              "      .colab-df-generate:hover {\n",
              "        background-color: #E2EBFA;\n",
              "        box-shadow: 0px 1px 2px rgba(60, 64, 67, 0.3), 0px 1px 3px 1px rgba(60, 64, 67, 0.15);\n",
              "        fill: #174EA6;\n",
              "      }\n",
              "\n",
              "      [theme=dark] .colab-df-generate {\n",
              "        background-color: #3B4455;\n",
              "        fill: #D2E3FC;\n",
              "      }\n",
              "\n",
              "      [theme=dark] .colab-df-generate:hover {\n",
              "        background-color: #434B5C;\n",
              "        box-shadow: 0px 1px 3px 1px rgba(0, 0, 0, 0.15);\n",
              "        filter: drop-shadow(0px 1px 2px rgba(0, 0, 0, 0.3));\n",
              "        fill: #FFFFFF;\n",
              "      }\n",
              "    </style>\n",
              "    <button class=\"colab-df-generate\" onclick=\"generateWithVariable('df')\"\n",
              "            title=\"Generate code using this dataframe.\"\n",
              "            style=\"display:none;\">\n",
              "\n",
              "  <svg xmlns=\"http://www.w3.org/2000/svg\" height=\"24px\"viewBox=\"0 0 24 24\"\n",
              "       width=\"24px\">\n",
              "    <path d=\"M7,19H8.4L18.45,9,17,7.55,7,17.6ZM5,21V16.75L18.45,3.32a2,2,0,0,1,2.83,0l1.4,1.43a1.91,1.91,0,0,1,.58,1.4,1.91,1.91,0,0,1-.58,1.4L9.25,21ZM18.45,9,17,7.55Zm-12,3A5.31,5.31,0,0,0,4.9,8.1,5.31,5.31,0,0,0,1,6.5,5.31,5.31,0,0,0,4.9,4.9,5.31,5.31,0,0,0,6.5,1,5.31,5.31,0,0,0,8.1,4.9,5.31,5.31,0,0,0,12,6.5,5.46,5.46,0,0,0,6.5,12Z\"/>\n",
              "  </svg>\n",
              "    </button>\n",
              "    <script>\n",
              "      (() => {\n",
              "      const buttonEl =\n",
              "        document.querySelector('#id_19b959bf-3fff-4cae-9809-bed55d5462bc button.colab-df-generate');\n",
              "      buttonEl.style.display =\n",
              "        google.colab.kernel.accessAllowed ? 'block' : 'none';\n",
              "\n",
              "      buttonEl.onclick = () => {\n",
              "        google.colab.notebook.generateWithVariable('df');\n",
              "      }\n",
              "      })();\n",
              "    </script>\n",
              "  </div>\n",
              "\n",
              "    </div>\n",
              "  </div>\n"
            ],
            "text/plain": [
              "      mod_zurich_class  largest_spot_size  spot_distribution  activity  \\\n",
              "0                    5                  0                  3         1   \n",
              "1                    2                  3                  2         1   \n",
              "2                    1                  4                  2         1   \n",
              "3                    5                  3                  3         1   \n",
              "4                    5                  4                  3         1   \n",
              "...                ...                ...                ...       ...   \n",
              "1061                 5                  4                  3         1   \n",
              "1062                 5                  4                  3         2   \n",
              "1063                 1                  4                  2         1   \n",
              "1064                 5                  3                  3         1   \n",
              "1065                 0                  5                  2         1   \n",
              "\n",
              "      evolution  previous_day_activity  hist_complex  become_hist_complex  \\\n",
              "0             3                      1             1                    1   \n",
              "1             3                      1             1                    2   \n",
              "2             3                      1             1                    2   \n",
              "3             2                      1             1                    1   \n",
              "4             1                      1             1                    2   \n",
              "...         ...                    ...           ...                  ...   \n",
              "1061          2                      1             1                    1   \n",
              "1062          2                      1             1                    2   \n",
              "1063          2                      1             2                    2   \n",
              "1064          2                      1             1                    2   \n",
              "1065          1                      1             1                    2   \n",
              "\n",
              "      area  area_largest  c-class  m-class  x-class  \n",
              "0        1             1      0.0      0.0      0.0  \n",
              "1        1             1      0.0      0.0      0.0  \n",
              "2        1             1      0.0      0.0      0.0  \n",
              "3        1             1      0.0      0.0      0.0  \n",
              "4        1             1      0.0      0.0      0.0  \n",
              "...    ...           ...      ...      ...      ...  \n",
              "1061     1             1      0.0      0.0      0.0  \n",
              "1062     1             1      0.0      0.0      0.0  \n",
              "1063     1             1      0.0      0.0      0.0  \n",
              "1064     1             1      0.0      0.0      0.0  \n",
              "1065     1             1      0.0      0.0      0.0  \n",
              "\n",
              "[1066 rows x 13 columns]"
            ]
          },
          "execution_count": 94,
          "metadata": {},
          "output_type": "execute_result"
        }
      ],
      "source": [
        "df"
      ]
    },
    {
      "cell_type": "code",
      "execution_count": null,
      "metadata": {
        "id": "1-lsTbw2BCp0"
      },
      "outputs": [],
      "source": [
        "label_index=df.iloc[:,-3:]\n",
        "Data_index =df.iloc[:, :10]\n",
        "Data_index1=np.array(Data_index)\n",
        "scaler = StandardScaler()\n",
        "X_scaled = scaler.fit_transform(Data_index1)"
      ]
    },
    {
      "cell_type": "code",
      "execution_count": null,
      "metadata": {
        "colab": {
          "base_uri": "https://localhost:8080/"
        },
        "id": "xTkDrfmCJ_mA",
        "outputId": "18b6fa89-9021-4327-bb81-fad09f06da74"
      },
      "outputs": [
        {
          "data": {
            "text/plain": [
              "array([[5, 0, 3, ..., 1, 1, 1],\n",
              "       [2, 3, 2, ..., 2, 1, 1],\n",
              "       [1, 4, 2, ..., 2, 1, 1],\n",
              "       ...,\n",
              "       [1, 4, 2, ..., 2, 1, 1],\n",
              "       [5, 3, 3, ..., 2, 1, 1],\n",
              "       [0, 5, 2, ..., 2, 1, 1]])"
            ]
          },
          "execution_count": 96,
          "metadata": {},
          "output_type": "execute_result"
        }
      ],
      "source": [
        "Data_index1"
      ]
    },
    {
      "cell_type": "code",
      "execution_count": null,
      "metadata": {
        "colab": {
          "base_uri": "https://localhost:8080/"
        },
        "id": "h2AxevLyF3vG",
        "outputId": "d65e93d6-1b01-4d89-9221-19c586beaf2e"
      },
      "outputs": [
        {
          "data": {
            "text/plain": [
              "array([[ 1.28649258, -1.73776452,  1.19635215, ..., -2.64859162,\n",
              "        -0.16120337,  0.        ],\n",
              "       [-0.34031773,  0.02424275, -0.04422313, ...,  0.37755915,\n",
              "        -0.16120337,  0.        ],\n",
              "       [-0.88258783,  0.61157851, -0.04422313, ...,  0.37755915,\n",
              "        -0.16120337,  0.        ],\n",
              "       ...,\n",
              "       [-0.88258783,  0.61157851, -0.04422313, ...,  0.37755915,\n",
              "        -0.16120337,  0.        ],\n",
              "       [ 1.28649258,  0.02424275,  1.19635215, ...,  0.37755915,\n",
              "        -0.16120337,  0.        ],\n",
              "       [-1.42485794,  1.19891427, -0.04422313, ...,  0.37755915,\n",
              "        -0.16120337,  0.        ]])"
            ]
          },
          "execution_count": 97,
          "metadata": {},
          "output_type": "execute_result"
        }
      ],
      "source": [
        "X_scaled"
      ]
    },
    {
      "cell_type": "code",
      "execution_count": null,
      "metadata": {
        "id": "r_ddrIO0GI8c"
      },
      "outputs": [],
      "source": []
    },
    {
      "cell_type": "code",
      "execution_count": null,
      "metadata": {
        "id": "xWPq88jr1ViG"
      },
      "outputs": [],
      "source": [
        "import os\n",
        "import numpy as np\n",
        "import pandas as pd\n",
        "\n",
        "import arff\n",
        "from sklearn.model_selection import train_test_split\n",
        "from sklearn.preprocessing import StandardScaler\n",
        "from sklearn.metrics import mean_squared_error\n",
        "\n"
      ]
    },
    {
      "cell_type": "code",
      "execution_count": null,
      "metadata": {
        "id": "ZqCKPCxtF0RH"
      },
      "outputs": [],
      "source": [
        "import numpy as np\n",
        "from sklearn.base import BaseEstimator, RegressorMixin, clone\n",
        "from sklearn.multioutput import MultiOutputRegressor\n",
        "from sklearn.linear_model import LinearRegression\n",
        "from sklearn.model_selection import KFold\n",
        "from sklearn.metrics import mean_squared_error\n",
        "from sklearn.metrics import r2_score"
      ]
    },
    {
      "cell_type": "code",
      "execution_count": null,
      "metadata": {
        "colab": {
          "base_uri": "https://localhost:8080/"
        },
        "id": "6LtsBUrf3yp7",
        "outputId": "ea90554d-fa56-4e97-ee09-d1f9595b87f4"
      },
      "outputs": [
        {
          "output_type": "stream",
          "name": "stdout",
          "text": [
            "Cloning into 'pykan'...\n",
            "remote: Enumerating objects: 4139, done.\u001b[K\n",
            "remote: Counting objects: 100% (1705/1705), done.\u001b[K\n",
            "remote: Compressing objects: 100% (830/830), done.\u001b[K\n",
            "remote: Total 4139 (delta 1007), reused 1484 (delta 872), pack-reused 2434 (from 1)\u001b[K\n",
            "Receiving objects: 100% (4139/4139), 114.40 MiB | 21.34 MiB/s, done.\n",
            "Resolving deltas: 100% (1542/1542), done.\n",
            "Obtaining file:///content\n",
            "\u001b[31mERROR: file:///content does not appear to be a Python project: neither 'setup.py' nor 'pyproject.toml' found.\u001b[0m\u001b[31m\n",
            "\u001b[0m"
          ]
        }
      ],
      "source": [
        "!git clone https://github.com/KindXiaoming/pykan.git\n",
        "!cd pykan\n",
        "!pip install -e ."
      ]
    },
    {
      "cell_type": "code",
      "execution_count": null,
      "metadata": {
        "colab": {
          "base_uri": "https://localhost:8080/"
        },
        "id": "4NgLZQEj31iq",
        "outputId": "df798de4-710e-45ef-be51-9157147b4be9"
      },
      "outputs": [
        {
          "output_type": "stream",
          "name": "stdout",
          "text": [
            "Collecting pykan\n",
            "  Downloading pykan-0.2.7-py3-none-any.whl.metadata (11 kB)\n",
            "Downloading pykan-0.2.7-py3-none-any.whl (77 kB)\n",
            "\u001b[?25l   \u001b[90m━━━━━━━━━━━━━━━━━━━━━━━━━━━━━━━━━━━━━━━━\u001b[0m \u001b[32m0.0/77.6 kB\u001b[0m \u001b[31m?\u001b[0m eta \u001b[36m-:--:--\u001b[0m\r\u001b[2K   \u001b[91m━━━━━━━━━━━━━━━━━━━━━━━━━━━━━━━━━━━━\u001b[0m\u001b[91m╸\u001b[0m\u001b[90m━━━\u001b[0m \u001b[32m71.7/77.6 kB\u001b[0m \u001b[31m2.9 MB/s\u001b[0m eta \u001b[36m0:00:01\u001b[0m\r\u001b[2K   \u001b[90m━━━━━━━━━━━━━━━━━━━━━━━━━━━━━━━━━━━━━━━━\u001b[0m \u001b[32m77.6/77.6 kB\u001b[0m \u001b[31m1.9 MB/s\u001b[0m eta \u001b[36m0:00:00\u001b[0m\n",
            "\u001b[?25hInstalling collected packages: pykan\n",
            "Successfully installed pykan-0.2.7\n"
          ]
        }
      ],
      "source": [
        "!pip install pykan"
      ]
    },
    {
      "cell_type": "code",
      "execution_count": null,
      "metadata": {
        "colab": {
          "base_uri": "https://localhost:8080/"
        },
        "id": "XzuwwhyrMate",
        "outputId": "ce137804-195f-4f3f-833b-c6831336fb6e"
      },
      "outputs": [
        {
          "name": "stdout",
          "output_type": "stream",
          "text": [
            "Python 3.10.12\n"
          ]
        }
      ],
      "source": [
        "!python --version"
      ]
    },
    {
      "cell_type": "code",
      "execution_count": null,
      "metadata": {
        "id": "tLX4hWo1Mj7N"
      },
      "outputs": [],
      "source": []
    },
    {
      "cell_type": "code",
      "execution_count": null,
      "metadata": {
        "id": "oJwOom3536wa"
      },
      "outputs": [],
      "source": [
        "from kan import *\n",
        "#import torch\n"
      ]
    },
    {
      "cell_type": "code",
      "execution_count": null,
      "metadata": {
        "id": "Tjn0_fvZmi55"
      },
      "outputs": [],
      "source": [
        "X_scaled1=Data_index.values"
      ]
    },
    {
      "cell_type": "code",
      "source": [
        "def f(x):\n",
        "    return torch.exp(torch.sin(torch.pi * x[:, [0]]) + x[:, [1]]**2)\n",
        "X_scaled1=f(torch.tensor(X_scaled))"
      ],
      "metadata": {
        "id": "jePe-_dmtyiA"
      },
      "execution_count": null,
      "outputs": []
    },
    {
      "cell_type": "code",
      "source": [
        "X_scaled1.shape"
      ],
      "metadata": {
        "colab": {
          "base_uri": "https://localhost:8080/"
        },
        "id": "IHF1k6_YuGMU",
        "outputId": "123edd71-c5d6-4b0a-ef7d-41632764f4e7"
      },
      "execution_count": null,
      "outputs": [
        {
          "output_type": "execute_result",
          "data": {
            "text/plain": [
              "torch.Size([359, 1])"
            ]
          },
          "metadata": {},
          "execution_count": 25
        }
      ]
    },
    {
      "cell_type": "markdown",
      "source": [
        "SF2"
      ],
      "metadata": {
        "id": "wafGMBA2rXf8"
      }
    },
    {
      "cell_type": "code",
      "source": [
        "rmse_list=[]\n",
        "rmse_list1=[]\n",
        "r2=[]\n",
        "armse=[]\n",
        "armse1=[]\n",
        "X_scaled=Data_index.values\n",
        "import torch\n",
        "from sklearn.metrics import r2_score\n",
        "# Assuming 'KAN' is a defined class for your model\n",
        "#device = torch.device(\"cuda\" if torch.cuda.is_available() else \"cpu\")\n",
        "model = KAN(width=[10,5,3], grid=1, k=2, seed=1)\n",
        "\n",
        "kf = KFold(n_splits=10, shuffle=True, random_state=1)\n",
        "results = []\n",
        "\n",
        "for train_index, test_index in kf.split(X_scaled):\n",
        "  X_train, X_test = X_scaled[train_index], X_scaled[test_index]\n",
        "  y_train, y_test = label_index.iloc[train_index], label_index.iloc[test_index]\n",
        "  # Convert to tensors\n",
        "  X_train_tensor = torch.tensor(X_train,dtype=torch.float32)\n",
        "  y_train_tensor = torch.tensor(y_train.values, dtype=torch.float32)\n",
        "  X_test_tensor = torch.tensor(X_test, dtype=torch.float32)\n",
        "  y_test_tensor = torch.tensor(y_test.values, dtype=torch.float32)\n",
        "  dataset = {\n",
        "     'train_input': X_train_tensor,\n",
        "      'train_label': y_train_tensor,\n",
        "      'test_input': X_test_tensor,\n",
        "      'test_label': y_test_tensor\n",
        "            }\n",
        "  model.fit(dataset, opt=\"LBFGS\", steps=3,lamb=0.01)\n",
        "  with torch.no_grad():\n",
        "   y_pred = model(X_test_tensor)\n",
        "   y_pred = y_pred.detach().numpy()\n",
        "   # Calculate individual and average RMSE using multi_rmse function\n",
        "   #individual_rmse, avg_rmse = multi_rmse(y_test, y_pred)\n",
        "   arm,arm1=aRRMSE3(y_test, y_pred)\n",
        "   #r=multi_rss1(y_test, y_pred)\n",
        "\n",
        "                    # Append individual and average RMSE to the list\n",
        "   #rmse_list.append(individual_rmse.tolist())\n",
        "   #rmse_list1.append(avg_rmse)\n",
        "   armse.append(arm)\n",
        "   armse1.append(arm1)\n",
        "   #r2.append(r)\n"
      ],
      "metadata": {
        "colab": {
          "base_uri": "https://localhost:8080/"
        },
        "id": "jN9WeQa0o7aL",
        "outputId": "fd772261-2e39-46c7-ffa1-462998c45177"
      },
      "execution_count": null,
      "outputs": [
        {
          "output_type": "stream",
          "name": "stdout",
          "text": [
            "checkpoint directory created: ./model\n",
            "saving model version 0.0\n"
          ]
        },
        {
          "output_type": "stream",
          "name": "stderr",
          "text": [
            "| train_loss: 4.78e-01 | test_loss: 5.36e-01 | reg: 5.81e+00 | : 100%|█| 3/3 [00:02<00:00,  1.45it/s\n"
          ]
        },
        {
          "output_type": "stream",
          "name": "stdout",
          "text": [
            "saving model version 0.1\n"
          ]
        },
        {
          "output_type": "stream",
          "name": "stderr",
          "text": [
            "| train_loss: 4.93e-01 | test_loss: 3.73e-01 | reg: 5.89e+00 | : 100%|█| 3/3 [00:02<00:00,  1.33it/s\n"
          ]
        },
        {
          "output_type": "stream",
          "name": "stdout",
          "text": [
            "saving model version 0.2\n"
          ]
        },
        {
          "output_type": "stream",
          "name": "stderr",
          "text": [
            "| train_loss: 4.76e-01 | test_loss: 5.49e-01 | reg: 5.19e+00 | : 100%|█| 3/3 [00:01<00:00,  1.63it/s\n"
          ]
        },
        {
          "output_type": "stream",
          "name": "stdout",
          "text": [
            "saving model version 0.3\n"
          ]
        },
        {
          "output_type": "stream",
          "name": "stderr",
          "text": [
            "| train_loss: 4.77e-01 | test_loss: 5.61e-01 | reg: 7.41e+00 | : 100%|█| 3/3 [00:01<00:00,  2.19it/s\n"
          ]
        },
        {
          "output_type": "stream",
          "name": "stdout",
          "text": [
            "saving model version 0.4\n"
          ]
        },
        {
          "output_type": "stream",
          "name": "stderr",
          "text": [
            "| train_loss: 4.90e-01 | test_loss: 4.29e-01 | reg: 8.97e+00 | : 100%|█| 3/3 [00:01<00:00,  2.15it/s\n"
          ]
        },
        {
          "output_type": "stream",
          "name": "stdout",
          "text": [
            "saving model version 0.5\n"
          ]
        },
        {
          "output_type": "stream",
          "name": "stderr",
          "text": [
            "| train_loss: 4.91e-01 | test_loss: 4.30e-01 | reg: 7.96e+00 | : 100%|█| 3/3 [00:01<00:00,  2.39it/s\n"
          ]
        },
        {
          "output_type": "stream",
          "name": "stdout",
          "text": [
            "saving model version 0.6\n"
          ]
        },
        {
          "output_type": "stream",
          "name": "stderr",
          "text": [
            "| train_loss: 4.94e-01 | test_loss: 3.85e-01 | reg: 7.32e+00 | : 100%|█| 3/3 [00:01<00:00,  2.10it/s\n"
          ]
        },
        {
          "output_type": "stream",
          "name": "stdout",
          "text": [
            "saving model version 0.7\n"
          ]
        },
        {
          "output_type": "stream",
          "name": "stderr",
          "text": [
            "| train_loss: 4.85e-01 | test_loss: 4.49e-01 | reg: 7.22e+00 | : 100%|█| 3/3 [00:01<00:00,  1.95it/s\n"
          ]
        },
        {
          "output_type": "stream",
          "name": "stdout",
          "text": [
            "saving model version 0.8\n"
          ]
        },
        {
          "output_type": "stream",
          "name": "stderr",
          "text": [
            "| train_loss: 4.93e-01 | test_loss: 3.82e-01 | reg: 7.62e+00 | : 100%|█| 3/3 [00:01<00:00,  2.11it/s\n"
          ]
        },
        {
          "output_type": "stream",
          "name": "stdout",
          "text": [
            "saving model version 0.9\n"
          ]
        },
        {
          "output_type": "stream",
          "name": "stderr",
          "text": [
            "| train_loss: 4.67e-01 | test_loss: 6.93e-01 | reg: 6.76e+00 | : 100%|█| 3/3 [00:01<00:00,  2.11it/s"
          ]
        },
        {
          "output_type": "stream",
          "name": "stdout",
          "text": [
            "saving model version 0.10\n"
          ]
        },
        {
          "output_type": "stream",
          "name": "stderr",
          "text": [
            "\n"
          ]
        }
      ]
    },
    {
      "cell_type": "code",
      "source": [
        "avg_armse = np.mean(armse)\n",
        "#avg_r2 = np.mean(r2)\n",
        "##avg_rmse_list1 = np.mean(rmse_list1)\n",
        "\n",
        "# Calculate average scores for individual targets (row-wise average of rmse_list)\n",
        "#avg_rmse_individual = np.mean(rmse_list, axis=0)\n",
        "avg_armse_individual = np.mean(armse1, axis=0)\n",
        "print(\"Average aRRMSE:\", avg_armse)\n",
        "#print(\"Average R-squared:\", avg_r2)\n",
        "#print(\"Average RMSE (uniform average):\", avg_rmse_list1)\n",
        "#print(\"Average RMSE for individual targets:\", avg_rmse_individual)\n",
        "print(\"Average ARMSE for individual targets:\", avg_armse_individual)"
      ],
      "metadata": {
        "colab": {
          "base_uri": "https://localhost:8080/"
        },
        "id": "TMm2-S3MpK4H",
        "outputId": "7a81984c-79bc-4800-d84e-a20f5914b9bf"
      },
      "execution_count": null,
      "outputs": [
        {
          "output_type": "stream",
          "name": "stdout",
          "text": [
            "Average aRRMSE: 0.781585083029731\n",
            "Average ARMSE for individual targets: [0.94294947 1.00466146 0.39714432]\n"
          ]
        }
      ]
    },
    {
      "cell_type": "markdown",
      "source": [
        "SF1"
      ],
      "metadata": {
        "id": "Ti4H8roJo0MY"
      }
    },
    {
      "cell_type": "code",
      "source": [
        "rmse_list=[]\n",
        "rmse_list1=[]\n",
        "r2=[]\n",
        "armse=[]\n",
        "armse1=[]\n",
        "X_scaled=Data_index.values\n",
        "import torch\n",
        "from sklearn.metrics import r2_score\n",
        "# Assuming 'KAN' is a defined class for your model\n",
        "#device = torch.device(\"cuda\" if torch.cuda.is_available() else \"cpu\")\n",
        "model = KAN(width=[10,6,3], grid=6, k=2, seed=1)\n",
        "\n",
        "kf = KFold(n_splits=10, shuffle=True, random_state=1)\n",
        "results = []\n",
        "\n",
        "for train_index, test_index in kf.split(X_scaled):\n",
        "  X_train, X_test = X_scaled[train_index], X_scaled[test_index]\n",
        "  y_train, y_test = label_index.iloc[train_index], label_index.iloc[test_index]\n",
        "  # Convert to tensors\n",
        "  X_train_tensor = torch.tensor(X_train,dtype=torch.float32)\n",
        "  y_train_tensor = torch.tensor(y_train.values, dtype=torch.float32)\n",
        "  X_test_tensor = torch.tensor(X_test, dtype=torch.float32)\n",
        "  y_test_tensor = torch.tensor(y_test.values, dtype=torch.float32)\n",
        "  dataset = {\n",
        "     'train_input': X_train_tensor,\n",
        "      'train_label': y_train_tensor,\n",
        "      'test_input': X_test_tensor,\n",
        "      'test_label': y_test_tensor\n",
        "            }\n",
        "  model.fit(dataset, opt=\"LBFGS\", steps=3,lamb=0.01)\n",
        "  with torch.no_grad():\n",
        "   y_pred = model(X_test_tensor)\n",
        "   y_pred = y_pred.detach().numpy()\n",
        "   # Calculate individual and average RMSE using multi_rmse function\n",
        "   #individual_rmse, avg_rmse = multi_rmse(y_test, y_pred)\n",
        "   arm,arm1=aRRMSE3(y_test, y_pred)\n",
        "   #r=multi_rss1(y_test, y_pred)\n",
        "\n",
        "                    # Append individual and average RMSE to the list\n",
        "   #rmse_list.append(individual_rmse.tolist())\n",
        "   #rmse_list1.append(avg_rmse)\n",
        "   armse.append(arm)\n",
        "   armse1.append(arm1)\n",
        "   #r2.append(r)\n"
      ],
      "metadata": {
        "colab": {
          "base_uri": "https://localhost:8080/"
        },
        "id": "xM0W8rjieHmn",
        "outputId": "a1714638-10a8-43e6-d982-8c1436fa79f7"
      },
      "execution_count": null,
      "outputs": [
        {
          "output_type": "stream",
          "name": "stdout",
          "text": [
            "checkpoint directory created: ./model\n",
            "saving model version 0.0\n"
          ]
        },
        {
          "output_type": "stream",
          "name": "stderr",
          "text": [
            "| train_loss: 3.48e-01 | test_loss: 5.23e-01 | reg: 1.76e+00 | : 100%|█| 3/3 [00:01<00:00,  2.89it/s\n"
          ]
        },
        {
          "output_type": "stream",
          "name": "stdout",
          "text": [
            "saving model version 0.1\n"
          ]
        },
        {
          "output_type": "stream",
          "name": "stderr",
          "text": [
            "| train_loss: 3.75e-01 | test_loss: 3.10e-01 | reg: 2.59e+00 | : 100%|█| 3/3 [00:00<00:00,  3.06it/s\n"
          ]
        },
        {
          "output_type": "stream",
          "name": "stdout",
          "text": [
            "saving model version 0.2\n"
          ]
        },
        {
          "output_type": "stream",
          "name": "stderr",
          "text": [
            "| train_loss: 3.70e-01 | test_loss: 3.17e-01 | reg: 6.59e+00 | : 100%|█| 3/3 [00:00<00:00,  3.13it/s\n"
          ]
        },
        {
          "output_type": "stream",
          "name": "stdout",
          "text": [
            "saving model version 0.3\n"
          ]
        },
        {
          "output_type": "stream",
          "name": "stderr",
          "text": [
            "| train_loss: 3.78e-01 | test_loss: 3.61e-01 | reg: 2.81e+01 | : 100%|█| 3/3 [00:01<00:00,  2.19it/s\n"
          ]
        },
        {
          "output_type": "stream",
          "name": "stdout",
          "text": [
            "saving model version 0.4\n"
          ]
        },
        {
          "output_type": "stream",
          "name": "stderr",
          "text": [
            "| train_loss: 3.77e-01 | test_loss: 2.20e-01 | reg: 6.11e+00 | : 100%|█| 3/3 [00:01<00:00,  2.11it/s\n"
          ]
        },
        {
          "output_type": "stream",
          "name": "stdout",
          "text": [
            "saving model version 0.5\n"
          ]
        },
        {
          "output_type": "stream",
          "name": "stderr",
          "text": [
            "| train_loss: 3.69e-01 | test_loss: 3.54e-01 | reg: 6.06e+00 | : 100%|█| 3/3 [00:01<00:00,  2.10it/s\n"
          ]
        },
        {
          "output_type": "stream",
          "name": "stdout",
          "text": [
            "saving model version 0.6\n"
          ]
        },
        {
          "output_type": "stream",
          "name": "stderr",
          "text": [
            "| train_loss: 3.74e-01 | test_loss: 3.15e-01 | reg: 4.55e+00 | : 100%|█| 3/3 [00:01<00:00,  2.14it/s\n"
          ]
        },
        {
          "output_type": "stream",
          "name": "stdout",
          "text": [
            "saving model version 0.7\n"
          ]
        },
        {
          "output_type": "stream",
          "name": "stderr",
          "text": [
            "| train_loss: 3.64e-01 | test_loss: 4.03e-01 | reg: 4.58e+00 | : 100%|█| 3/3 [00:01<00:00,  2.87it/s\n"
          ]
        },
        {
          "output_type": "stream",
          "name": "stdout",
          "text": [
            "saving model version 0.8\n"
          ]
        },
        {
          "output_type": "stream",
          "name": "stderr",
          "text": [
            "| train_loss: 3.82e-01 | test_loss: 2.25e-01 | reg: 4.57e+00 | : 100%|█| 3/3 [00:01<00:00,  2.87it/s\n"
          ]
        },
        {
          "output_type": "stream",
          "name": "stdout",
          "text": [
            "saving model version 0.9\n"
          ]
        },
        {
          "output_type": "stream",
          "name": "stderr",
          "text": [
            "| train_loss: 3.47e-01 | test_loss: 5.32e-01 | reg: 3.24e+00 | : 100%|█| 3/3 [00:00<00:00,  3.20it/s"
          ]
        },
        {
          "output_type": "stream",
          "name": "stdout",
          "text": [
            "saving model version 0.10\n"
          ]
        },
        {
          "output_type": "stream",
          "name": "stderr",
          "text": [
            "\n"
          ]
        }
      ]
    },
    {
      "cell_type": "code",
      "source": [
        "avg_armse = np.mean(armse)\n",
        "#avg_r2 = np.mean(r2)\n",
        "##avg_rmse_list1 = np.mean(rmse_list1)\n",
        "\n",
        "# Calculate average scores for individual targets (row-wise average of rmse_list)\n",
        "#avg_rmse_individual = np.mean(rmse_list, axis=0)\n",
        "avg_armse_individual = np.mean(armse1, axis=0)\n",
        "print(\"Average aRRMSE:\", avg_armse)\n",
        "#print(\"Average R-squared:\", avg_r2)\n",
        "#print(\"Average RMSE (uniform average):\", avg_rmse_list1)\n",
        "#print(\"Average RMSE for individual targets:\", avg_rmse_individual)\n",
        "print(\"Average ARMSE for individual targets:\", avg_armse_individual)"
      ],
      "metadata": {
        "colab": {
          "base_uri": "https://localhost:8080/"
        },
        "id": "mqoTRONXlfPj",
        "outputId": "b81bb1d5-48e8-42b0-d0ca-2e5ab960036a"
      },
      "execution_count": null,
      "outputs": [
        {
          "output_type": "stream",
          "name": "stdout",
          "text": [
            "Average aRRMSE: 0.8154470891240576\n",
            "Average ARMSE for individual targets: [1.03721171 0.90479101 0.50433854]\n"
          ]
        }
      ]
    },
    {
      "cell_type": "markdown",
      "source": [
        "SLUMP"
      ],
      "metadata": {
        "id": "Gcj-wtsJWYkS"
      }
    },
    {
      "cell_type": "code",
      "source": [
        "rmse_list=[]\n",
        "rmse_list1=[]\n",
        "r2=[]\n",
        "armse=[]\n",
        "armse1=[]\n",
        "X_scaled=Data_index.values\n",
        "import torch\n",
        "from sklearn.metrics import r2_score\n",
        "# Assuming 'KAN' is a defined class for your model\n",
        "#device = torch.device(\"cuda\" if torch.cuda.is_available() else \"cpu\")\n",
        "model = KAN(width=[7,7,3], grid=6, k=2, seed=1)\n",
        "\n",
        "kf = KFold(n_splits=10, shuffle=True, random_state=1)\n",
        "results = []\n",
        "\n",
        "for train_index, test_index in kf.split(X_scaled):\n",
        "  X_train, X_test = X_scaled[train_index], X_scaled[test_index]\n",
        "  y_train, y_test = label_index.iloc[train_index], label_index.iloc[test_index]\n",
        "  # Convert to tensors\n",
        "  X_train_tensor = torch.tensor(X_train,dtype=torch.float32)\n",
        "  y_train_tensor = torch.tensor(y_train.values, dtype=torch.float32)\n",
        "  X_test_tensor = torch.tensor(X_test, dtype=torch.float32)\n",
        "  y_test_tensor = torch.tensor(y_test.values, dtype=torch.float32)\n",
        "  dataset = {\n",
        "     'train_input': X_train_tensor,\n",
        "      'train_label': y_train_tensor,\n",
        "      'test_input': X_test_tensor,\n",
        "      'test_label': y_test_tensor\n",
        "            }\n",
        "  model.fit(dataset, opt=\"LBFGS\", steps=10,lamb=0.01)\n",
        "  with torch.no_grad():\n",
        "   y_pred = model(X_test_tensor)\n",
        "   y_pred = y_pred.detach().numpy()\n",
        "   # Calculate individual and average RMSE using multi_rmse function\n",
        "   #individual_rmse, avg_rmse = multi_rmse(y_test, y_pred)\n",
        "   arm,arm1=aRRMSE3(y_test, y_pred)\n",
        "   #r=multi_rss1(y_test, y_pred)\n",
        "\n",
        "                    # Append individual and average RMSE to the list\n",
        "   #rmse_list.append(individual_rmse.tolist())\n",
        "   #rmse_list1.append(avg_rmse)\n",
        "   armse.append(arm)\n",
        "   armse1.append(arm1)\n",
        "   #r2.append(r)\n"
      ],
      "metadata": {
        "colab": {
          "base_uri": "https://localhost:8080/"
        },
        "id": "FbhjRziPNf8F",
        "outputId": "811ca4db-7b73-4861-c307-0664c8432f5b"
      },
      "execution_count": null,
      "outputs": [
        {
          "output_type": "stream",
          "name": "stdout",
          "text": [
            "checkpoint directory created: ./model\n",
            "saving model version 0.0\n"
          ]
        },
        {
          "output_type": "stream",
          "name": "stderr",
          "text": [
            "| train_loss: 7.89e+00 | test_loss: 8.76e+00 | reg: 2.49e+01 | : 100%|█| 10/10 [00:08<00:00,  1.16it\n"
          ]
        },
        {
          "output_type": "stream",
          "name": "stdout",
          "text": [
            "saving model version 0.1\n"
          ]
        },
        {
          "output_type": "stream",
          "name": "stderr",
          "text": [
            "| train_loss: 7.29e+00 | test_loss: 7.22e+00 | reg: 2.75e+01 | : 100%|█| 10/10 [00:06<00:00,  1.51it\n"
          ]
        },
        {
          "output_type": "stream",
          "name": "stdout",
          "text": [
            "saving model version 0.2\n"
          ]
        },
        {
          "output_type": "stream",
          "name": "stderr",
          "text": [
            "| train_loss: 6.53e+00 | test_loss: 8.93e+00 | reg: 2.93e+01 | : 100%|█| 10/10 [00:04<00:00,  2.31it\n"
          ]
        },
        {
          "output_type": "stream",
          "name": "stdout",
          "text": [
            "saving model version 0.3\n"
          ]
        },
        {
          "output_type": "stream",
          "name": "stderr",
          "text": [
            "| train_loss: 6.37e+00 | test_loss: 7.08e+00 | reg: 2.95e+01 | : 100%|█| 10/10 [00:05<00:00,  1.80it\n"
          ]
        },
        {
          "output_type": "stream",
          "name": "stdout",
          "text": [
            "saving model version 0.4\n"
          ]
        },
        {
          "output_type": "stream",
          "name": "stderr",
          "text": [
            "| train_loss: 6.13e+00 | test_loss: 7.15e+00 | reg: 3.20e+01 | : 100%|█| 10/10 [00:03<00:00,  3.30it\n"
          ]
        },
        {
          "output_type": "stream",
          "name": "stdout",
          "text": [
            "saving model version 0.5\n"
          ]
        },
        {
          "output_type": "stream",
          "name": "stderr",
          "text": [
            "| train_loss: 6.05e+00 | test_loss: 6.05e+00 | reg: 3.22e+01 | : 100%|█| 10/10 [00:02<00:00,  4.22it\n"
          ]
        },
        {
          "output_type": "stream",
          "name": "stdout",
          "text": [
            "saving model version 0.6\n"
          ]
        },
        {
          "output_type": "stream",
          "name": "stderr",
          "text": [
            "| train_loss: 5.85e+00 | test_loss: 6.40e+00 | reg: 3.54e+01 | : 100%|█| 10/10 [00:02<00:00,  4.06it\n"
          ]
        },
        {
          "output_type": "stream",
          "name": "stdout",
          "text": [
            "saving model version 0.7\n"
          ]
        },
        {
          "output_type": "stream",
          "name": "stderr",
          "text": [
            "| train_loss: 5.37e+00 | test_loss: 8.46e+00 | reg: 3.57e+01 | : 100%|█| 10/10 [00:03<00:00,  3.06it\n"
          ]
        },
        {
          "output_type": "stream",
          "name": "stdout",
          "text": [
            "saving model version 0.8\n"
          ]
        },
        {
          "output_type": "stream",
          "name": "stderr",
          "text": [
            "| train_loss: 5.49e+00 | test_loss: 7.00e+00 | reg: 3.57e+01 | : 100%|█| 10/10 [00:03<00:00,  2.74it\n"
          ]
        },
        {
          "output_type": "stream",
          "name": "stdout",
          "text": [
            "saving model version 0.9\n"
          ]
        },
        {
          "output_type": "stream",
          "name": "stderr",
          "text": [
            "| train_loss: 5.24e+00 | test_loss: 7.63e+00 | reg: 3.65e+01 | : 100%|█| 10/10 [00:02<00:00,  3.68it"
          ]
        },
        {
          "output_type": "stream",
          "name": "stdout",
          "text": [
            "saving model version 0.10\n"
          ]
        },
        {
          "output_type": "stream",
          "name": "stderr",
          "text": [
            "\n"
          ]
        }
      ]
    },
    {
      "cell_type": "code",
      "source": [
        "avg_armse = np.mean(armse)\n",
        "#avg_r2 = np.mean(r2)\n",
        "##avg_rmse_list1 = np.mean(rmse_list1)\n",
        "\n",
        "# Calculate average scores for individual targets (row-wise average of rmse_list)\n",
        "#avg_rmse_individual = np.mean(rmse_list, axis=0)\n",
        "avg_armse_individual = np.mean(armse1, axis=0)\n",
        "print(\"Average aRRMSE:\", avg_armse)\n",
        "#print(\"Average R-squared:\", avg_r2)\n",
        "#print(\"Average RMSE (uniform average):\", avg_rmse_list1)\n",
        "#print(\"Average RMSE for individual targets:\", avg_rmse_individual)\n",
        "print(\"Average ARMSE for individual targets:\", avg_armse_individual)"
      ],
      "metadata": {
        "colab": {
          "base_uri": "https://localhost:8080/"
        },
        "id": "vozqX6RKNmmX",
        "outputId": "78c23276-8742-43bb-8602-4765a0fded00"
      },
      "execution_count": null,
      "outputs": [
        {
          "output_type": "stream",
          "name": "stdout",
          "text": [
            "Average aRRMSE: 0.6138770969156672\n",
            "Average ARMSE for individual targets: [0.75152505 0.67275086 0.41735538]\n"
          ]
        }
      ]
    },
    {
      "cell_type": "markdown",
      "source": [
        "atp7d"
      ],
      "metadata": {
        "id": "CKlxi-wZwVhp"
      }
    },
    {
      "cell_type": "code",
      "source": [
        "rmse_list=[]\n",
        "rmse_list1=[]\n",
        "r2=[]\n",
        "armse=[]\n",
        "armse1=[]\n",
        "X_scaled=Data_index.values\n",
        "import torch\n",
        "from sklearn.metrics import r2_score\n",
        "# Assuming 'KAN' is a defined class for your model\n",
        "#device = torch.device(\"cuda\" if torch.cuda.is_available() else \"cpu\")\n",
        "model = KAN(width=[411,7,6], grid=6, k=2, seed=1)\n",
        "\n",
        "kf = KFold(n_splits=10, shuffle=True, random_state=1)\n",
        "results = []\n",
        "\n",
        "for train_index, test_index in kf.split(X_scaled):\n",
        "  X_train, X_test = X_scaled[train_index], X_scaled[test_index]\n",
        "  y_train, y_test = label_index.iloc[train_index], label_index.iloc[test_index]\n",
        "  # Convert to tensors\n",
        "  X_train_tensor = torch.tensor(X_train,dtype=torch.float32)\n",
        "  y_train_tensor = torch.tensor(y_train.values, dtype=torch.float32)\n",
        "  X_test_tensor = torch.tensor(X_test, dtype=torch.float32)\n",
        "  y_test_tensor = torch.tensor(y_test.values, dtype=torch.float32)\n",
        "  dataset = {\n",
        "     'train_input': X_train_tensor,\n",
        "      'train_label': y_train_tensor,\n",
        "      'test_input': X_test_tensor,\n",
        "      'test_label': y_test_tensor\n",
        "            }\n",
        "  model.fit(dataset, opt=\"LBFGS\", steps=10,lamb=0.01)\n",
        "  with torch.no_grad():\n",
        "   y_pred = model(X_test_tensor)\n",
        "   y_pred = y_pred.detach().numpy()\n",
        "   # Calculate individual and average RMSE using multi_rmse function\n",
        "   #individual_rmse, avg_rmse = multi_rmse(y_test, y_pred)\n",
        "   arm,arm1=aRRMSE3(y_test, y_pred)\n",
        "   #r=multi_rss1(y_test, y_pred)\n",
        "\n",
        "                    # Append individual and average RMSE to the list\n",
        "   #rmse_list.append(individual_rmse.tolist())\n",
        "   #rmse_list1.append(avg_rmse)\n",
        "   armse.append(arm)\n",
        "   armse1.append(arm1)\n",
        "   #r2.append(r)\n"
      ],
      "metadata": {
        "colab": {
          "base_uri": "https://localhost:8080/"
        },
        "id": "L-1LEzDkr3m_",
        "outputId": "ffec4984-ee6d-4656-ef82-26c778694ee7"
      },
      "execution_count": null,
      "outputs": [
        {
          "output_type": "stream",
          "name": "stdout",
          "text": [
            "checkpoint directory created: ./model\n",
            "saving model version 0.0\n"
          ]
        },
        {
          "output_type": "stream",
          "name": "stderr",
          "text": [
            "| train_loss: 4.24e+01 | test_loss: 5.84e+01 | reg: 1.21e+02 | : 100%|█| 10/10 [00:26<00:00,  2.63s/\n"
          ]
        },
        {
          "output_type": "stream",
          "name": "stdout",
          "text": [
            "saving model version 0.1\n"
          ]
        },
        {
          "output_type": "stream",
          "name": "stderr",
          "text": [
            "| train_loss: 3.65e+01 | test_loss: 5.54e+01 | reg: 1.38e+02 | : 100%|█| 10/10 [00:23<00:00,  2.35s/\n"
          ]
        },
        {
          "output_type": "stream",
          "name": "stdout",
          "text": [
            "saving model version 0.2\n"
          ]
        },
        {
          "output_type": "stream",
          "name": "stderr",
          "text": [
            "| train_loss: 3.44e+01 | test_loss: 6.05e+01 | reg: 1.46e+02 | : 100%|█| 10/10 [00:23<00:00,  2.38s/\n"
          ]
        },
        {
          "output_type": "stream",
          "name": "stdout",
          "text": [
            "saving model version 0.3\n"
          ]
        },
        {
          "output_type": "stream",
          "name": "stderr",
          "text": [
            "| train_loss: 3.51e+01 | test_loss: 3.33e+01 | reg: 2.07e+02 | : 100%|█| 10/10 [00:24<00:00,  2.45s/\n"
          ]
        },
        {
          "output_type": "stream",
          "name": "stdout",
          "text": [
            "saving model version 0.4\n"
          ]
        },
        {
          "output_type": "stream",
          "name": "stderr",
          "text": [
            "| train_loss: 3.31e+01 | test_loss: 4.44e+01 | reg: 1.70e+02 | : 100%|█| 10/10 [00:24<00:00,  2.43s/\n"
          ]
        },
        {
          "output_type": "stream",
          "name": "stdout",
          "text": [
            "saving model version 0.5\n"
          ]
        },
        {
          "output_type": "stream",
          "name": "stderr",
          "text": [
            "| train_loss: 3.33e+01 | test_loss: 3.57e+01 | reg: 1.81e+02 | : 100%|█| 10/10 [00:24<00:00,  2.40s/\n"
          ]
        },
        {
          "output_type": "stream",
          "name": "stdout",
          "text": [
            "saving model version 0.6\n"
          ]
        },
        {
          "output_type": "stream",
          "name": "stderr",
          "text": [
            "| train_loss: 3.24e+01 | test_loss: 3.99e+01 | reg: 1.81e+02 | : 100%|█| 10/10 [00:24<00:00,  2.47s/\n"
          ]
        },
        {
          "output_type": "stream",
          "name": "stdout",
          "text": [
            "saving model version 0.7\n"
          ]
        },
        {
          "output_type": "stream",
          "name": "stderr",
          "text": [
            "| train_loss: 3.23e+01 | test_loss: 3.80e+01 | reg: 3.24e+02 | : 100%|█| 10/10 [00:25<00:00,  2.55s/\n"
          ]
        },
        {
          "output_type": "stream",
          "name": "stdout",
          "text": [
            "saving model version 0.8\n"
          ]
        },
        {
          "output_type": "stream",
          "name": "stderr",
          "text": [
            "| train_loss: 3.23e+01 | test_loss: 3.30e+01 | reg: 3.38e+02 | : 100%|█| 10/10 [00:23<00:00,  2.33s/\n"
          ]
        },
        {
          "output_type": "stream",
          "name": "stdout",
          "text": [
            "saving model version 0.9\n"
          ]
        },
        {
          "output_type": "stream",
          "name": "stderr",
          "text": [
            "| train_loss: 3.08e+01 | test_loss: 4.58e+01 | reg: 1.47e+03 | : 100%|█| 10/10 [00:24<00:00,  2.48s/\n"
          ]
        },
        {
          "output_type": "stream",
          "name": "stdout",
          "text": [
            "saving model version 0.10\n"
          ]
        }
      ]
    },
    {
      "cell_type": "code",
      "source": [
        "avg_armse = np.mean(armse)\n",
        "#avg_r2 = np.mean(r2)\n",
        "##avg_rmse_list1 = np.mean(rmse_list1)\n",
        "\n",
        "# Calculate average scores for individual targets (row-wise average of rmse_list)\n",
        "#avg_rmse_individual = np.mean(rmse_list, axis=0)\n",
        "avg_armse_individual = np.mean(armse1, axis=0)\n",
        "print(\"Average aRRMSE:\", avg_armse)\n",
        "#print(\"Average R-squared:\", avg_r2)\n",
        "#print(\"Average RMSE (uniform average):\", avg_rmse_list1)\n",
        "#print(\"Average RMSE for individual targets:\", avg_rmse_individual)\n",
        "print(\"Average ARMSE for individual targets:\", avg_armse_individual)"
      ],
      "metadata": {
        "colab": {
          "base_uri": "https://localhost:8080/"
        },
        "id": "4uuTNqVhsG0E",
        "outputId": "07acbeb8-c610-4f50-8190-7e4d697c37f4"
      },
      "execution_count": null,
      "outputs": [
        {
          "output_type": "stream",
          "name": "stdout",
          "text": [
            "Average aRRMSE: 0.4958690841966592\n",
            "Average ARMSE for individual targets: [0.65235755 0.48236474 0.49882547 0.34224157 0.6240195  0.37540568]\n"
          ]
        }
      ]
    },
    {
      "cell_type": "markdown",
      "source": [
        "Atp1d"
      ],
      "metadata": {
        "id": "VnGLRBtVhBqR"
      }
    },
    {
      "cell_type": "code",
      "source": [
        "rmse_list=[]\n",
        "rmse_list1=[]\n",
        "r2=[]\n",
        "armse=[]\n",
        "armse1=[]\n",
        "X_scaled=Data_index.values\n",
        "import torch\n",
        "from sklearn.metrics import r2_score\n",
        "# Assuming 'KAN' is a defined class for your model\n",
        "#device = torch.device(\"cuda\" if torch.cuda.is_available() else \"cpu\")\n",
        "model = KAN(width=[411,7,6], grid=6, k=2, seed=1)\n",
        "\n",
        "kf = KFold(n_splits=10, shuffle=True, random_state=1)\n",
        "results = []\n",
        "\n",
        "for train_index, test_index in kf.split(X_scaled):\n",
        "  X_train, X_test = X_scaled[train_index], X_scaled[test_index]\n",
        "  y_train, y_test = label_index.iloc[train_index], label_index.iloc[test_index]\n",
        "  # Convert to tensors\n",
        "  X_train_tensor = torch.tensor(X_train,dtype=torch.float32)\n",
        "  y_train_tensor = torch.tensor(y_train.values, dtype=torch.float32)\n",
        "  X_test_tensor = torch.tensor(X_test, dtype=torch.float32)\n",
        "  y_test_tensor = torch.tensor(y_test.values, dtype=torch.float32)\n",
        "  dataset = {\n",
        "     'train_input': X_train_tensor,\n",
        "      'train_label': y_train_tensor,\n",
        "      'test_input': X_test_tensor,\n",
        "      'test_label': y_test_tensor\n",
        "            }\n",
        "  model.fit(dataset, opt=\"LBFGS\", steps=3,lamb=0.01)\n",
        "  with torch.no_grad():\n",
        "   y_pred = model(X_test_tensor)\n",
        "   y_pred = y_pred.detach().numpy()\n",
        "   # Calculate individual and average RMSE using multi_rmse function\n",
        "   #individual_rmse, avg_rmse = multi_rmse(y_test, y_pred)\n",
        "   arm,arm1=aRRMSE3(y_test, y_pred)\n",
        "   #r=multi_rss1(y_test, y_pred)\n",
        "\n",
        "                    # Append individual and average RMSE to the list\n",
        "   #rmse_list.append(individual_rmse.tolist())\n",
        "   #rmse_list1.append(avg_rmse)\n",
        "   armse.append(arm)\n",
        "   armse1.append(arm1)\n",
        "   #r2.append(r)\n"
      ],
      "metadata": {
        "colab": {
          "base_uri": "https://localhost:8080/"
        },
        "id": "BVlRigIMyMPm",
        "outputId": "910ec1a0-0452-4a6a-cc4f-c4ec3a6e93dd"
      },
      "execution_count": null,
      "outputs": [
        {
          "output_type": "stream",
          "name": "stdout",
          "text": [
            "checkpoint directory created: ./model\n",
            "saving model version 0.0\n"
          ]
        },
        {
          "output_type": "stream",
          "name": "stderr",
          "text": [
            "| train_loss: 6.76e+01 | test_loss: 6.67e+01 | reg: 9.68e+01 | : 100%|█| 3/3 [00:10<00:00,  3.52s/it\n"
          ]
        },
        {
          "output_type": "stream",
          "name": "stdout",
          "text": [
            "saving model version 0.1\n"
          ]
        },
        {
          "output_type": "stream",
          "name": "stderr",
          "text": [
            "| train_loss: 5.77e+01 | test_loss: 7.74e+01 | reg: 1.03e+02 | : 100%|█| 3/3 [00:09<00:00,  3.00s/it\n"
          ]
        },
        {
          "output_type": "stream",
          "name": "stdout",
          "text": [
            "saving model version 0.2\n"
          ]
        },
        {
          "output_type": "stream",
          "name": "stderr",
          "text": [
            "| train_loss: 5.65e+01 | test_loss: 6.82e+01 | reg: 1.10e+02 | : 100%|█| 3/3 [00:08<00:00,  2.83s/it\n"
          ]
        },
        {
          "output_type": "stream",
          "name": "stdout",
          "text": [
            "saving model version 0.3\n"
          ]
        },
        {
          "output_type": "stream",
          "name": "stderr",
          "text": [
            "| train_loss: 5.43e+01 | test_loss: 7.24e+01 | reg: 1.13e+02 | : 100%|█| 3/3 [00:09<00:00,  3.29s/it\n"
          ]
        },
        {
          "output_type": "stream",
          "name": "stdout",
          "text": [
            "saving model version 0.4\n"
          ]
        },
        {
          "output_type": "stream",
          "name": "stderr",
          "text": [
            "| train_loss: 5.45e+01 | test_loss: 5.68e+01 | reg: 1.17e+02 | : 100%|█| 3/3 [00:08<00:00,  2.87s/it\n"
          ]
        },
        {
          "output_type": "stream",
          "name": "stdout",
          "text": [
            "saving model version 0.5\n"
          ]
        },
        {
          "output_type": "stream",
          "name": "stderr",
          "text": [
            "| train_loss: 5.31e+01 | test_loss: 6.42e+01 | reg: 1.18e+02 | : 100%|█| 3/3 [00:08<00:00,  2.95s/it\n"
          ]
        },
        {
          "output_type": "stream",
          "name": "stdout",
          "text": [
            "saving model version 0.6\n"
          ]
        },
        {
          "output_type": "stream",
          "name": "stderr",
          "text": [
            "| train_loss: 5.25e+01 | test_loss: 6.21e+01 | reg: 1.20e+02 | : 100%|█| 3/3 [00:09<00:00,  3.21s/it\n"
          ]
        },
        {
          "output_type": "stream",
          "name": "stdout",
          "text": [
            "saving model version 0.7\n"
          ]
        },
        {
          "output_type": "stream",
          "name": "stderr",
          "text": [
            "| train_loss: 5.22e+01 | test_loss: 6.32e+01 | reg: 1.22e+02 | : 100%|█| 3/3 [00:07<00:00,  2.63s/it\n"
          ]
        },
        {
          "output_type": "stream",
          "name": "stdout",
          "text": [
            "saving model version 0.8\n"
          ]
        },
        {
          "output_type": "stream",
          "name": "stderr",
          "text": [
            "| train_loss: 4.99e+01 | test_loss: 7.36e+01 | reg: 1.23e+02 | : 100%|█| 3/3 [00:09<00:00,  3.07s/it\n"
          ]
        },
        {
          "output_type": "stream",
          "name": "stdout",
          "text": [
            "saving model version 0.9\n"
          ]
        },
        {
          "output_type": "stream",
          "name": "stderr",
          "text": [
            "| train_loss: 5.12e+01 | test_loss: 6.12e+01 | reg: 1.28e+02 | : 100%|█| 3/3 [00:09<00:00,  3.16s/it\n"
          ]
        },
        {
          "output_type": "stream",
          "name": "stdout",
          "text": [
            "saving model version 0.10\n"
          ]
        }
      ]
    },
    {
      "cell_type": "code",
      "source": [
        "avg_armse = np.mean(armse)\n",
        "#avg_r2 = np.mean(r2)\n",
        "##avg_rmse_list1 = np.mean(rmse_list1)\n",
        "\n",
        "# Calculate average scores for individual targets (row-wise average of rmse_list)\n",
        "#avg_rmse_individual = np.mean(rmse_list, axis=0)\n",
        "avg_armse_individual = np.mean(armse1, axis=0)\n",
        "print(\"Average aRRMSE:\", avg_armse)\n",
        "#print(\"Average R-squared:\", avg_r2)\n",
        "#print(\"Average RMSE (uniform average):\", avg_rmse_list1)\n",
        "#print(\"Average RMSE for individual targets:\", avg_rmse_individual)\n",
        "print(\"Average ARMSE for individual targets:\", avg_armse_individual)"
      ],
      "metadata": {
        "colab": {
          "base_uri": "https://localhost:8080/"
        },
        "id": "GiVUUKNJy8oH",
        "outputId": "9ce58fcd-1cf4-4b87-d735-cae31a655543"
      },
      "execution_count": null,
      "outputs": [
        {
          "output_type": "stream",
          "name": "stdout",
          "text": [
            "Average aRRMSE: 0.41105066482642066\n",
            "Average ARMSE for individual targets: [0.48029253 0.3990327  0.4321917  0.3498953  0.45276253 0.35212924]\n"
          ]
        }
      ]
    },
    {
      "cell_type": "markdown",
      "source": [
        "Andro"
      ],
      "metadata": {
        "id": "ptzN9Ii9yDNI"
      }
    },
    {
      "cell_type": "code",
      "source": [
        "rmse_list=[]\n",
        "rmse_list1=[]\n",
        "r2=[]\n",
        "armse=[]\n",
        "armse1=[]\n",
        "X_scaled=Data_index.values\n",
        "import torch\n",
        "from sklearn.metrics import r2_score\n",
        "# Assuming 'KAN' is a defined class for your model\n",
        "#device = torch.device(\"cuda\" if torch.cuda.is_available() else \"cpu\")\n",
        "model = KAN(width=[30,7,6], grid=6, k=2, seed=1)\n",
        "\n",
        "kf = KFold(n_splits=10, shuffle=True, random_state=1)\n",
        "results = []\n",
        "\n",
        "for train_index, test_index in kf.split(X_scaled):\n",
        "  X_train, X_test = X_scaled[train_index], X_scaled[test_index]\n",
        "  y_train, y_test = label_index.iloc[train_index], label_index.iloc[test_index]\n",
        "  # Convert to tensors\n",
        "  X_train_tensor = torch.tensor(X_train,dtype=torch.float32)\n",
        "  y_train_tensor = torch.tensor(y_train.values, dtype=torch.float32)\n",
        "  X_test_tensor = torch.tensor(X_test, dtype=torch.float32)\n",
        "  y_test_tensor = torch.tensor(y_test.values, dtype=torch.float32)\n",
        "  dataset = {\n",
        "     'train_input': X_train_tensor,\n",
        "      'train_label': y_train_tensor,\n",
        "      'test_input': X_test_tensor,\n",
        "      'test_label': y_test_tensor\n",
        "            }\n",
        "  model.fit(dataset, opt=\"LBFGS\", steps=50,lamb=0.01)\n",
        "  with torch.no_grad():\n",
        "   y_pred = model(X_test_tensor)\n",
        "   y_pred = y_pred.detach().numpy()\n",
        "   # Calculate individual and average RMSE using multi_rmse function\n",
        "   #individual_rmse, avg_rmse = multi_rmse(y_test, y_pred)\n",
        "   arm,arm1=aRRMSE3(y_test, y_pred)\n",
        "   #r=multi_rss1(y_test, y_pred)\n",
        "\n",
        "                    # Append individual and average RMSE to the list\n",
        "   #rmse_list.append(individual_rmse.tolist())\n",
        "   #rmse_list1.append(avg_rmse)\n",
        "   armse.append(arm)\n",
        "   armse1.append(arm1)\n",
        "   #r2.append(r)\n",
        "\n",
        "\n"
      ],
      "metadata": {
        "colab": {
          "base_uri": "https://localhost:8080/"
        },
        "id": "FQb5YxcExHEO",
        "outputId": "2ebd5f46-b4ec-4177-cbe4-21dff7baae82"
      },
      "execution_count": null,
      "outputs": [
        {
          "output_type": "stream",
          "name": "stdout",
          "text": [
            "checkpoint directory created: ./model\n",
            "saving model version 0.0\n"
          ]
        },
        {
          "output_type": "stream",
          "name": "stderr",
          "text": [
            "| train_loss: 6.65e-01 | test_loss: 6.47e+00 | reg: 6.16e+01 | : 100%|█| 50/50 [00:17<00:00,  2.90it\n"
          ]
        },
        {
          "output_type": "stream",
          "name": "stdout",
          "text": [
            "saving model version 0.1\n"
          ]
        },
        {
          "output_type": "stream",
          "name": "stderr",
          "text": [
            "| train_loss: 2.21e-01 | test_loss: 2.69e+00 | reg: 5.40e+01 | : 100%|█| 50/50 [00:14<00:00,  3.52it\n"
          ]
        },
        {
          "output_type": "stream",
          "name": "stdout",
          "text": [
            "saving model version 0.2\n"
          ]
        },
        {
          "output_type": "stream",
          "name": "stderr",
          "text": [
            "| train_loss: 1.98e-01 | test_loss: 1.51e+00 | reg: 5.09e+01 | : 100%|█| 50/50 [00:14<00:00,  3.44it\n"
          ]
        },
        {
          "output_type": "stream",
          "name": "stdout",
          "text": [
            "saving model version 0.3\n"
          ]
        },
        {
          "output_type": "stream",
          "name": "stderr",
          "text": [
            "| train_loss: 1.74e-01 | test_loss: 1.23e+00 | reg: 4.68e+01 | : 100%|█| 50/50 [00:14<00:00,  3.39it\n"
          ]
        },
        {
          "output_type": "stream",
          "name": "stdout",
          "text": [
            "saving model version 0.4\n"
          ]
        },
        {
          "output_type": "stream",
          "name": "stderr",
          "text": [
            "| train_loss: 1.46e-01 | test_loss: 1.22e+00 | reg: 4.38e+01 | : 100%|█| 50/50 [00:16<00:00,  3.02it\n"
          ]
        },
        {
          "output_type": "stream",
          "name": "stdout",
          "text": [
            "saving model version 0.5\n"
          ]
        },
        {
          "output_type": "stream",
          "name": "stderr",
          "text": [
            "| train_loss: 1.37e-01 | test_loss: 1.35e+00 | reg: 4.39e+01 | : 100%|█| 50/50 [00:14<00:00,  3.48it\n"
          ]
        },
        {
          "output_type": "stream",
          "name": "stdout",
          "text": [
            "saving model version 0.6\n"
          ]
        },
        {
          "output_type": "stream",
          "name": "stderr",
          "text": [
            "| train_loss: 1.22e-01 | test_loss: 6.72e-01 | reg: 4.23e+01 | : 100%|█| 50/50 [00:14<00:00,  3.53it\n"
          ]
        },
        {
          "output_type": "stream",
          "name": "stdout",
          "text": [
            "saving model version 0.7\n"
          ]
        },
        {
          "output_type": "stream",
          "name": "stderr",
          "text": [
            "| train_loss: 1.22e-01 | test_loss: 6.31e-01 | reg: 4.20e+01 | : 100%|█| 50/50 [00:14<00:00,  3.51it\n"
          ]
        },
        {
          "output_type": "stream",
          "name": "stdout",
          "text": [
            "saving model version 0.8\n"
          ]
        },
        {
          "output_type": "stream",
          "name": "stderr",
          "text": [
            "| train_loss: 1.14e-01 | test_loss: 2.28e+00 | reg: 3.99e+01 | : 100%|█| 50/50 [00:14<00:00,  3.37it\n"
          ]
        },
        {
          "output_type": "stream",
          "name": "stdout",
          "text": [
            "saving model version 0.9\n"
          ]
        },
        {
          "output_type": "stream",
          "name": "stderr",
          "text": [
            "| train_loss: 1.18e-01 | test_loss: 6.80e-01 | reg: 3.98e+01 | : 100%|█| 50/50 [00:14<00:00,  3.54it"
          ]
        },
        {
          "output_type": "stream",
          "name": "stdout",
          "text": [
            "saving model version 0.10\n"
          ]
        },
        {
          "output_type": "stream",
          "name": "stderr",
          "text": [
            "\n"
          ]
        }
      ]
    },
    {
      "cell_type": "code",
      "source": [
        "avg_armse = np.mean(armse)\n",
        "#avg_r2 = np.mean(r2)\n",
        "##avg_rmse_list1 = np.mean(rmse_list1)\n",
        "\n",
        "# Calculate average scores for individual targets (row-wise average of rmse_list)\n",
        "#avg_rmse_individual = np.mean(rmse_list, axis=0)\n",
        "avg_armse_individual = np.mean(armse1, axis=0)\n",
        "print(\"Average aRRMSE:\", avg_armse)\n",
        "#print(\"Average R-squared:\", avg_r2)\n",
        "#print(\"Average RMSE (uniform average):\", avg_rmse_list1)\n",
        "#print(\"Average RMSE for individual targets:\", avg_rmse_individual)\n",
        "print(\"Average ARMSE for individual targets:\", avg_armse_individual)"
      ],
      "metadata": {
        "colab": {
          "base_uri": "https://localhost:8080/"
        },
        "id": "GbTri8gSxNV4",
        "outputId": "60810f73-955c-4518-bbfa-e8b04b40d015"
      },
      "execution_count": null,
      "outputs": [
        {
          "output_type": "stream",
          "name": "stdout",
          "text": [
            "Average aRRMSE: 0.43127690993879486\n",
            "Average ARMSE for individual targets: [0.32662156 1.26903476 0.23646926 0.2302176  0.25394388 0.2713744 ]\n"
          ]
        }
      ]
    },
    {
      "cell_type": "markdown",
      "source": [
        "JURA"
      ],
      "metadata": {
        "id": "i3k_2BXjw36T"
      }
    },
    {
      "cell_type": "code",
      "execution_count": null,
      "metadata": {
        "colab": {
          "base_uri": "https://localhost:8080/"
        },
        "id": "DYFeJ4ypyLxs",
        "outputId": "ed53ca33-8830-4482-a3a6-141aabe280ca"
      },
      "outputs": [
        {
          "output_type": "stream",
          "name": "stdout",
          "text": [
            "checkpoint directory created: ./model\n",
            "saving model version 0.0\n"
          ]
        },
        {
          "output_type": "stream",
          "name": "stderr",
          "text": [
            "| train_loss: 1.40e+01 | test_loss: 9.74e+00 | reg: 7.00e+01 | : 100%|█| 10/10 [00:07<00:00,  1.33it\n"
          ]
        },
        {
          "output_type": "stream",
          "name": "stdout",
          "text": [
            "saving model version 0.1\n"
          ]
        },
        {
          "output_type": "stream",
          "name": "stderr",
          "text": [
            "| train_loss: 1.22e+01 | test_loss: 1.37e+01 | reg: 1.10e+02 | : 100%|█| 10/10 [00:03<00:00,  2.80it\n"
          ]
        },
        {
          "output_type": "stream",
          "name": "stdout",
          "text": [
            "saving model version 0.2\n"
          ]
        },
        {
          "output_type": "stream",
          "name": "stderr",
          "text": [
            "| train_loss: 1.13e+01 | test_loss: 1.61e+01 | reg: 1.25e+02 | : 100%|█| 10/10 [00:03<00:00,  2.90it\n"
          ]
        },
        {
          "output_type": "stream",
          "name": "stdout",
          "text": [
            "saving model version 0.3\n"
          ]
        },
        {
          "output_type": "stream",
          "name": "stderr",
          "text": [
            "| train_loss: 9.98e+00 | test_loss: 2.27e+01 | reg: 1.26e+02 | : 100%|█| 10/10 [00:04<00:00,  2.20it\n"
          ]
        },
        {
          "output_type": "stream",
          "name": "stdout",
          "text": [
            "saving model version 0.4\n"
          ]
        },
        {
          "output_type": "stream",
          "name": "stderr",
          "text": [
            "| train_loss: 9.89e+00 | test_loss: 1.26e+01 | reg: 1.51e+02 | : 100%|█| 10/10 [00:03<00:00,  2.50it\n"
          ]
        },
        {
          "output_type": "stream",
          "name": "stdout",
          "text": [
            "saving model version 0.5\n"
          ]
        },
        {
          "output_type": "stream",
          "name": "stderr",
          "text": [
            "| train_loss: 7.64e+00 | test_loss: 2.41e+01 | reg: 1.65e+02 | : 100%|█| 10/10 [00:03<00:00,  2.89it\n"
          ]
        },
        {
          "output_type": "stream",
          "name": "stdout",
          "text": [
            "saving model version 0.6\n"
          ]
        },
        {
          "output_type": "stream",
          "name": "stderr",
          "text": [
            "| train_loss: 8.75e+00 | test_loss: 8.14e+00 | reg: 1.90e+02 | : 100%|█| 10/10 [00:03<00:00,  2.83it\n"
          ]
        },
        {
          "output_type": "stream",
          "name": "stdout",
          "text": [
            "saving model version 0.7\n"
          ]
        },
        {
          "output_type": "stream",
          "name": "stderr",
          "text": [
            "| train_loss: 8.15e+00 | test_loss: 1.31e+01 | reg: 1.98e+02 | : 100%|█| 10/10 [00:04<00:00,  2.08it\n"
          ]
        },
        {
          "output_type": "stream",
          "name": "stdout",
          "text": [
            "saving model version 0.8\n"
          ]
        },
        {
          "output_type": "stream",
          "name": "stderr",
          "text": [
            "| train_loss: 8.25e+00 | test_loss: 1.07e+01 | reg: 2.06e+02 | : 100%|█| 10/10 [00:03<00:00,  2.61it\n"
          ]
        },
        {
          "output_type": "stream",
          "name": "stdout",
          "text": [
            "saving model version 0.9\n"
          ]
        },
        {
          "output_type": "stream",
          "name": "stderr",
          "text": [
            "| train_loss: 9.11e+00 | test_loss: 1.34e+01 | reg: 5.44e+02 | : 100%|█| 10/10 [00:03<00:00,  2.80it"
          ]
        },
        {
          "output_type": "stream",
          "name": "stdout",
          "text": [
            "saving model version 0.10\n"
          ]
        },
        {
          "output_type": "stream",
          "name": "stderr",
          "text": [
            "\n"
          ]
        }
      ],
      "source": [
        "rmse_list=[]\n",
        "rmse_list1=[]\n",
        "r2=[]\n",
        "armse=[]\n",
        "armse1=[]\n",
        "X_scaled=Data_index.values\n",
        "import torch\n",
        "from sklearn.metrics import r2_score\n",
        "# Assuming 'KAN' is a defined class for your model\n",
        "#device = torch.device(\"cuda\" if torch.cuda.is_available() else \"cpu\")\n",
        "model = KAN(width=[15,7,3], grid=6, k=2, seed=1)\n",
        "\n",
        "kf = KFold(n_splits=10, shuffle=True, random_state=1)\n",
        "results = []\n",
        "\n",
        "for train_index, test_index in kf.split(X_scaled):\n",
        "  X_train, X_test = X_scaled[train_index], X_scaled[test_index]\n",
        "  y_train, y_test = label_index.iloc[train_index], label_index.iloc[test_index]\n",
        "  # Convert to tensors\n",
        "  X_train_tensor = torch.tensor(X_train,dtype=torch.float32)\n",
        "  y_train_tensor = torch.tensor(y_train.values, dtype=torch.float32)\n",
        "  X_test_tensor = torch.tensor(X_test, dtype=torch.float32)\n",
        "  y_test_tensor = torch.tensor(y_test.values, dtype=torch.float32)\n",
        "  dataset = {\n",
        "     'train_input': X_train_tensor,\n",
        "      'train_label': y_train_tensor,\n",
        "      'test_input': X_test_tensor,\n",
        "      'test_label': y_test_tensor\n",
        "            }\n",
        "  model.fit(dataset, opt=\"LBFGS\", steps=10,lamb=0.01)\n",
        "  with torch.no_grad():\n",
        "   y_pred = model(X_test_tensor)\n",
        "   y_pred = y_pred.detach().numpy()\n",
        "   # Calculate individual and average RMSE using multi_rmse function\n",
        "   #individual_rmse, avg_rmse = multi_rmse(y_test, y_pred)\n",
        "   arm,arm1=aRRMSE3(y_test, y_pred)\n",
        "   #r=multi_rss1(y_test, y_pred)\n",
        "\n",
        "                    # Append individual and average RMSE to the list\n",
        "   #rmse_list.append(individual_rmse.tolist())\n",
        "   #rmse_list1.append(avg_rmse)\n",
        "   armse.append(arm)\n",
        "   armse1.append(arm1)\n",
        "   #r2.append(r)\n",
        "\n",
        "\n"
      ]
    },
    {
      "cell_type": "code",
      "execution_count": null,
      "metadata": {
        "colab": {
          "base_uri": "https://localhost:8080/"
        },
        "id": "KjboXNeKyPkD",
        "outputId": "413d50cf-5dcb-4f4d-e072-07fd7566093a"
      },
      "outputs": [
        {
          "output_type": "stream",
          "name": "stdout",
          "text": [
            "Average aRRMSE: 0.7758176164797207\n",
            "Average ARMSE for individual targets: [0.72710965 0.887155   0.7131882 ]\n"
          ]
        }
      ],
      "source": [
        "avg_armse = np.mean(armse)\n",
        "#avg_r2 = np.mean(r2)\n",
        "##avg_rmse_list1 = np.mean(rmse_list1)\n",
        "\n",
        "# Calculate average scores for individual targets (row-wise average of rmse_list)\n",
        "#avg_rmse_individual = np.mean(rmse_list, axis=0)\n",
        "avg_armse_individual = np.mean(armse1, axis=0)\n",
        "print(\"Average aRRMSE:\", avg_armse)\n",
        "#print(\"Average R-squared:\", avg_r2)\n",
        "#print(\"Average RMSE (uniform average):\", avg_rmse_list1)\n",
        "#print(\"Average RMSE for individual targets:\", avg_rmse_individual)\n",
        "print(\"Average ARMSE for individual targets:\", avg_armse_individual)\n"
      ]
    },
    {
      "cell_type": "markdown",
      "metadata": {
        "id": "SaekCDQzyIWV"
      },
      "source": [
        "EDM\n"
      ]
    },
    {
      "cell_type": "code",
      "execution_count": null,
      "metadata": {
        "colab": {
          "base_uri": "https://localhost:8080/"
        },
        "id": "9M0uRsGx4MKg",
        "outputId": "cbd05be0-d43f-4c2b-ccba-e245a653a249"
      },
      "outputs": [
        {
          "name": "stdout",
          "output_type": "stream",
          "text": [
            "checkpoint directory created: ./model\n",
            "saving model version 0.0\n"
          ]
        },
        {
          "name": "stderr",
          "output_type": "stream",
          "text": [
            "| train_loss: 1.82e-01 | test_loss: 4.80e-01 | reg: 3.59e+01 | : 100%|█| 10/10 [00:02<00:00,  4.11it\n",
            "/usr/local/lib/python3.10/dist-packages/sklearn/metrics/_regression.py:492: FutureWarning: 'squared' is deprecated in version 1.4 and will be removed in 1.6. To calculate the root mean squared error, use the function'root_mean_squared_error'.\n",
            "  warnings.warn(\n"
          ]
        },
        {
          "name": "stdout",
          "output_type": "stream",
          "text": [
            "saving model version 0.1\n"
          ]
        },
        {
          "name": "stderr",
          "output_type": "stream",
          "text": [
            "| train_loss: 1.31e-01 | test_loss: 4.82e-01 | reg: 3.38e+01 | : 100%|█| 10/10 [00:02<00:00,  4.57it\n",
            "/usr/local/lib/python3.10/dist-packages/sklearn/metrics/_regression.py:492: FutureWarning: 'squared' is deprecated in version 1.4 and will be removed in 1.6. To calculate the root mean squared error, use the function'root_mean_squared_error'.\n",
            "  warnings.warn(\n"
          ]
        },
        {
          "name": "stdout",
          "output_type": "stream",
          "text": [
            "saving model version 0.2\n"
          ]
        },
        {
          "name": "stderr",
          "output_type": "stream",
          "text": [
            "| train_loss: 1.22e-01 | test_loss: 4.70e-01 | reg: 3.43e+01 | : 100%|█| 10/10 [00:01<00:00,  5.07it\n",
            "/usr/local/lib/python3.10/dist-packages/sklearn/metrics/_regression.py:492: FutureWarning: 'squared' is deprecated in version 1.4 and will be removed in 1.6. To calculate the root mean squared error, use the function'root_mean_squared_error'.\n",
            "  warnings.warn(\n"
          ]
        },
        {
          "name": "stdout",
          "output_type": "stream",
          "text": [
            "saving model version 0.3\n"
          ]
        },
        {
          "name": "stderr",
          "output_type": "stream",
          "text": [
            "| train_loss: 1.32e-01 | test_loss: 3.12e-01 | reg: 3.32e+01 | : 100%|█| 10/10 [00:02<00:00,  4.77it\n",
            "/usr/local/lib/python3.10/dist-packages/sklearn/metrics/_regression.py:492: FutureWarning: 'squared' is deprecated in version 1.4 and will be removed in 1.6. To calculate the root mean squared error, use the function'root_mean_squared_error'.\n",
            "  warnings.warn(\n"
          ]
        },
        {
          "name": "stdout",
          "output_type": "stream",
          "text": [
            "saving model version 0.4\n"
          ]
        },
        {
          "name": "stderr",
          "output_type": "stream",
          "text": [
            "| train_loss: 1.20e-01 | test_loss: 2.73e-01 | reg: 3.27e+01 | : 100%|█| 10/10 [00:02<00:00,  3.83it\n",
            "/usr/local/lib/python3.10/dist-packages/sklearn/metrics/_regression.py:492: FutureWarning: 'squared' is deprecated in version 1.4 and will be removed in 1.6. To calculate the root mean squared error, use the function'root_mean_squared_error'.\n",
            "  warnings.warn(\n"
          ]
        },
        {
          "name": "stdout",
          "output_type": "stream",
          "text": [
            "saving model version 0.5\n"
          ]
        },
        {
          "name": "stderr",
          "output_type": "stream",
          "text": [
            "| train_loss: 1.16e-01 | test_loss: 2.31e-01 | reg: 3.14e+01 | : 100%|█| 10/10 [00:02<00:00,  3.69it\n",
            "/usr/local/lib/python3.10/dist-packages/sklearn/metrics/_regression.py:492: FutureWarning: 'squared' is deprecated in version 1.4 and will be removed in 1.6. To calculate the root mean squared error, use the function'root_mean_squared_error'.\n",
            "  warnings.warn(\n"
          ]
        },
        {
          "name": "stdout",
          "output_type": "stream",
          "text": [
            "saving model version 0.6\n"
          ]
        },
        {
          "name": "stderr",
          "output_type": "stream",
          "text": [
            "| train_loss: 1.14e-01 | test_loss: 2.57e-01 | reg: 3.17e+01 | : 100%|█| 10/10 [00:01<00:00,  5.14it\n",
            "/usr/local/lib/python3.10/dist-packages/sklearn/metrics/_regression.py:492: FutureWarning: 'squared' is deprecated in version 1.4 and will be removed in 1.6. To calculate the root mean squared error, use the function'root_mean_squared_error'.\n",
            "  warnings.warn(\n"
          ]
        },
        {
          "name": "stdout",
          "output_type": "stream",
          "text": [
            "saving model version 0.7\n"
          ]
        },
        {
          "name": "stderr",
          "output_type": "stream",
          "text": [
            "| train_loss: 1.08e-01 | test_loss: 2.94e-01 | reg: 3.13e+01 | : 100%|█| 10/10 [00:02<00:00,  4.88it\n",
            "/usr/local/lib/python3.10/dist-packages/sklearn/metrics/_regression.py:492: FutureWarning: 'squared' is deprecated in version 1.4 and will be removed in 1.6. To calculate the root mean squared error, use the function'root_mean_squared_error'.\n",
            "  warnings.warn(\n"
          ]
        },
        {
          "name": "stdout",
          "output_type": "stream",
          "text": [
            "saving model version 0.8\n"
          ]
        },
        {
          "name": "stderr",
          "output_type": "stream",
          "text": [
            "| train_loss: 1.09e-01 | test_loss: 1.25e-01 | reg: 3.12e+01 | : 100%|█| 10/10 [00:01<00:00,  5.20it\n",
            "/usr/local/lib/python3.10/dist-packages/sklearn/metrics/_regression.py:492: FutureWarning: 'squared' is deprecated in version 1.4 and will be removed in 1.6. To calculate the root mean squared error, use the function'root_mean_squared_error'.\n",
            "  warnings.warn(\n"
          ]
        },
        {
          "name": "stdout",
          "output_type": "stream",
          "text": [
            "saving model version 0.9\n"
          ]
        },
        {
          "name": "stderr",
          "output_type": "stream",
          "text": [
            "| train_loss: 1.02e-01 | test_loss: 2.56e-01 | reg: 3.03e+01 | : 100%|█| 10/10 [00:01<00:00,  5.22it"
          ]
        },
        {
          "name": "stdout",
          "output_type": "stream",
          "text": [
            "saving model version 0.10\n"
          ]
        },
        {
          "name": "stderr",
          "output_type": "stream",
          "text": [
            "\n",
            "/usr/local/lib/python3.10/dist-packages/sklearn/metrics/_regression.py:492: FutureWarning: 'squared' is deprecated in version 1.4 and will be removed in 1.6. To calculate the root mean squared error, use the function'root_mean_squared_error'.\n",
            "  warnings.warn(\n"
          ]
        }
      ],
      "source": [
        "rmse_list=[]\n",
        "rmse_list1=[]\n",
        "r2=[]\n",
        "armse=[]\n",
        "armse1=[]\n",
        "X_scaled=Data_index.values\n",
        "import torch\n",
        "from sklearn.metrics import r2_score\n",
        "# Assuming 'KAN' is a defined class for your model\n",
        "#device = torch.device(\"cuda\" if torch.cuda.is_available() else \"cpu\")\n",
        "model = KAN(width=[16,3,2], grid=4, k=2, seed=1)\n",
        "\n",
        "kf = KFold(n_splits=10, shuffle=True, random_state=42)\n",
        "results = []\n",
        "\n",
        "for train_index, test_index in kf.split(X_scaled):\n",
        "  X_train, X_test = X_scaled[train_index], X_scaled[test_index]\n",
        "  y_train, y_test = label_index.iloc[train_index], label_index.iloc[test_index]\n",
        "  # Convert to tensors\n",
        "  X_train_tensor = torch.tensor(X_train,dtype=torch.float32)\n",
        "  y_train_tensor = torch.tensor(y_train.values, dtype=torch.float32)\n",
        "  X_test_tensor = torch.tensor(X_test, dtype=torch.float32)\n",
        "  y_test_tensor = torch.tensor(y_test.values, dtype=torch.float32)\n",
        "  dataset = {\n",
        "     'train_input': X_train_tensor,\n",
        "      'train_label': y_train_tensor,\n",
        "      'test_input': X_test_tensor,\n",
        "      'test_label': y_test_tensor\n",
        "            }\n",
        "  model.fit(dataset, opt=\"LBFGS\", steps=10,lamb=0.001)\n",
        "  with torch.no_grad():\n",
        "   y_pred = model(X_test_tensor)\n",
        "   y_pred = y_pred.detach().numpy()\n",
        "   # Calculate individual and average RMSE using multi_rmse function\n",
        "   individual_rmse, avg_rmse = multi_rmse(y_test, y_pred)\n",
        "   arm,arm1=aRRMSE3(y_test, y_pred)\n",
        "   r=multi_rss1(y_test, y_pred)\n",
        "\n",
        "                    # Append individual and average RMSE to the list\n",
        "   rmse_list.append(individual_rmse.tolist())\n",
        "   rmse_list1.append(avg_rmse)\n",
        "   armse.append(arm)\n",
        "   armse1.append(arm1)\n",
        "   r2.append(r)\n",
        "\n",
        "\n"
      ]
    },
    {
      "cell_type": "code",
      "execution_count": null,
      "metadata": {
        "colab": {
          "base_uri": "https://localhost:8080/"
        },
        "id": "ki5IP-hn4UCY",
        "outputId": "e5bafedc-2f62-409e-8fea-0a2941035b77"
      },
      "outputs": [
        {
          "name": "stdout",
          "output_type": "stream",
          "text": [
            "Average aRRMSE: 0.5870940639613513\n",
            "Average R-squared: 0.5466774071094725\n",
            "Average RMSE (uniform average): 0.11431656763777187\n",
            "Average RMSE for individual targets: [0.21011837 0.3935142 ]\n",
            "Average ARMSE for individual targets: [0.54872229 0.62546584]\n"
          ]
        }
      ],
      "source": [
        "avg_armse = np.mean(armse)\n",
        "avg_r2 = np.mean(r2)\n",
        "avg_rmse_list1 = np.mean(rmse_list1)\n",
        "\n",
        "# Calculate average scores for individual targets (row-wise average of rmse_list)\n",
        "avg_rmse_individual = np.mean(rmse_list, axis=0)\n",
        "avg_armse_individual = np.mean(armse1, axis=0)\n",
        "print(\"Average aRRMSE:\", avg_armse)\n",
        "print(\"Average R-squared:\", avg_r2)\n",
        "print(\"Average RMSE (uniform average):\", avg_rmse_list1)\n",
        "print(\"Average RMSE for individual targets:\", avg_rmse_individual)\n",
        "print(\"Average ARMSE for individual targets:\", avg_armse_individual)\n"
      ]
    }
  ],
  "metadata": {
    "colab": {
      "provenance": []
    },
    "kernelspec": {
      "display_name": "Python 3",
      "name": "python3"
    },
    "language_info": {
      "name": "python"
    }
  },
  "nbformat": 4,
  "nbformat_minor": 0
}